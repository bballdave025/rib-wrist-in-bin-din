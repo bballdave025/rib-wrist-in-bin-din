{
  "nbformat": 4,
  "nbformat_minor": 0,
  "metadata": {
    "colab": {
      "provenance": [],
      "authorship_tag": "ABX9TyNGe8VUsHTpiSLfonxzZAh3",
      "include_colab_link": true
    },
    "kernelspec": {
      "name": "python3",
      "display_name": "Python 3"
    },
    "language_info": {
      "name": "python"
    }
  },
  "cells": [
    {
      "cell_type": "markdown",
      "metadata": {
        "id": "view-in-github",
        "colab_type": "text"
      },
      "source": [
        "<a href=\"https://colab.research.google.com/github/bballdave025/rib-wrist-in-bin-din/blob/colab-02-20250423T013000-cnn-gradcam/Paper_Code_Prep_01.ipynb\" target=\"_parent\"><img src=\"https://colab.research.google.com/assets/colab-badge.svg\" alt=\"Open In Colab\"/></a>"
      ]
    },
    {
      "cell_type": "markdown",
      "source": [
        "# Basic Model Structures for RMFB Paper<br/>Part I: CNN Baseline and No-Frills Resnet50"
      ],
      "metadata": {
        "id": "v7HLCE5MhepV"
      }
    },
    {
      "cell_type": "markdown",
      "source": [
        "## Rebuilding All Models with Latest Versions as well as<br/>Doing Learned Visualization of Architecture Structure<sup>\\[NB1\\]\\[NB2\\]\\[NB3\\]</sup><br/>and Especially Grad-CAM<sup>\\[NB4\\]</sup> Visual Classification Explanations  "
      ],
      "metadata": {
        "id": "yoS2pEW-yXmW"
      }
    },
    {
      "cell_type": "markdown",
      "source": [
        "David BLACK, GitHub @bballdave025 ,\n",
        "\n",
        "Working Title for Technical Paper: &quot;AI Computer Vision Methods for\n",
        "Finding Information-bearing Writing Surfaces (Especially Codex Fragments) Reused in Other Codex Bindings&quot;\n",
        "\n",
        "Working Title for <em>Fragmentology</em><sup>[NB5]</sup>\n",
        "(Manuscript Studies) Paper: None Yet\n",
        "(It would be nice to have some statistics.)"
      ],
      "metadata": {
        "id": "wA_FVw676E1_"
      }
    },
    {
      "cell_type": "markdown",
      "source": [
        "#### Why these Notebooks?\n",
        "\n",
        "There are several reasons for writing these notebooks and doing these various visualizations. The most acceptable (I almost put that in quotation marks; I mean the most-what-employers-or-theoretical-AI/ML-people-would-like-to-hear) answers are: <br/>&nbsp;&nbsp;&nbsp;1) I want to give <strong>greater explainability of the CV model  decisions</strong>,  especially as it relates to the audience of the paper and their acceptance of a non-manual, non-human method, possibly seen as an intruder  into the Manuscript Studies community. I think that if they see the model  making decisions in the same way that <em>they</em> would make decisions, they will be more likely to see it as an aide doing such things as allowing grad students to analyze fragments rather than finding them. For clarity, I mention that the audience consists of the readers of the Binding-Fragment paper to be submitted to <em>Fragmentology</em>; <br/>&nbsp;&nbsp;&nbsp;2) I want to make better decisions as to which model will most-likely make the <strong>goal of ~95% precision and ~70% recall possible on a wide variety of writing-material and binding images</strong>. The ultimate goal for (this stage of) the study is to run the algorithm over as many of FamilySearch's earliest-to-18th Century images (let's make it readable: images from the earliest records they have up to the 1700s) as possible. Through the analysis and visualization of how well the chosen model or models performs, we can have higher confidence that an eventual <strong>one run</strong> over what I'll estimate as 0.5 to 1 billion images with a thoroughly tested and understood/explainable model will <strong>suffice for at least a decade</strong>. <br/>&nbsp;&nbsp;&nbsp;3) (This is a long one.) Especially with the Grad-CAM visualizations of the salient features for model decisions, I want to have something to <strong>show to the Manuscript Studies/Fragmentology community that will get them excited</strong> about <em>helping us</em> to <em>create better training sets</em> and to <em>help create new training sets for interesting phenomena/occurences</em> (for lack of a better word describing what each of the classifications describes). I think that the best example of this is to create a model (or add to the existing model) the search for images that not only have iron-gall-ink damage to the point of going through the page (something I have tried to do without expertise), but which are at different stages<sup>\\[NB5\\]</sup> of the iron-gall-ink (and other corrosive dye) damage process. I'm also going to face the fact that, even as concerns the main object of study—fragments found in bindings—I'm perhaps passingly knowledgeable but by no means an expert. Seeing heat maps describing what the model thinks is most important in finding a specific images I've classified should make this a more interesting invitation, as it allows quick view of the types of phenomena such models can find in and on writing materials, bindings, etc.\n",
        "\n",
        "For my estimate of the sum total of such documents, I make reference to the <em>Company Facts</em> page on FamilySearch [as I see it now (archived with numbers updated 2025-04-07)](https://web.archive.org/web/20250423044740/https://www.familysearch.org/en/newsroom/company-facts), which reports \"5.65 Billion \\[Digital Images Published\\]\" . For a second opinion, I've looked at the running counter of images digitized at https://www.familysearch.org/en/records/images/, which is at \\[let me go take a screenshot\\]\n",
        "\n",
        "<br/>\n",
        "<div>\n",
        "  <img src=\"https://raw.githubusercontent.com/bballdave025/rib-wrist-in-bin-din/refs/heads/main/FamilySearch_5667347462_5point667-B_Images_2025-04-22T113500-0600.png\"\n",
        "       alt=\"Screenshot of family search dot org forward slash E N forward slash records forward slash images. Tab name is. QUOTE. Explore Historical Images. END QUOTE. Visible text is. QUOTE. Access billions of documents newline FamilySearch has been collecting historical documents since eighteen ninety four and currently has. Left square bracket. Transcriber's note colon. Number in short scale, i.e. without milliard, billiard, et cetera, so ten to the ninth is read billion, ten to the twelfth is read trillion, et cetera. Right bracket. five billion six hundred sixty-seven million, three hundred forty-seven thousand four hundred sixty-one images from all over the world. That makes FamilySearch one of the world's largest collections of historical documents exclamation point. END QUOTE. Bottom toolbar shows eleven colon thirty-five A M. and. four slash twenty-two forward slash two thousand twenty-five. Left Bracket. Date format is as in the stupid U S A format comma month slash day slash year. Right Bracket. An errow points from the annotated text. QUOTE. M D T. Left parenthesis. G M T minus six Right parenthesis. END QUOTE. to the time and date.\"\n",
        "       width=\"500px\">\n",
        "</div>\n",
        "<br/>\n",
        "\n",
        "5,667,347,461 (five billion six hundred sixty-seven million, three hundred forty-seven thousand four hundred sixty-one) images. The type of binding we're seeking is most-commonly found in Western and Central Europe going into Russia and Persia, with some around the Mediterranean—including Muslim and Jewish records—the Near East, and the Americas—mostly (Catholic) South America. Since I think that records from the current United States of America probably take up at least a third of all digital images published, and Western/Central Europe <em>at least</em> one quarter of the remaining digital images, my guess is that a search in those geographical regions from the earliest date for which FamilySearch has records to 1799 will yield approximately<br/>$ \\frac{2}{3} \\cdot \\frac{1}{4} \\cdot 5.66 \\times 10^{9} $ images or $ 9.45 \\times 10^{8} \\left(\\substack{+9e8 \\\\ -5e9} \\: \\mathrm{systematic}\\right) \\left(\\pm 0.25e9 \\;  \\mathrm{who} \\! \\cdot \\! \\mathrm{knows}\\right) $,<br/>$ \\frac{1}{6}\\;\\mathrm{ish} $ of the records, 500 million to 1.5 billion (again, very $ \\mathrm{ish} $).<br/>(Note that my methodology will let in records from the 1800s and even a few from the 1900s, but not on purpose.)\n",
        "\n",
        "The current study will include around hundreds of thousands of images, with an approximate guess of half being from FamilySearch, for the intial study and publication in <em>Fragmentology</em>. This study entails at least thousands of images, up to tens of thousands, for the training, validation, and test sets. (That is, tens of thousands of images split into the three sets.)"
      ],
      "metadata": {
        "id": "hKsG7S_F6ZP-"
      }
    },
    {
      "cell_type": "code",
      "source": [
        "#no-more#!date +'%s_%Y-%m-%dT%H:%M:%S%z'"
      ],
      "metadata": {
        "colab": {
          "base_uri": "https://localhost:8080/"
        },
        "id": "cbxn1-lL5N_p",
        "outputId": "994b12e6-8351-47e2-c3db-929f3452f90b"
      },
      "execution_count": 24,
      "outputs": [
        {
          "output_type": "stream",
          "name": "stdout",
          "text": [
            "1745382382_2025-04-23T04:26:22+0000\n"
          ]
        }
      ]
    },
    {
      "cell_type": "markdown",
      "source": [
        "Original output when first writing the re-do\n",
        "\n",
        "`1745382382_2025-04-23T04:26:22+0000`\n",
        "\n",
        "Local: `2025-04-22T22:26:22-0600`"
      ],
      "metadata": {
        "id": "F45IYsaN5a3i"
      }
    },
    {
      "cell_type": "code",
      "source": [
        "!date +'%s_%Y-%m-%dT%H:%M:%S%z'"
      ],
      "metadata": {
        "colab": {
          "base_uri": "https://localhost:8080/"
        },
        "id": "rODyKTGZ5Zlw",
        "outputId": "43279567-5c5c-4804-863d-a1d829429823"
      },
      "execution_count": 1,
      "outputs": [
        {
          "output_type": "stream",
          "name": "stdout",
          "text": [
            "1745435234_2025-04-23T19:07:14+0000\n"
          ]
        }
      ]
    },
    {
      "cell_type": "markdown",
      "source": [
        "Output with this commit:\n",
        "\n",
        "`1745435234_2025-04-23T19:07:14+00000`\n",
        "\n",
        "Local: `2025-04-23T13:07:14-0600`\n",
        "\n",
        "(I'll try to keep this updated for each commit, or at least for each pull request.)"
      ],
      "metadata": {
        "id": "ozZYvO2O59TN"
      }
    },
    {
      "cell_type": "markdown",
      "source": [
        "## Specifics for Colab Environment - I would minimize it unless you need it"
      ],
      "metadata": {
        "id": "1nq-_bWF6xTg"
      }
    },
    {
      "cell_type": "code",
      "source": [
        "!pip freeze"
      ],
      "metadata": {
        "colab": {
          "base_uri": "https://localhost:8080/"
        },
        "id": "ifTxZhrZ61wW",
        "outputId": "8b64dc6e-63e6-4b38-975e-4275997e4546"
      },
      "execution_count": 72,
      "outputs": [
        {
          "output_type": "stream",
          "name": "stdout",
          "text": [
            "absl-py==1.4.0\n",
            "accelerate==1.5.2\n",
            "aggdraw==1.3.19\n",
            "aiohappyeyeballs==2.6.1\n",
            "aiohttp==3.11.15\n",
            "aiosignal==1.3.2\n",
            "alabaster==1.0.0\n",
            "albucore==0.0.23\n",
            "albumentations==2.0.5\n",
            "ale-py==0.10.2\n",
            "altair==5.5.0\n",
            "annotated-types==0.7.0\n",
            "anyio==4.9.0\n",
            "argon2-cffi==23.1.0\n",
            "argon2-cffi-bindings==21.2.0\n",
            "array_record==0.7.1\n",
            "arviz==0.21.0\n",
            "astropy==7.0.1\n",
            "astropy-iers-data==0.2025.4.14.0.37.22\n",
            "astunparse==1.6.3\n",
            "atpublic==5.1\n",
            "attrs==25.3.0\n",
            "audioread==3.0.1\n",
            "autograd==1.7.0\n",
            "babel==2.17.0\n",
            "backcall==0.2.0\n",
            "backports.tarfile==1.2.0\n",
            "beautifulsoup4==4.13.4\n",
            "betterproto==2.0.0b6\n",
            "bigframes==1.42.0\n",
            "bigquery-magics==0.9.0\n",
            "bleach==6.2.0\n",
            "blinker==1.9.0\n",
            "blis==1.3.0\n",
            "blosc2==3.3.0\n",
            "bokeh==3.6.3\n",
            "Bottleneck==1.4.2\n",
            "bqplot==0.12.44\n",
            "branca==0.8.1\n",
            "CacheControl==0.14.2\n",
            "cachetools==5.5.2\n",
            "catalogue==2.0.10\n",
            "certifi==2025.1.31\n",
            "cffi==1.17.1\n",
            "chardet==5.2.0\n",
            "charset-normalizer==3.4.1\n",
            "chex==0.1.89\n",
            "clarabel==0.10.0\n",
            "click==8.1.8\n",
            "cloudpathlib==0.21.0\n",
            "cloudpickle==3.1.1\n",
            "cmake==3.31.6\n",
            "cmdstanpy==1.2.5\n",
            "colorcet==3.1.0\n",
            "colorlover==0.3.0\n",
            "colour==0.1.5\n",
            "community==1.0.0b1\n",
            "confection==0.1.5\n",
            "cons==0.4.6\n",
            "contourpy==1.3.2\n",
            "cramjam==2.10.0\n",
            "cryptography==43.0.3\n",
            "cuda-python==12.6.2.post1\n",
            "cudf-cu12 @ https://pypi.nvidia.com/cudf-cu12/cudf_cu12-25.2.1-cp311-cp311-manylinux_2_24_x86_64.manylinux_2_28_x86_64.whl\n",
            "cudf-polars-cu12==25.2.2\n",
            "cufflinks==0.17.3\n",
            "cuml-cu12==25.2.1\n",
            "cupy-cuda12x==13.3.0\n",
            "cuvs-cu12==25.2.1\n",
            "cvxopt==1.3.2\n",
            "cvxpy==1.6.5\n",
            "cycler==0.12.1\n",
            "cyipopt==1.5.0\n",
            "cymem==2.0.11\n",
            "Cython==3.0.12\n",
            "dask==2024.12.1\n",
            "dask-cuda==25.2.0\n",
            "dask-cudf-cu12==25.2.2\n",
            "dask-expr==1.1.21\n",
            "datascience==0.17.6\n",
            "db-dtypes==1.4.2\n",
            "dbus-python==1.2.18\n",
            "debugpy==1.8.0\n",
            "decorator==4.4.2\n",
            "defusedxml==0.7.1\n",
            "Deprecated==1.2.18\n",
            "diffusers==0.32.2\n",
            "distributed==2024.12.1\n",
            "distributed-ucxx-cu12==0.42.0\n",
            "distro==1.9.0\n",
            "dlib==19.24.6\n",
            "dm-tree==0.1.9\n",
            "docker-pycreds==0.4.0\n",
            "docstring_parser==0.16\n",
            "docutils==0.21.2\n",
            "dopamine_rl==4.1.2\n",
            "duckdb==1.2.2\n",
            "earthengine-api==1.5.11\n",
            "easydict==1.13\n",
            "editdistance==0.8.1\n",
            "eerepr==0.1.1\n",
            "einops==0.8.1\n",
            "en_core_web_sm @ https://github.com/explosion/spacy-models/releases/download/en_core_web_sm-3.8.0/en_core_web_sm-3.8.0-py3-none-any.whl#sha256=1932429db727d4bff3deed6b34cfc05df17794f4a52eeb26cf8928f7c1a0fb85\n",
            "entrypoints==0.4\n",
            "et_xmlfile==2.0.0\n",
            "etils==1.12.2\n",
            "etuples==0.3.9\n",
            "Farama-Notifications==0.0.4\n",
            "fastai==2.7.19\n",
            "fastcore==1.7.29\n",
            "fastdownload==0.0.7\n",
            "fastjsonschema==2.21.1\n",
            "fastprogress==1.0.3\n",
            "fastrlock==0.8.3\n",
            "filelock==3.18.0\n",
            "firebase-admin==6.7.0\n",
            "Flask==3.1.0\n",
            "flatbuffers==25.2.10\n",
            "flax==0.10.5\n",
            "folium==0.19.5\n",
            "fonttools==4.57.0\n",
            "frozendict==2.4.6\n",
            "frozenlist==1.5.0\n",
            "fsspec==2025.3.2\n",
            "future==1.0.0\n",
            "gast==0.6.0\n",
            "gcsfs==2025.3.2\n",
            "GDAL==3.6.4\n",
            "gdown==5.2.0\n",
            "geemap==0.35.3\n",
            "geocoder==1.38.1\n",
            "geographiclib==2.0\n",
            "geopandas==1.0.1\n",
            "geopy==2.4.1\n",
            "gin-config==0.5.0\n",
            "gitdb==4.0.12\n",
            "GitPython==3.1.44\n",
            "glob2==0.7\n",
            "google==2.0.3\n",
            "google-ai-generativelanguage==0.6.15\n",
            "google-api-core==2.24.2\n",
            "google-api-python-client==2.164.0\n",
            "google-auth==2.38.0\n",
            "google-auth-httplib2==0.2.0\n",
            "google-auth-oauthlib==1.2.1\n",
            "google-cloud-aiplatform==1.88.0\n",
            "google-cloud-bigquery==3.31.0\n",
            "google-cloud-bigquery-connection==1.18.2\n",
            "google-cloud-bigquery-storage==2.30.0\n",
            "google-cloud-bigtable==2.30.0\n",
            "google-cloud-core==2.4.3\n",
            "google-cloud-dataproc==5.18.1\n",
            "google-cloud-datastore==2.21.0\n",
            "google-cloud-firestore==2.20.1\n",
            "google-cloud-functions==1.20.3\n",
            "google-cloud-iam==2.19.0\n",
            "google-cloud-language==2.17.1\n",
            "google-cloud-pubsub==2.29.0\n",
            "google-cloud-resource-manager==1.14.2\n",
            "google-cloud-spanner==3.53.0\n",
            "google-cloud-storage==2.19.0\n",
            "google-cloud-translate==3.20.2\n",
            "google-colab @ file:///colabtools/dist/google_colab-1.0.0.tar.gz\n",
            "google-crc32c==1.7.1\n",
            "google-genai==1.10.0\n",
            "google-generativeai==0.8.4\n",
            "google-pasta==0.2.0\n",
            "google-resumable-media==2.7.2\n",
            "google-spark-connect==0.5.2\n",
            "googleapis-common-protos==1.70.0\n",
            "googledrivedownloader==1.1.0\n",
            "graphviz==0.20.3\n",
            "greenlet==3.2.0\n",
            "grpc-google-iam-v1==0.14.2\n",
            "grpc-interceptor==0.15.4\n",
            "grpcio==1.71.0\n",
            "grpcio-status==1.71.0\n",
            "grpclib==0.4.7\n",
            "gspread==6.2.0\n",
            "gspread-dataframe==4.0.0\n",
            "gym==0.25.2\n",
            "gym-notices==0.0.8\n",
            "gymnasium==1.1.1\n",
            "h11==0.14.0\n",
            "h2==4.2.0\n",
            "h5netcdf==1.6.1\n",
            "h5py==3.13.0\n",
            "hdbscan==0.8.40\n",
            "highspy==1.9.0\n",
            "holidays==0.70\n",
            "holoviews==1.20.2\n",
            "hpack==4.1.0\n",
            "html5lib==1.1\n",
            "httpcore==1.0.8\n",
            "httpimport==1.4.1\n",
            "httplib2==0.22.0\n",
            "httpx==0.28.1\n",
            "huggingface-hub==0.30.2\n",
            "humanize==4.12.2\n",
            "hyperframe==6.1.0\n",
            "hyperopt==0.2.7\n",
            "ibis-framework==9.5.0\n",
            "idna==3.10\n",
            "imageio==2.37.0\n",
            "imageio-ffmpeg==0.6.0\n",
            "imagesize==1.4.1\n",
            "imbalanced-learn==0.13.0\n",
            "immutabledict==4.2.1\n",
            "importlib_metadata==8.6.1\n",
            "importlib_resources==6.5.2\n",
            "imutils==0.5.4\n",
            "inflect==7.5.0\n",
            "iniconfig==2.1.0\n",
            "intel-cmplr-lib-ur==2025.1.0\n",
            "intel-openmp==2025.1.0\n",
            "ipyevents==2.0.2\n",
            "ipyfilechooser==0.6.0\n",
            "ipykernel==6.17.1\n",
            "ipyleaflet==0.19.2\n",
            "ipyparallel==8.8.0\n",
            "ipython==7.34.0\n",
            "ipython-genutils==0.2.0\n",
            "ipython-sql==0.5.0\n",
            "ipytree==0.2.2\n",
            "ipywidgets==7.7.1\n",
            "itsdangerous==2.2.0\n",
            "jaraco.classes==3.4.0\n",
            "jaraco.context==6.0.1\n",
            "jaraco.functools==4.1.0\n",
            "jax==0.5.2\n",
            "jax-cuda12-pjrt==0.5.1\n",
            "jax-cuda12-plugin==0.5.1\n",
            "jaxlib==0.5.1\n",
            "jeepney==0.9.0\n",
            "jellyfish==1.1.0\n",
            "jieba==0.42.1\n",
            "Jinja2==3.1.6\n",
            "jiter==0.9.0\n",
            "joblib==1.4.2\n",
            "jsonpatch==1.33\n",
            "jsonpickle==4.0.5\n",
            "jsonpointer==3.0.0\n",
            "jsonschema==4.23.0\n",
            "jsonschema-specifications==2024.10.1\n",
            "jupyter-client==6.1.12\n",
            "jupyter-console==6.1.0\n",
            "jupyter-leaflet==0.19.2\n",
            "jupyter-server==1.16.0\n",
            "jupyter_core==5.7.2\n",
            "jupyterlab_pygments==0.3.0\n",
            "jupyterlab_widgets==3.0.14\n",
            "kaggle==1.7.4.2\n",
            "kagglehub==0.3.11\n",
            "keras==3.8.0\n",
            "keras-hub==0.18.1\n",
            "keras-nlp==0.18.1\n",
            "keyring==25.6.0\n",
            "keyrings.google-artifactregistry-auth==1.1.2\n",
            "kiwisolver==1.4.8\n",
            "langchain==0.3.23\n",
            "langchain-core==0.3.52\n",
            "langchain-text-splitters==0.3.8\n",
            "langcodes==3.5.0\n",
            "langsmith==0.3.31\n",
            "language_data==1.3.0\n",
            "launchpadlib==1.10.16\n",
            "lazr.restfulclient==0.14.4\n",
            "lazr.uri==1.0.6\n",
            "lazy_loader==0.4\n",
            "libclang==18.1.1\n",
            "libcudf-cu12 @ https://pypi.nvidia.com/libcudf-cu12/libcudf_cu12-25.2.1-py3-none-manylinux_2_28_x86_64.whl\n",
            "libcugraph-cu12==25.2.0\n",
            "libcuml-cu12==25.2.1\n",
            "libcuvs-cu12==25.2.1\n",
            "libkvikio-cu12==25.2.1\n",
            "libraft-cu12==25.2.0\n",
            "librosa==0.11.0\n",
            "libucx-cu12==1.18.0\n",
            "libucxx-cu12==0.42.0\n",
            "lightgbm==4.5.0\n",
            "linkify-it-py==2.0.3\n",
            "llvmlite==0.43.0\n",
            "locket==1.0.0\n",
            "logical-unification==0.4.6\n",
            "lxml==5.3.2\n",
            "Mako==1.1.3\n",
            "marisa-trie==1.2.1\n",
            "Markdown==3.8\n",
            "markdown-it-py==3.0.0\n",
            "MarkupSafe==3.0.2\n",
            "matplotlib==3.10.0\n",
            "matplotlib-inline==0.1.7\n",
            "matplotlib-venn==1.1.2\n",
            "mdit-py-plugins==0.4.2\n",
            "mdurl==0.1.2\n",
            "miniKanren==1.0.3\n",
            "missingno==0.5.2\n",
            "mistune==3.1.3\n",
            "mizani==0.13.3\n",
            "mkl==2025.0.1\n",
            "ml-dtypes==0.4.1\n",
            "mlxtend==0.23.4\n",
            "more-itertools==10.6.0\n",
            "moviepy==1.0.3\n",
            "mpmath==1.3.0\n",
            "msgpack==1.1.0\n",
            "multidict==6.4.3\n",
            "multipledispatch==1.0.0\n",
            "multitasking==0.0.11\n",
            "murmurhash==1.0.12\n",
            "music21==9.3.0\n",
            "namex==0.0.8\n",
            "narwhals==1.35.0\n",
            "natsort==8.4.0\n",
            "nbclassic==1.2.0\n",
            "nbclient==0.10.2\n",
            "nbconvert==7.16.6\n",
            "nbformat==5.10.4\n",
            "ndindex==1.9.2\n",
            "nest-asyncio==1.6.0\n",
            "networkx==3.4.2\n",
            "nibabel==5.3.2\n",
            "nltk==3.9.1\n",
            "notebook==6.5.7\n",
            "notebook_shim==0.2.4\n",
            "numba==0.60.0\n",
            "numba-cuda==0.2.0\n",
            "numexpr==2.10.2\n",
            "numpy==2.0.2\n",
            "nvidia-cublas-cu12==12.5.3.2\n",
            "nvidia-cuda-cupti-cu12==12.5.82\n",
            "nvidia-cuda-nvcc-cu12==12.5.82\n",
            "nvidia-cuda-nvrtc-cu12==12.5.82\n",
            "nvidia-cuda-runtime-cu12==12.5.82\n",
            "nvidia-cudnn-cu12==9.3.0.75\n",
            "nvidia-cufft-cu12==11.2.3.61\n",
            "nvidia-curand-cu12==10.3.6.82\n",
            "nvidia-cusolver-cu12==11.6.3.83\n",
            "nvidia-cusparse-cu12==12.5.1.3\n",
            "nvidia-cusparselt-cu12==0.6.2\n",
            "nvidia-ml-py==12.570.86\n",
            "nvidia-nccl-cu12==2.21.5\n",
            "nvidia-nvcomp-cu12==4.2.0.11\n",
            "nvidia-nvjitlink-cu12==12.5.82\n",
            "nvidia-nvtx-cu12==12.4.127\n",
            "nvtx==0.2.11\n",
            "nx-cugraph-cu12 @ https://pypi.nvidia.com/nx-cugraph-cu12/nx_cugraph_cu12-25.2.0-py3-none-any.whl\n",
            "oauth2client==4.1.3\n",
            "oauthlib==3.2.2\n",
            "openai==1.75.0\n",
            "opencv-contrib-python==4.11.0.86\n",
            "opencv-python==4.11.0.86\n",
            "opencv-python-headless==4.11.0.86\n",
            "openpyxl==3.1.5\n",
            "opentelemetry-api==1.32.1\n",
            "opentelemetry-sdk==1.32.1\n",
            "opentelemetry-semantic-conventions==0.53b1\n",
            "opt_einsum==3.4.0\n",
            "optax==0.2.4\n",
            "optree==0.15.0\n",
            "orbax-checkpoint==0.11.12\n",
            "orjson==3.10.16\n",
            "osqp==1.0.3\n",
            "packaging==24.2\n",
            "pandas==2.2.2\n",
            "pandas-datareader==0.10.0\n",
            "pandas-gbq==0.28.0\n",
            "pandas-stubs==2.2.2.240909\n",
            "pandocfilters==1.5.1\n",
            "panel==1.6.2\n",
            "param==2.2.0\n",
            "parso==0.8.4\n",
            "parsy==2.1\n",
            "partd==1.4.2\n",
            "pathlib==1.0.1\n",
            "patsy==1.0.1\n",
            "peewee==3.17.9\n",
            "peft==0.14.0\n",
            "pexpect==4.9.0\n",
            "pickleshare==0.7.5\n",
            "pillow==11.1.0\n",
            "platformdirs==4.3.7\n",
            "plotly==5.24.1\n",
            "plotnine==0.14.5\n",
            "pluggy==1.5.0\n",
            "ply==3.11\n",
            "polars==1.21.0\n",
            "pooch==1.8.2\n",
            "portpicker==1.5.2\n",
            "preshed==3.0.9\n",
            "prettytable==3.16.0\n",
            "proglog==0.1.11\n",
            "progressbar2==4.5.0\n",
            "prometheus_client==0.21.1\n",
            "promise==2.3\n",
            "prompt_toolkit==3.0.51\n",
            "propcache==0.3.1\n",
            "prophet==1.1.6\n",
            "proto-plus==1.26.1\n",
            "protobuf==5.29.4\n",
            "psutil==5.9.5\n",
            "psycopg2==2.9.10\n",
            "ptyprocess==0.7.0\n",
            "py-cpuinfo==9.0.0\n",
            "py4j==0.10.9.7\n",
            "pyarrow==18.1.0\n",
            "pyasn1==0.6.1\n",
            "pyasn1_modules==0.4.2\n",
            "pycairo==1.28.0\n",
            "pycocotools==2.0.8\n",
            "pycparser==2.22\n",
            "pydantic==2.11.3\n",
            "pydantic_core==2.33.1\n",
            "pydata-google-auth==1.9.1\n",
            "pydot==3.0.4\n",
            "pydotplus==2.0.2\n",
            "PyDrive==1.3.1\n",
            "PyDrive2==1.21.3\n",
            "pyerfa==2.0.1.5\n",
            "pygame==2.6.1\n",
            "pygit2==1.17.0\n",
            "Pygments==2.18.0\n",
            "PyGObject==3.42.0\n",
            "PyJWT==2.10.1\n",
            "pylibcudf-cu12 @ https://pypi.nvidia.com/pylibcudf-cu12/pylibcudf_cu12-25.2.1-cp311-cp311-manylinux_2_24_x86_64.manylinux_2_28_x86_64.whl\n",
            "pylibcugraph-cu12==25.2.0\n",
            "pylibraft-cu12==25.2.0\n",
            "pymc==5.21.2\n",
            "pymystem3==0.2.0\n",
            "pynndescent==0.5.13\n",
            "pynvjitlink-cu12==0.5.2\n",
            "pynvml==12.0.0\n",
            "pyogrio==0.10.0\n",
            "Pyomo==6.8.2\n",
            "PyOpenGL==3.1.9\n",
            "pyOpenSSL==24.2.1\n",
            "pyparsing==3.2.3\n",
            "pyperclip==1.9.0\n",
            "pyproj==3.7.1\n",
            "pyshp==2.3.1\n",
            "PySocks==1.7.1\n",
            "pyspark==3.5.5\n",
            "pytensor==2.30.3\n",
            "pytest==8.3.5\n",
            "python-apt==0.0.0\n",
            "python-box==7.3.2\n",
            "python-dateutil==2.8.2\n",
            "python-louvain==0.16\n",
            "python-slugify==8.0.4\n",
            "python-snappy==0.7.3\n",
            "python-utils==3.9.1\n",
            "pytz==2025.2\n",
            "pyviz_comms==3.0.4\n",
            "PyYAML==6.0.2\n",
            "pyzmq==24.0.1\n",
            "raft-dask-cu12==25.2.0\n",
            "rapids-dask-dependency==25.2.0\n",
            "ratelim==0.1.6\n",
            "referencing==0.36.2\n",
            "regex==2024.11.6\n",
            "requests==2.32.3\n",
            "requests-oauthlib==2.0.0\n",
            "requests-toolbelt==1.0.0\n",
            "requirements-parser==0.9.0\n",
            "rich==13.9.4\n",
            "rmm-cu12==25.2.0\n",
            "roman-numerals-py==3.1.0\n",
            "rpds-py==0.24.0\n",
            "rpy2==3.5.17\n",
            "rsa==4.9.1\n",
            "safetensors==0.5.3\n",
            "scikit-image==0.25.2\n",
            "scikit-learn==1.6.1\n",
            "scipy==1.14.1\n",
            "scooby==0.10.0\n",
            "scs==3.2.7.post2\n",
            "seaborn==0.13.2\n",
            "SecretStorage==3.3.3\n",
            "Send2Trash==1.8.3\n",
            "sentence-transformers==3.4.1\n",
            "sentencepiece==0.2.0\n",
            "sentry-sdk==2.26.1\n",
            "setproctitle==1.3.5\n",
            "shap==0.47.1\n",
            "shapely==2.1.0\n",
            "shellingham==1.5.4\n",
            "simple-parsing==0.1.7\n",
            "simplejson==3.20.1\n",
            "simsimd==6.2.1\n",
            "six==1.17.0\n",
            "sklearn-compat==0.1.3\n",
            "sklearn-pandas==2.2.0\n",
            "slicer==0.0.8\n",
            "smart-open==7.1.0\n",
            "smmap==5.0.2\n",
            "sniffio==1.3.1\n",
            "snowballstemmer==2.2.0\n",
            "sortedcontainers==2.4.0\n",
            "soundfile==0.13.1\n",
            "soupsieve==2.6\n",
            "soxr==0.5.0.post1\n",
            "spacy==3.8.5\n",
            "spacy-legacy==3.0.12\n",
            "spacy-loggers==1.0.5\n",
            "spanner-graph-notebook==1.1.6\n",
            "Sphinx==8.2.3\n",
            "sphinxcontrib-applehelp==2.0.0\n",
            "sphinxcontrib-devhelp==2.0.0\n",
            "sphinxcontrib-htmlhelp==2.1.0\n",
            "sphinxcontrib-jsmath==1.0.1\n",
            "sphinxcontrib-qthelp==2.0.0\n",
            "sphinxcontrib-serializinghtml==2.0.0\n",
            "SQLAlchemy==2.0.40\n",
            "sqlglot==25.20.2\n",
            "sqlparse==0.5.3\n",
            "srsly==2.5.1\n",
            "stanio==0.5.1\n",
            "statsmodels==0.14.4\n",
            "stringzilla==3.12.4\n",
            "sympy==1.13.1\n",
            "tables==3.10.2\n",
            "tabulate==0.9.0\n",
            "tbb==2022.1.0\n",
            "tblib==3.1.0\n",
            "tcmlib==1.3.0\n",
            "tenacity==9.1.2\n",
            "tensorboard==2.18.0\n",
            "tensorboard-data-server==0.7.2\n",
            "tensorflow==2.18.0\n",
            "tensorflow-datasets==4.9.8\n",
            "tensorflow-hub==0.16.1\n",
            "tensorflow-io-gcs-filesystem==0.37.1\n",
            "tensorflow-metadata==1.17.1\n",
            "tensorflow-probability==0.25.0\n",
            "tensorflow-text==2.18.1\n",
            "tensorflow_decision_forests==1.11.0\n",
            "tensorstore==0.1.73\n",
            "termcolor==3.0.1\n",
            "terminado==0.18.1\n",
            "text-unidecode==1.3\n",
            "textblob==0.19.0\n",
            "tf-slim==1.1.0\n",
            "tf_keras==2.18.0\n",
            "thinc==8.3.6\n",
            "threadpoolctl==3.6.0\n",
            "tifffile==2025.3.30\n",
            "timm==1.0.15\n",
            "tinycss2==1.4.0\n",
            "tokenizers==0.21.1\n",
            "toml==0.10.2\n",
            "toolz==0.12.1\n",
            "torch @ https://download.pytorch.org/whl/cu124/torch-2.6.0%2Bcu124-cp311-cp311-linux_x86_64.whl\n",
            "torchaudio @ https://download.pytorch.org/whl/cu124/torchaudio-2.6.0%2Bcu124-cp311-cp311-linux_x86_64.whl\n",
            "torchsummary==1.5.1\n",
            "torchvision @ https://download.pytorch.org/whl/cu124/torchvision-0.21.0%2Bcu124-cp311-cp311-linux_x86_64.whl\n",
            "tornado==6.4.2\n",
            "tqdm==4.67.1\n",
            "traitlets==5.7.1\n",
            "traittypes==0.2.1\n",
            "transformers==4.51.3\n",
            "treelite==4.4.1\n",
            "treescope==0.1.9\n",
            "triton==3.2.0\n",
            "tweepy==4.15.0\n",
            "typeguard==4.4.2\n",
            "typer==0.15.2\n",
            "types-pytz==2025.2.0.20250326\n",
            "types-setuptools==79.0.0.20250422\n",
            "typing-inspection==0.4.0\n",
            "typing_extensions==4.13.2\n",
            "tzdata==2025.2\n",
            "tzlocal==5.3.1\n",
            "uc-micro-py==1.0.3\n",
            "ucx-py-cu12==0.42.0\n",
            "ucxx-cu12==0.42.0\n",
            "umap-learn==0.5.7\n",
            "umf==0.10.0\n",
            "uritemplate==4.1.1\n",
            "urllib3==2.3.0\n",
            "vega-datasets==0.9.0\n",
            "visualkeras==0.1.4\n",
            "wadllib==1.3.6\n",
            "wandb==0.19.9\n",
            "wasabi==1.1.3\n",
            "wcwidth==0.2.13\n",
            "weasel==0.4.1\n",
            "webcolors==24.11.1\n",
            "webencodings==0.5.1\n",
            "websocket-client==1.8.0\n",
            "websockets==15.0.1\n",
            "Werkzeug==3.1.3\n",
            "widgetsnbextension==3.6.10\n",
            "wordcloud==1.9.4\n",
            "wrapt==1.17.2\n",
            "wurlitzer==3.1.1\n",
            "xarray==2025.1.2\n",
            "xarray-einstats==0.8.0\n",
            "xgboost==2.1.4\n",
            "xlrd==2.0.1\n",
            "xyzservices==2025.1.0\n",
            "yarl==1.19.0\n",
            "ydf==0.11.0\n",
            "yellowbrick==1.5\n",
            "yfinance==0.2.55\n",
            "zict==3.0.0\n",
            "zipp==3.21.0\n",
            "zstandard==0.23.0\n"
          ]
        }
      ]
    },
    {
      "cell_type": "markdown",
      "source": [
        "### Output of `pip freeze` at approximately `timestamp`\n",
        "\n",
        "```\n",
        "absl-py==1.4.0\n",
        "accelerate==1.5.2\n",
        "aggdraw==1.3.19\n",
        "aiohappyeyeballs==2.6.1\n",
        "aiohttp==3.11.15\n",
        "aiosignal==1.3.2\n",
        "alabaster==1.0.0\n",
        "albucore==0.0.23\n",
        "albumentations==2.0.5\n",
        "ale-py==0.10.2\n",
        "altair==5.5.0\n",
        "annotated-types==0.7.0\n",
        "anyio==4.9.0\n",
        "argon2-cffi==23.1.0\n",
        "argon2-cffi-bindings==21.2.0\n",
        "array_record==0.7.1\n",
        "arviz==0.21.0\n",
        "astropy==7.0.1\n",
        "astropy-iers-data==0.2025.4.14.0.37.22\n",
        "astunparse==1.6.3\n",
        "atpublic==5.1\n",
        "attrs==25.3.0\n",
        "audioread==3.0.1\n",
        "autograd==1.7.0\n",
        "babel==2.17.0\n",
        "backcall==0.2.0\n",
        "backports.tarfile==1.2.0\n",
        "beautifulsoup4==4.13.4\n",
        "betterproto==2.0.0b6\n",
        "bigframes==1.42.0\n",
        "bigquery-magics==0.9.0\n",
        "bleach==6.2.0\n",
        "blinker==1.9.0\n",
        "blis==1.3.0\n",
        "blosc2==3.3.0\n",
        "bokeh==3.6.3\n",
        "Bottleneck==1.4.2\n",
        "bqplot==0.12.44\n",
        "branca==0.8.1\n",
        "CacheControl==0.14.2\n",
        "cachetools==5.5.2\n",
        "catalogue==2.0.10\n",
        "certifi==2025.1.31\n",
        "cffi==1.17.1\n",
        "chardet==5.2.0\n",
        "charset-normalizer==3.4.1\n",
        "chex==0.1.89\n",
        "clarabel==0.10.0\n",
        "click==8.1.8\n",
        "cloudpathlib==0.21.0\n",
        "cloudpickle==3.1.1\n",
        "cmake==3.31.6\n",
        "cmdstanpy==1.2.5\n",
        "colorcet==3.1.0\n",
        "colorlover==0.3.0\n",
        "colour==0.1.5\n",
        "community==1.0.0b1\n",
        "confection==0.1.5\n",
        "cons==0.4.6\n",
        "contourpy==1.3.2\n",
        "cramjam==2.10.0\n",
        "cryptography==43.0.3\n",
        "cuda-python==12.6.2.post1\n",
        "cudf-cu12 @ https://pypi.nvidia.com/cudf-cu12/cudf_cu12-25.2.1-cp311-cp311-manylinux_2_24_x86_64.manylinux_2_28_x86_64.whl\n",
        "cudf-polars-cu12==25.2.2\n",
        "cufflinks==0.17.3\n",
        "cuml-cu12==25.2.1\n",
        "cupy-cuda12x==13.3.0\n",
        "cuvs-cu12==25.2.1\n",
        "cvxopt==1.3.2\n",
        "cvxpy==1.6.5\n",
        "cycler==0.12.1\n",
        "cyipopt==1.5.0\n",
        "cymem==2.0.11\n",
        "Cython==3.0.12\n",
        "dask==2024.12.1\n",
        "dask-cuda==25.2.0\n",
        "dask-cudf-cu12==25.2.2\n",
        "dask-expr==1.1.21\n",
        "datascience==0.17.6\n",
        "db-dtypes==1.4.2\n",
        "dbus-python==1.2.18\n",
        "debugpy==1.8.0\n",
        "decorator==4.4.2\n",
        "defusedxml==0.7.1\n",
        "Deprecated==1.2.18\n",
        "diffusers==0.32.2\n",
        "distributed==2024.12.1\n",
        "distributed-ucxx-cu12==0.42.0\n",
        "distro==1.9.0\n",
        "dlib==19.24.6\n",
        "dm-tree==0.1.9\n",
        "docker-pycreds==0.4.0\n",
        "docstring_parser==0.16\n",
        "docutils==0.21.2\n",
        "dopamine_rl==4.1.2\n",
        "duckdb==1.2.2\n",
        "earthengine-api==1.5.11\n",
        "easydict==1.13\n",
        "editdistance==0.8.1\n",
        "eerepr==0.1.1\n",
        "einops==0.8.1\n",
        "en_core_web_sm @ https://github.com/explosion/spacy-models/releases/download/en_core_web_sm-3.8.0/en_core_web_sm-3.8.0-py3-none-any.whl#sha256=1932429db727d4bff3deed6b34cfc05df17794f4a52eeb26cf8928f7c1a0fb85\n",
        "entrypoints==0.4\n",
        "et_xmlfile==2.0.0\n",
        "etils==1.12.2\n",
        "etuples==0.3.9\n",
        "Farama-Notifications==0.0.4\n",
        "fastai==2.7.19\n",
        "fastcore==1.7.29\n",
        "fastdownload==0.0.7\n",
        "fastjsonschema==2.21.1\n",
        "fastprogress==1.0.3\n",
        "fastrlock==0.8.3\n",
        "filelock==3.18.0\n",
        "firebase-admin==6.7.0\n",
        "Flask==3.1.0\n",
        "flatbuffers==25.2.10\n",
        "flax==0.10.5\n",
        "folium==0.19.5\n",
        "fonttools==4.57.0\n",
        "frozendict==2.4.6\n",
        "frozenlist==1.5.0\n",
        "fsspec==2025.3.2\n",
        "future==1.0.0\n",
        "gast==0.6.0\n",
        "gcsfs==2025.3.2\n",
        "GDAL==3.6.4\n",
        "gdown==5.2.0\n",
        "geemap==0.35.3\n",
        "geocoder==1.38.1\n",
        "geographiclib==2.0\n",
        "geopandas==1.0.1\n",
        "geopy==2.4.1\n",
        "gin-config==0.5.0\n",
        "gitdb==4.0.12\n",
        "GitPython==3.1.44\n",
        "glob2==0.7\n",
        "google==2.0.3\n",
        "google-ai-generativelanguage==0.6.15\n",
        "google-api-core==2.24.2\n",
        "google-api-python-client==2.164.0\n",
        "google-auth==2.38.0\n",
        "google-auth-httplib2==0.2.0\n",
        "google-auth-oauthlib==1.2.1\n",
        "google-cloud-aiplatform==1.88.0\n",
        "google-cloud-bigquery==3.31.0\n",
        "google-cloud-bigquery-connection==1.18.2\n",
        "google-cloud-bigquery-storage==2.30.0\n",
        "google-cloud-bigtable==2.30.0\n",
        "google-cloud-core==2.4.3\n",
        "google-cloud-dataproc==5.18.1\n",
        "google-cloud-datastore==2.21.0\n",
        "google-cloud-firestore==2.20.1\n",
        "google-cloud-functions==1.20.3\n",
        "google-cloud-iam==2.19.0\n",
        "google-cloud-language==2.17.1\n",
        "google-cloud-pubsub==2.29.0\n",
        "google-cloud-resource-manager==1.14.2\n",
        "google-cloud-spanner==3.53.0\n",
        "google-cloud-storage==2.19.0\n",
        "google-cloud-translate==3.20.2\n",
        "google-colab @ file:///colabtools/dist/google_colab-1.0.0.tar.gz\n",
        "google-crc32c==1.7.1\n",
        "google-genai==1.10.0\n",
        "google-generativeai==0.8.4\n",
        "google-pasta==0.2.0\n",
        "google-resumable-media==2.7.2\n",
        "google-spark-connect==0.5.2\n",
        "googleapis-common-protos==1.70.0\n",
        "googledrivedownloader==1.1.0\n",
        "graphviz==0.20.3\n",
        "greenlet==3.2.0\n",
        "grpc-google-iam-v1==0.14.2\n",
        "grpc-interceptor==0.15.4\n",
        "grpcio==1.71.0\n",
        "grpcio-status==1.71.0\n",
        "grpclib==0.4.7\n",
        "gspread==6.2.0\n",
        "gspread-dataframe==4.0.0\n",
        "gym==0.25.2\n",
        "gym-notices==0.0.8\n",
        "gymnasium==1.1.1\n",
        "h11==0.14.0\n",
        "h2==4.2.0\n",
        "h5netcdf==1.6.1\n",
        "h5py==3.13.0\n",
        "hdbscan==0.8.40\n",
        "highspy==1.9.0\n",
        "holidays==0.70\n",
        "holoviews==1.20.2\n",
        "hpack==4.1.0\n",
        "html5lib==1.1\n",
        "httpcore==1.0.8\n",
        "httpimport==1.4.1\n",
        "httplib2==0.22.0\n",
        "httpx==0.28.1\n",
        "huggingface-hub==0.30.2\n",
        "humanize==4.12.2\n",
        "hyperframe==6.1.0\n",
        "hyperopt==0.2.7\n",
        "ibis-framework==9.5.0\n",
        "idna==3.10\n",
        "imageio==2.37.0\n",
        "imageio-ffmpeg==0.6.0\n",
        "imagesize==1.4.1\n",
        "imbalanced-learn==0.13.0\n",
        "immutabledict==4.2.1\n",
        "importlib_metadata==8.6.1\n",
        "importlib_resources==6.5.2\n",
        "imutils==0.5.4\n",
        "inflect==7.5.0\n",
        "iniconfig==2.1.0\n",
        "intel-cmplr-lib-ur==2025.1.0\n",
        "intel-openmp==2025.1.0\n",
        "ipyevents==2.0.2\n",
        "ipyfilechooser==0.6.0\n",
        "ipykernel==6.17.1\n",
        "ipyleaflet==0.19.2\n",
        "ipyparallel==8.8.0\n",
        "ipython==7.34.0\n",
        "ipython-genutils==0.2.0\n",
        "ipython-sql==0.5.0\n",
        "ipytree==0.2.2\n",
        "ipywidgets==7.7.1\n",
        "itsdangerous==2.2.0\n",
        "jaraco.classes==3.4.0\n",
        "jaraco.context==6.0.1\n",
        "jaraco.functools==4.1.0\n",
        "jax==0.5.2\n",
        "jax-cuda12-pjrt==0.5.1\n",
        "jax-cuda12-plugin==0.5.1\n",
        "jaxlib==0.5.1\n",
        "jeepney==0.9.0\n",
        "jellyfish==1.1.0\n",
        "jieba==0.42.1\n",
        "Jinja2==3.1.6\n",
        "jiter==0.9.0\n",
        "joblib==1.4.2\n",
        "jsonpatch==1.33\n",
        "jsonpickle==4.0.5\n",
        "jsonpointer==3.0.0\n",
        "jsonschema==4.23.0\n",
        "jsonschema-specifications==2024.10.1\n",
        "jupyter-client==6.1.12\n",
        "jupyter-console==6.1.0\n",
        "jupyter-leaflet==0.19.2\n",
        "jupyter-server==1.16.0\n",
        "jupyter_core==5.7.2\n",
        "jupyterlab_pygments==0.3.0\n",
        "jupyterlab_widgets==3.0.14\n",
        "kaggle==1.7.4.2\n",
        "kagglehub==0.3.11\n",
        "keras==3.8.0\n",
        "keras-hub==0.18.1\n",
        "keras-nlp==0.18.1\n",
        "keyring==25.6.0\n",
        "keyrings.google-artifactregistry-auth==1.1.2\n",
        "kiwisolver==1.4.8\n",
        "langchain==0.3.23\n",
        "langchain-core==0.3.52\n",
        "langchain-text-splitters==0.3.8\n",
        "langcodes==3.5.0\n",
        "langsmith==0.3.31\n",
        "language_data==1.3.0\n",
        "launchpadlib==1.10.16\n",
        "lazr.restfulclient==0.14.4\n",
        "lazr.uri==1.0.6\n",
        "lazy_loader==0.4\n",
        "libclang==18.1.1\n",
        "libcudf-cu12 @ https://pypi.nvidia.com/libcudf-cu12/libcudf_cu12-25.2.1-py3-none-manylinux_2_28_x86_64.whl\n",
        "libcugraph-cu12==25.2.0\n",
        "libcuml-cu12==25.2.1\n",
        "libcuvs-cu12==25.2.1\n",
        "libkvikio-cu12==25.2.1\n",
        "libraft-cu12==25.2.0\n",
        "librosa==0.11.0\n",
        "libucx-cu12==1.18.0\n",
        "libucxx-cu12==0.42.0\n",
        "lightgbm==4.5.0\n",
        "linkify-it-py==2.0.3\n",
        "llvmlite==0.43.0\n",
        "locket==1.0.0\n",
        "logical-unification==0.4.6\n",
        "lxml==5.3.2\n",
        "Mako==1.1.3\n",
        "marisa-trie==1.2.1\n",
        "Markdown==3.8\n",
        "markdown-it-py==3.0.0\n",
        "MarkupSafe==3.0.2\n",
        "matplotlib==3.10.0\n",
        "matplotlib-inline==0.1.7\n",
        "matplotlib-venn==1.1.2\n",
        "mdit-py-plugins==0.4.2\n",
        "mdurl==0.1.2\n",
        "miniKanren==1.0.3\n",
        "missingno==0.5.2\n",
        "mistune==3.1.3\n",
        "mizani==0.13.3\n",
        "mkl==2025.0.1\n",
        "ml-dtypes==0.4.1\n",
        "mlxtend==0.23.4\n",
        "more-itertools==10.6.0\n",
        "moviepy==1.0.3\n",
        "mpmath==1.3.0\n",
        "msgpack==1.1.0\n",
        "multidict==6.4.3\n",
        "multipledispatch==1.0.0\n",
        "multitasking==0.0.11\n",
        "murmurhash==1.0.12\n",
        "music21==9.3.0\n",
        "namex==0.0.8\n",
        "narwhals==1.35.0\n",
        "natsort==8.4.0\n",
        "nbclassic==1.2.0\n",
        "nbclient==0.10.2\n",
        "nbconvert==7.16.6\n",
        "nbformat==5.10.4\n",
        "ndindex==1.9.2\n",
        "nest-asyncio==1.6.0\n",
        "networkx==3.4.2\n",
        "nibabel==5.3.2\n",
        "nltk==3.9.1\n",
        "notebook==6.5.7\n",
        "notebook_shim==0.2.4\n",
        "numba==0.60.0\n",
        "numba-cuda==0.2.0\n",
        "numexpr==2.10.2\n",
        "numpy==2.0.2\n",
        "nvidia-cublas-cu12==12.5.3.2\n",
        "nvidia-cuda-cupti-cu12==12.5.82\n",
        "nvidia-cuda-nvcc-cu12==12.5.82\n",
        "nvidia-cuda-nvrtc-cu12==12.5.82\n",
        "nvidia-cuda-runtime-cu12==12.5.82\n",
        "nvidia-cudnn-cu12==9.3.0.75\n",
        "nvidia-cufft-cu12==11.2.3.61\n",
        "nvidia-curand-cu12==10.3.6.82\n",
        "nvidia-cusolver-cu12==11.6.3.83\n",
        "nvidia-cusparse-cu12==12.5.1.3\n",
        "nvidia-cusparselt-cu12==0.6.2\n",
        "nvidia-ml-py==12.570.86\n",
        "nvidia-nccl-cu12==2.21.5\n",
        "nvidia-nvcomp-cu12==4.2.0.11\n",
        "nvidia-nvjitlink-cu12==12.5.82\n",
        "nvidia-nvtx-cu12==12.4.127\n",
        "nvtx==0.2.11\n",
        "nx-cugraph-cu12 @ https://pypi.nvidia.com/nx-cugraph-cu12/nx_cugraph_cu12-25.2.0-py3-none-any.whl\n",
        "oauth2client==4.1.3\n",
        "oauthlib==3.2.2\n",
        "openai==1.75.0\n",
        "opencv-contrib-python==4.11.0.86\n",
        "opencv-python==4.11.0.86\n",
        "opencv-python-headless==4.11.0.86\n",
        "openpyxl==3.1.5\n",
        "opentelemetry-api==1.32.1\n",
        "opentelemetry-sdk==1.32.1\n",
        "opentelemetry-semantic-conventions==0.53b1\n",
        "opt_einsum==3.4.0\n",
        "optax==0.2.4\n",
        "optree==0.15.0\n",
        "orbax-checkpoint==0.11.12\n",
        "orjson==3.10.16\n",
        "osqp==1.0.3\n",
        "packaging==24.2\n",
        "pandas==2.2.2\n",
        "pandas-datareader==0.10.0\n",
        "pandas-gbq==0.28.0\n",
        "pandas-stubs==2.2.2.240909\n",
        "pandocfilters==1.5.1\n",
        "panel==1.6.2\n",
        "param==2.2.0\n",
        "parso==0.8.4\n",
        "parsy==2.1\n",
        "partd==1.4.2\n",
        "pathlib==1.0.1\n",
        "patsy==1.0.1\n",
        "peewee==3.17.9\n",
        "peft==0.14.0\n",
        "pexpect==4.9.0\n",
        "pickleshare==0.7.5\n",
        "pillow==11.1.0\n",
        "platformdirs==4.3.7\n",
        "plotly==5.24.1\n",
        "plotnine==0.14.5\n",
        "pluggy==1.5.0\n",
        "ply==3.11\n",
        "polars==1.21.0\n",
        "pooch==1.8.2\n",
        "portpicker==1.5.2\n",
        "preshed==3.0.9\n",
        "prettytable==3.16.0\n",
        "proglog==0.1.11\n",
        "progressbar2==4.5.0\n",
        "prometheus_client==0.21.1\n",
        "promise==2.3\n",
        "prompt_toolkit==3.0.51\n",
        "propcache==0.3.1\n",
        "prophet==1.1.6\n",
        "proto-plus==1.26.1\n",
        "protobuf==5.29.4\n",
        "psutil==5.9.5\n",
        "psycopg2==2.9.10\n",
        "ptyprocess==0.7.0\n",
        "py-cpuinfo==9.0.0\n",
        "py4j==0.10.9.7\n",
        "pyarrow==18.1.0\n",
        "pyasn1==0.6.1\n",
        "pyasn1_modules==0.4.2\n",
        "pycairo==1.28.0\n",
        "pycocotools==2.0.8\n",
        "pycparser==2.22\n",
        "pydantic==2.11.3\n",
        "pydantic_core==2.33.1\n",
        "pydata-google-auth==1.9.1\n",
        "pydot==3.0.4\n",
        "pydotplus==2.0.2\n",
        "PyDrive==1.3.1\n",
        "PyDrive2==1.21.3\n",
        "pyerfa==2.0.1.5\n",
        "pygame==2.6.1\n",
        "pygit2==1.17.0\n",
        "Pygments==2.18.0\n",
        "PyGObject==3.42.0\n",
        "PyJWT==2.10.1\n",
        "pylibcudf-cu12 @ https://pypi.nvidia.com/pylibcudf-cu12/pylibcudf_cu12-25.2.1-cp311-cp311-manylinux_2_24_x86_64.manylinux_2_28_x86_64.whl\n",
        "pylibcugraph-cu12==25.2.0\n",
        "pylibraft-cu12==25.2.0\n",
        "pymc==5.21.2\n",
        "pymystem3==0.2.0\n",
        "pynndescent==0.5.13\n",
        "pynvjitlink-cu12==0.5.2\n",
        "pynvml==12.0.0\n",
        "pyogrio==0.10.0\n",
        "Pyomo==6.8.2\n",
        "PyOpenGL==3.1.9\n",
        "pyOpenSSL==24.2.1\n",
        "pyparsing==3.2.3\n",
        "pyperclip==1.9.0\n",
        "pyproj==3.7.1\n",
        "pyshp==2.3.1\n",
        "PySocks==1.7.1\n",
        "pyspark==3.5.5\n",
        "pytensor==2.30.3\n",
        "pytest==8.3.5\n",
        "python-apt==0.0.0\n",
        "python-box==7.3.2\n",
        "python-dateutil==2.8.2\n",
        "python-louvain==0.16\n",
        "python-slugify==8.0.4\n",
        "python-snappy==0.7.3\n",
        "python-utils==3.9.1\n",
        "pytz==2025.2\n",
        "pyviz_comms==3.0.4\n",
        "PyYAML==6.0.2\n",
        "pyzmq==24.0.1\n",
        "raft-dask-cu12==25.2.0\n",
        "rapids-dask-dependency==25.2.0\n",
        "ratelim==0.1.6\n",
        "referencing==0.36.2\n",
        "regex==2024.11.6\n",
        "requests==2.32.3\n",
        "requests-oauthlib==2.0.0\n",
        "requests-toolbelt==1.0.0\n",
        "requirements-parser==0.9.0\n",
        "rich==13.9.4\n",
        "rmm-cu12==25.2.0\n",
        "roman-numerals-py==3.1.0\n",
        "rpds-py==0.24.0\n",
        "rpy2==3.5.17\n",
        "rsa==4.9.1\n",
        "safetensors==0.5.3\n",
        "scikit-image==0.25.2\n",
        "scikit-learn==1.6.1\n",
        "scipy==1.14.1\n",
        "scooby==0.10.0\n",
        "scs==3.2.7.post2\n",
        "seaborn==0.13.2\n",
        "SecretStorage==3.3.3\n",
        "Send2Trash==1.8.3\n",
        "sentence-transformers==3.4.1\n",
        "sentencepiece==0.2.0\n",
        "sentry-sdk==2.26.1\n",
        "setproctitle==1.3.5\n",
        "shap==0.47.1\n",
        "shapely==2.1.0\n",
        "shellingham==1.5.4\n",
        "simple-parsing==0.1.7\n",
        "simplejson==3.20.1\n",
        "simsimd==6.2.1\n",
        "six==1.17.0\n",
        "sklearn-compat==0.1.3\n",
        "sklearn-pandas==2.2.0\n",
        "slicer==0.0.8\n",
        "smart-open==7.1.0\n",
        "smmap==5.0.2\n",
        "sniffio==1.3.1\n",
        "snowballstemmer==2.2.0\n",
        "sortedcontainers==2.4.0\n",
        "soundfile==0.13.1\n",
        "soupsieve==2.6\n",
        "soxr==0.5.0.post1\n",
        "spacy==3.8.5\n",
        "spacy-legacy==3.0.12\n",
        "spacy-loggers==1.0.5\n",
        "spanner-graph-notebook==1.1.6\n",
        "Sphinx==8.2.3\n",
        "sphinxcontrib-applehelp==2.0.0\n",
        "sphinxcontrib-devhelp==2.0.0\n",
        "sphinxcontrib-htmlhelp==2.1.0\n",
        "sphinxcontrib-jsmath==1.0.1\n",
        "sphinxcontrib-qthelp==2.0.0\n",
        "sphinxcontrib-serializinghtml==2.0.0\n",
        "SQLAlchemy==2.0.40\n",
        "sqlglot==25.20.2\n",
        "sqlparse==0.5.3\n",
        "srsly==2.5.1\n",
        "stanio==0.5.1\n",
        "statsmodels==0.14.4\n",
        "stringzilla==3.12.4\n",
        "sympy==1.13.1\n",
        "tables==3.10.2\n",
        "tabulate==0.9.0\n",
        "tbb==2022.1.0\n",
        "tblib==3.1.0\n",
        "tcmlib==1.3.0\n",
        "tenacity==9.1.2\n",
        "tensorboard==2.18.0\n",
        "tensorboard-data-server==0.7.2\n",
        "tensorflow==2.18.0\n",
        "tensorflow-datasets==4.9.8\n",
        "tensorflow-hub==0.16.1\n",
        "tensorflow-io-gcs-filesystem==0.37.1\n",
        "tensorflow-metadata==1.17.1\n",
        "tensorflow-probability==0.25.0\n",
        "tensorflow-text==2.18.1\n",
        "tensorflow_decision_forests==1.11.0\n",
        "tensorstore==0.1.73\n",
        "termcolor==3.0.1\n",
        "terminado==0.18.1\n",
        "text-unidecode==1.3\n",
        "textblob==0.19.0\n",
        "tf-slim==1.1.0\n",
        "tf_keras==2.18.0\n",
        "thinc==8.3.6\n",
        "threadpoolctl==3.6.0\n",
        "tifffile==2025.3.30\n",
        "timm==1.0.15\n",
        "tinycss2==1.4.0\n",
        "tokenizers==0.21.1\n",
        "toml==0.10.2\n",
        "toolz==0.12.1\n",
        "torch @ https://download.pytorch.org/whl/cu124/torch-2.6.0%2Bcu124-cp311-cp311-linux_x86_64.whl\n",
        "torchaudio @ https://download.pytorch.org/whl/cu124/torchaudio-2.6.0%2Bcu124-cp311-cp311-linux_x86_64.whl\n",
        "torchsummary==1.5.1\n",
        "torchvision @ https://download.pytorch.org/whl/cu124/torchvision-0.21.0%2Bcu124-cp311-cp311-linux_x86_64.whl\n",
        "tornado==6.4.2\n",
        "tqdm==4.67.1\n",
        "traitlets==5.7.1\n",
        "traittypes==0.2.1\n",
        "transformers==4.51.3\n",
        "treelite==4.4.1\n",
        "treescope==0.1.9\n",
        "triton==3.2.0\n",
        "tweepy==4.15.0\n",
        "typeguard==4.4.2\n",
        "typer==0.15.2\n",
        "types-pytz==2025.2.0.20250326\n",
        "types-setuptools==79.0.0.20250422\n",
        "typing-inspection==0.4.0\n",
        "typing_extensions==4.13.2\n",
        "tzdata==2025.2\n",
        "tzlocal==5.3.1\n",
        "uc-micro-py==1.0.3\n",
        "ucx-py-cu12==0.42.0\n",
        "ucxx-cu12==0.42.0\n",
        "umap-learn==0.5.7\n",
        "umf==0.10.0\n",
        "uritemplate==4.1.1\n",
        "urllib3==2.3.0\n",
        "vega-datasets==0.9.0\n",
        "visualkeras==0.1.4\n",
        "wadllib==1.3.6\n",
        "wandb==0.19.9\n",
        "wasabi==1.1.3\n",
        "wcwidth==0.2.13\n",
        "weasel==0.4.1\n",
        "webcolors==24.11.1\n",
        "webencodings==0.5.1\n",
        "websocket-client==1.8.0\n",
        "websockets==15.0.1\n",
        "Werkzeug==3.1.3\n",
        "widgetsnbextension==3.6.10\n",
        "wordcloud==1.9.4\n",
        "wrapt==1.17.2\n",
        "wurlitzer==3.1.1\n",
        "xarray==2025.1.2\n",
        "xarray-einstats==0.8.0\n",
        "xgboost==2.1.4\n",
        "xlrd==2.0.1\n",
        "xyzservices==2025.1.0\n",
        "yarl==1.19.0\n",
        "ydf==0.11.0\n",
        "yellowbrick==1.5\n",
        "yfinance==0.2.55\n",
        "zict==3.0.0\n",
        "zipp==3.21.0\n",
        "zstandard==0.23.0\n",
        "```"
      ],
      "metadata": {
        "id": "qs2VjZws7LdB"
      }
    },
    {
      "cell_type": "markdown",
      "source": [
        "## Models. Hooray!"
      ],
      "metadata": {
        "id": "LzoUxcFH7o2j"
      }
    },
    {
      "cell_type": "markdown",
      "source": [
        "### Baseline - Standard CNNs,"
      ],
      "metadata": {
        "id": "Zwbis6RE488h"
      }
    },
    {
      "cell_type": "markdown",
      "source": [
        "### Imports, noting deprecated imports that would have been used in previous versions"
      ],
      "metadata": {
        "id": "OhbCzfP7hp_1"
      }
    },
    {
      "cell_type": "code",
      "source": [
        "import tensorflow as tf\n",
        "from tensorflow import keras\n",
        "from tensorflow.keras import models\n",
        "  #  for: Sequential\n",
        "# from [tensorflow.]keras.models import Sequential\n",
        "from tensorflow.keras import layers\n",
        "  #  for: Dense, Activation, Conv2D, MaxPooling2D,\n",
        "  #+      Dropout, Flatten, Input\n",
        "\n",
        "#  from [tensorflow.].keras.layers import \\\n",
        "#+               Dense, Dropout, Activation,\n",
        "#+               Flatten, Conv2D, MaxPooling2D\n",
        "# from [tensorflow.]keras.layers import Activation\n",
        "# from [tensorflow.]keras.layers.core import Dense, Flatten\n",
        "# from [tensorflow.]keras.layers.core import Dropout\n",
        "# from [tensorflow.]keras.layers.convolutional import Conv2D\n",
        "# from [tensorflow.]keras.layers.pooling import MaxPooling2D\n",
        "\n",
        "from tensorflow.keras import optimizers\n",
        "  # for: Adam\n",
        "#from [tensorflow.]keras.optimizers import Adam\n",
        "from tensorflow.keras import metrics\n",
        "  # for: categorical_crossentropy\n",
        "#from [tensorflow.]keras.metrics import categorical_crossentropy\n",
        "\n",
        "from tensorflow.keras import losses\n",
        "  # for: sparse_categorical_crossentropy\n",
        "#from [tensorflow.]keras.losses import sparse_categorical_crossentropy\n",
        "\n",
        "# Callbacks (logging and seeing the model train)\n",
        "from tensorflow.keras import callbacks\n",
        "  #  for: CSVLogger, Callback  ## custom callback\n",
        "  #+      (maybe EarlyStopping, ModelCheckpoint)\n",
        "#from [tensorflow.]keras.callbacks import CSVLogger\n",
        "\n",
        "\n",
        "import matplotlib.pyplot as plt\n",
        "##%matplotlib inline  # Oh yeah, Colab doesn't like this.\n",
        "import numpy as np\n",
        "\n",
        "##----------------\n",
        "#  VISUALIZATIONS\n",
        "##----------------\n",
        "from PIL import ImageFont"
      ],
      "metadata": {
        "id": "8B4BBRaIshZK"
      },
      "execution_count": 2,
      "outputs": []
    },
    {
      "cell_type": "markdown",
      "source": [
        "Packages requiring installation on Google Colab"
      ],
      "metadata": {
        "id": "R9-KaVcn1DN2"
      }
    },
    {
      "cell_type": "code",
      "source": [
        "#  For nice display of durations\n",
        "!pip install --quiet humanfriendly\n",
        "from humanfriendly import format_timespan\n",
        "\n",
        "\n",
        "#  For visualizations of architectures\n",
        "!pip install --quiet visualkeras\n",
        "import visualkeras\n",
        "\n",
        "!pip install --quiet keras_sequential_ascii\n",
        "from keras_sequential_ascii import keras2ascii"
      ],
      "metadata": {
        "colab": {
          "base_uri": "https://localhost:8080/"
        },
        "id": "uVBbiz_i02yF",
        "outputId": "de0d030c-1e24-4e24-ecc2-9ca26afd0d58"
      },
      "execution_count": 3,
      "outputs": [
        {
          "output_type": "stream",
          "name": "stdout",
          "text": [
            "\u001b[2K   \u001b[90m━━━━━━━━━━━━━━━━━━━━━━━━━━━━━━━━━━━━━━━━\u001b[0m \u001b[32m997.4/997.4 kB\u001b[0m \u001b[31m23.4 MB/s\u001b[0m eta \u001b[36m0:00:00\u001b[0m\n",
            "\u001b[2K   \u001b[90m━━━━━━━━━━━━━━━━━━━━━━━━━━━━━━━━━━━━━━━━\u001b[0m \u001b[32m86.8/86.8 kB\u001b[0m \u001b[31m3.8 MB/s\u001b[0m eta \u001b[36m0:00:00\u001b[0m\n",
            "\u001b[?25h"
          ]
        }
      ]
    },
    {
      "cell_type": "markdown",
      "source": [
        "### Other Imports for More Specialized Parts\n",
        "(e.g. looking at documentation, timing things, ...)"
      ],
      "metadata": {
        "id": "P6pAzGqR4u1I"
      }
    },
    {
      "cell_type": "code",
      "source": [
        "import inspect\n",
        "import timeit"
      ],
      "metadata": {
        "id": "5lK5TlDHgZnx"
      },
      "execution_count": 4,
      "outputs": []
    },
    {
      "cell_type": "markdown",
      "source": [
        "### Let's Bring in the CIFAR10 Dataset - Quick and Reckless Import"
      ],
      "metadata": {
        "id": "4HOWbC1Bh2Xd"
      }
    },
    {
      "cell_type": "code",
      "source": [
        "#  Let's try with the CIFAR10 Dataset. Why not?\n",
        "#+ I'm not sure how dataset imports work, so\n",
        "#+ I'm only importing `cifar10` and not\n",
        "#+ from tensorflow.keras import datasets\n",
        "from tensorflow.keras.datasets import cifar10"
      ],
      "metadata": {
        "id": "g3GVr8uzsd_h"
      },
      "execution_count": 5,
      "outputs": []
    },
    {
      "cell_type": "markdown",
      "source": [
        "Download the data."
      ],
      "metadata": {
        "id": "FDVH0di_tSgZ"
      }
    },
    {
      "cell_type": "code",
      "source": [
        "(x_train, y_train), (x_test, y_test) = cifar10.load_data()"
      ],
      "metadata": {
        "colab": {
          "base_uri": "https://localhost:8080/"
        },
        "id": "mI4NCr9rsxqp",
        "outputId": "98211fcc-3e86-4466-a2e4-91a431c35a63"
      },
      "execution_count": 6,
      "outputs": [
        {
          "output_type": "stream",
          "name": "stdout",
          "text": [
            "Downloading data from https://www.cs.toronto.edu/~kriz/cifar-10-python.tar.gz\n",
            "\u001b[1m170498071/170498071\u001b[0m \u001b[32m━━━━━━━━━━━━━━━━━━━━\u001b[0m\u001b[37m\u001b[0m \u001b[1m4s\u001b[0m 0us/step\n"
          ]
        }
      ]
    },
    {
      "cell_type": "markdown",
      "source": [
        "### Now to start to inspection and the CNN code!"
      ],
      "metadata": {
        "id": "XU0X3sjTw9tS"
      }
    },
    {
      "cell_type": "markdown",
      "source": [
        "Inspect an image a little bit, so we know how we need to normalize, etc."
      ],
      "metadata": {
        "id": "nICVrJTAgXLl"
      }
    },
    {
      "cell_type": "code",
      "source": [
        "image_for_inspection = x_train[0]\n",
        "\n",
        "n_pixels_to_inspect = 5\n",
        "\n",
        "print(f\"Image shape: {image_for_inspection.shape}\")\n",
        "top_corner_array = \\\n",
        "    image_for_inspection[0:n_pixels_to_inspect, 0:n_pixels_to_inspect, :]\n",
        "print(f\"Top left corner values:\\n{top_corner_array}\")\n"
      ],
      "metadata": {
        "colab": {
          "base_uri": "https://localhost:8080/"
        },
        "id": "FEJIb6BNgYId",
        "outputId": "135f9d57-2f11-43fc-92c1-3aa190228816"
      },
      "execution_count": 7,
      "outputs": [
        {
          "output_type": "stream",
          "name": "stdout",
          "text": [
            "Image shape: (32, 32, 3)\n",
            "Top left corner values:\n",
            "[[[ 59  62  63]\n",
            "  [ 43  46  45]\n",
            "  [ 50  48  43]\n",
            "  [ 68  54  42]\n",
            "  [ 98  73  52]]\n",
            "\n",
            " [[ 16  20  20]\n",
            "  [  0   0   0]\n",
            "  [ 18   8   0]\n",
            "  [ 51  27   8]\n",
            "  [ 88  51  21]]\n",
            "\n",
            " [[ 25  24  21]\n",
            "  [ 16   7   0]\n",
            "  [ 49  27   8]\n",
            "  [ 83  50  23]\n",
            "  [110  72  41]]\n",
            "\n",
            " [[ 33  25  17]\n",
            "  [ 38  20   4]\n",
            "  [ 87  54  25]\n",
            "  [106  63  28]\n",
            "  [115  70  33]]\n",
            "\n",
            " [[ 50  32  21]\n",
            "  [ 59  32  11]\n",
            "  [102  65  34]\n",
            "  [127  79  39]\n",
            "  [124  77  36]]]\n"
          ]
        }
      ]
    },
    {
      "cell_type": "code",
      "source": [
        "print( (\n",
        "    \"\\n\\nNotice that stacking them side-by-side would give us \\n\"\n",
        "    \"the RGB values as they'd be seen in the image, but \\n\"\n",
        "    \"I'm going for quick stuff. Assuming 255 would be okay, \\n\"\n",
        "    \"or perhaps I should say reasonable, but let's do a better\\n\"\n",
        "    \"check.\\n\"\n",
        "    )\n",
        ")\n",
        "\n",
        "print( (\n",
        "    f\"Minimum single RGB value: {min(image_for_inspection.flatten())}\\n\"\n",
        "    f\"Maximum single RGB value: {max(image_for_inspection.flatten())}\"\n",
        "    )\n",
        ")"
      ],
      "metadata": {
        "colab": {
          "base_uri": "https://localhost:8080/"
        },
        "id": "H5vMHDelu9Xd",
        "outputId": "2b455889-8625-4659-f2e5-a929e105d933"
      },
      "execution_count": 8,
      "outputs": [
        {
          "output_type": "stream",
          "name": "stdout",
          "text": [
            "\n",
            "\n",
            "Notice that stacking them side-by-side would give us \n",
            "the RGB values as they'd be seen in the image, but \n",
            "I'm going for quick stuff. Assuming 255 would be okay, \n",
            "or perhaps I should say reasonable, but let's do a better\n",
            "check.\n",
            "\n",
            "Minimum single RGB value: 0\n",
            "Maximum single RGB value: 255\n"
          ]
        }
      ]
    },
    {
      "cell_type": "code",
      "source": [
        "# Normalize pixel values between 0 and 1\n",
        "x_train, x_test = x_train / 255.0, x_test / 255.0"
      ],
      "metadata": {
        "id": "OTKk57-aYt23"
      },
      "execution_count": 36,
      "outputs": []
    },
    {
      "cell_type": "code",
      "source": [
        "#  Cool visualization of some of our new data, but first\n",
        "#+ let's double check the image size\n",
        "\n",
        "print(f\"Another image's shape: {x_train[1].shape}\")\n",
        "\n",
        "n_pixels_per_side = 32\n",
        "n_channels = 3\n",
        "#  Making sure it's what we expect\n",
        "assert x_train[1].shape == (n_pixels_per_side,\n",
        "                            n_pixels_per_side,\n",
        "                            n_channels\n",
        "       )\n",
        "\n",
        "print(\"If you've gotten here, the shape is correct, \", end=\"\")\n",
        "print(f\"({n_pixels_per_side}, {n_pixels_per_side}, {n_channels})\")"
      ],
      "metadata": {
        "colab": {
          "base_uri": "https://localhost:8080/"
        },
        "id": "EnCTTYM2Y3Ce",
        "outputId": "399a7e86-c212-45d6-cdfa-57bb0c285856"
      },
      "execution_count": 9,
      "outputs": [
        {
          "output_type": "stream",
          "name": "stdout",
          "text": [
            "Another image's shape: (32, 32, 3)\n",
            "If you've gotten here, the shape is correct, (32, 32, 3)\n"
          ]
        }
      ]
    },
    {
      "cell_type": "code",
      "source": [
        "#  The class names with indexes as defined by CIFAR\n",
        "class_names = ['airplane', 'automobile', 'bird', 'cat', 'deer',\n",
        "               'dog', 'frog', 'horse', 'ship', 'truck']\n",
        "\n",
        "n_classes = len(class_names)\n",
        "\n",
        "#  Let's show some images\n",
        "good_figsize_val = 8\n",
        "plt.figure(figsize=(good_figsize_val, good_figsize_val))\n",
        "\n",
        "n_rows = 5\n",
        "n_cols = n_rows  # Let's make our output of images square\n",
        "\n",
        "n_images_to_show = n_rows * n_cols\n",
        "for i in range(n_images_to_show):\n",
        "  plt.subplot(n_rows, n_cols, i+1)\n",
        "  plt.xticks([])\n",
        "  plt.yticks([])\n",
        "  plt.grid(False)\n",
        "  plt.imshow(x_train[i])\n",
        "  #  CIFAR labels are arrays, which is\n",
        "  #+ why we need the extra index.\n",
        "  plt.xlabel(class_names[y_train[i][0]])\n",
        "##endof:  for i in range(n_images_to_show)\n",
        "\n",
        "plt.show()"
      ],
      "metadata": {
        "colab": {
          "base_uri": "https://localhost:8080/",
          "height": 672
        },
        "id": "wAX1pDeGbrLT",
        "outputId": "434dc0cb-750b-4338-d2f8-d70d1b82e007"
      },
      "execution_count": 10,
      "outputs": [
        {
          "output_type": "display_data",
          "data": {
            "text/plain": [
              "<Figure size 800x800 with 25 Axes>"
            ],
            "image/png": "[encoded data removed]"
          },
          "metadata": {}
        }
      ]
    },
    {
      "cell_type": "markdown",
      "source": [
        "#### I want to see exactly what the `filters` parameter is."
      ],
      "metadata": {
        "id": "dq1GYz80DiFB"
      }
    },
    {
      "cell_type": "code",
      "source": [
        "print('\\n'.join(inspect.getdoc(layers.Conv2D).splitlines()[:54]))"
      ],
      "metadata": {
        "colab": {
          "base_uri": "https://localhost:8080/"
        },
        "id": "vG_cSxxPesht",
        "outputId": "47c412bd-4cc4-4d9f-c97e-d9ff3982a926"
      },
      "execution_count": 11,
      "outputs": [
        {
          "output_type": "stream",
          "name": "stdout",
          "text": [
            "2D convolution layer.\n",
            "\n",
            "This layer creates a convolution kernel that is convolved with the layer\n",
            "input over a 2D spatial (or temporal) dimension (height and width) to\n",
            "produce a tensor of outputs. If `use_bias` is True, a bias vector is created\n",
            "and added to the outputs. Finally, if `activation` is not `None`, it is\n",
            "applied to the outputs as well.\n",
            "\n",
            "Args:\n",
            "    filters: int, the dimension of the output space (the number of filters\n",
            "        in the convolution).\n",
            "    kernel_size: int or tuple/list of 2 integer, specifying the size of the\n",
            "        convolution window.\n",
            "    strides: int or tuple/list of 2 integer, specifying the stride length\n",
            "        of the convolution. `strides > 1` is incompatible with\n",
            "        `dilation_rate > 1`.\n",
            "    padding: string, either `\"valid\"` or `\"same\"` (case-insensitive).\n",
            "        `\"valid\"` means no padding. `\"same\"` results in padding evenly to\n",
            "        the left/right or up/down of the input. When `padding=\"same\"` and\n",
            "        `strides=1`, the output has the same size as the input.\n",
            "    data_format: string, either `\"channels_last\"` or `\"channels_first\"`.\n",
            "        The ordering of the dimensions in the inputs. `\"channels_last\"`\n",
            "        corresponds to inputs with shape\n",
            "        `(batch_size, height, width, channels)`\n",
            "        while `\"channels_first\"` corresponds to inputs with shape\n",
            "        `(batch_size, channels, height, width)`. It defaults to the\n",
            "        `image_data_format` value found in your Keras config file at\n",
            "        `~/.keras/keras.json`. If you never set it, then it will be\n",
            "        `\"channels_last\"`.\n",
            "    dilation_rate: int or tuple/list of 2 integers, specifying the dilation\n",
            "        rate to use for dilated convolution.\n",
            "    groups: A positive int specifying the number of groups in which the\n",
            "        input is split along the channel axis. Each group is convolved\n",
            "        separately with `filters // groups` filters. The output is the\n",
            "        concatenation of all the `groups` results along the channel axis.\n",
            "        Input channels and `filters` must both be divisible by `groups`.\n",
            "    activation: Activation function. If `None`, no activation is applied.\n",
            "    use_bias: bool, if `True`, bias will be added to the output.\n",
            "    kernel_initializer: Initializer for the convolution kernel. If `None`,\n",
            "        the default initializer (`\"glorot_uniform\"`) will be used.\n",
            "    bias_initializer: Initializer for the bias vector. If `None`, the\n",
            "        default initializer (`\"zeros\"`) will be used.\n",
            "    kernel_regularizer: Optional regularizer for the convolution kernel.\n",
            "    bias_regularizer: Optional regularizer for the bias vector.\n",
            "    activity_regularizer: Optional regularizer function for the output.\n",
            "    kernel_constraint: Optional projection function to be applied to the\n",
            "        kernel after being updated by an `Optimizer` (e.g. used to implement\n",
            "        norm constraints or value constraints for layer weights). The\n",
            "        function must take as input the unprojected variable and must return\n",
            "        the projected variable (which must have the same shape). Constraints\n",
            "        are not safe to use when doing asynchronous distributed training.\n",
            "    bias_constraint: Optional projection function to be applied to the\n",
            "        bias after being updated by an `Optimizer`.\n",
            "\n"
          ]
        }
      ]
    },
    {
      "cell_type": "markdown",
      "source": [
        "#### I wanted to see exactly what the `filters` parameter was:\n",
        "\n",
        "```\n",
        "filters: int, the dimension of the output space (the number of filters\n",
        "         in the convolution).\n",
        "```"
      ],
      "metadata": {
        "id": "pc5pqXrVmE0v"
      }
    },
    {
      "cell_type": "markdown",
      "source": [
        "### Model Construction"
      ],
      "metadata": {
        "id": "Xr-R1_-MtJHt"
      }
    },
    {
      "cell_type": "markdown",
      "source": [
        "#### Shell/Skeleton"
      ],
      "metadata": {
        "id": "6BbHz60utyGE"
      }
    },
    {
      "cell_type": "code",
      "source": [
        "model_0 = models.Sequential()  # the shell of our model"
      ],
      "metadata": {
        "id": "fkMbmH5BtDpk"
      },
      "execution_count": 12,
      "outputs": []
    },
    {
      "cell_type": "markdown",
      "source": [
        "#### Input Layer"
      ],
      "metadata": {
        "id": "vFXbJJihtSIK"
      }
    },
    {
      "cell_type": "code",
      "source": [
        "#  Input layer\n",
        "\n",
        "n_pix = n_pixels_per_side\n",
        "\n",
        "in_0 = layers.Input(shape=(n_pix, n_pix, n_channels))\n",
        "model_0.add(in_0)\n",
        "\n",
        "\n",
        "#  First convolutional layer\n",
        "\n",
        "conv_1 = layers.Conv2D(filters=32,\n",
        "                       kernel_size=(3, 3),\n",
        "                       padding='same'\n",
        "                )\n",
        "\n",
        "model_0.add(conv_1_1)\n",
        "model_0.add(layers.Activation('relu'))\n",
        "\n",
        "##  Same as\n",
        "#conv_1_2 = layers.Conv2D(filters=32,\n",
        "#                         kernel_size=(3, 3),\n",
        "#                         activation='relu',\n",
        "#                         padding='same'\n",
        "#           )\n",
        "\n",
        "\n",
        "#  First pooling layer\n",
        "\n",
        "pool_0 = layers.MaxPooling2D(pool_size=(2, 2),\n",
        "                             strides=2,\n",
        "                             padding='valid'\n",
        "                )\n",
        "  #  Note that `strides=2` is the default for `pool_size=(2,2)`,\n",
        "  #+ but I want to make sure I see details. `padding='valid'`\n",
        "  #+ is also default.\n",
        "\n",
        "model_0.add(pool_0)"
      ],
      "metadata": {
        "colab": {
          "base_uri": "https://localhost:8080/",
          "height": 220
        },
        "id": "FYQRlH3-V6sM",
        "outputId": "8005c831-28b4-41c6-e332-9a1cf0bf90ca"
      },
      "execution_count": 13,
      "outputs": [
        {
          "output_type": "error",
          "ename": "NameError",
          "evalue": "name 'conv_1_1' is not defined",
          "traceback": [
            "\u001b[0;31m---------------------------------------------------------------------------\u001b[0m",
            "\u001b[0;31mNameError\u001b[0m                                 Traceback (most recent call last)",
            "\u001b[0;32m<ipython-input-13-0532bf933f85>\u001b[0m in \u001b[0;36m<cell line: 0>\u001b[0;34m()\u001b[0m\n\u001b[1;32m     14\u001b[0m                 )\n\u001b[1;32m     15\u001b[0m \u001b[0;34m\u001b[0m\u001b[0m\n\u001b[0;32m---> 16\u001b[0;31m \u001b[0mmodel_0\u001b[0m\u001b[0;34m.\u001b[0m\u001b[0madd\u001b[0m\u001b[0;34m(\u001b[0m\u001b[0mconv_1_1\u001b[0m\u001b[0;34m)\u001b[0m\u001b[0;34m\u001b[0m\u001b[0;34m\u001b[0m\u001b[0m\n\u001b[0m\u001b[1;32m     17\u001b[0m \u001b[0mmodel_0\u001b[0m\u001b[0;34m.\u001b[0m\u001b[0madd\u001b[0m\u001b[0;34m(\u001b[0m\u001b[0mlayers\u001b[0m\u001b[0;34m.\u001b[0m\u001b[0mActivation\u001b[0m\u001b[0;34m(\u001b[0m\u001b[0;34m'relu'\u001b[0m\u001b[0;34m)\u001b[0m\u001b[0;34m)\u001b[0m\u001b[0;34m\u001b[0m\u001b[0;34m\u001b[0m\u001b[0m\n\u001b[1;32m     18\u001b[0m \u001b[0;34m\u001b[0m\u001b[0m\n",
            "\u001b[0;31mNameError\u001b[0m: name 'conv_1_1' is not defined"
          ]
        }
      ]
    },
    {
      "cell_type": "code",
      "source": [
        "model_0.summary()"
      ],
      "metadata": {
        "colab": {
          "base_uri": "https://localhost:8080/",
          "height": 148
        },
        "id": "igDdlBIBtje2",
        "outputId": "c6b5f02e-7d1a-48c0-8fb1-b447acc22207"
      },
      "execution_count": 42,
      "outputs": [
        {
          "output_type": "display_data",
          "data": {
            "text/plain": [
              "\u001b[1mModel: \"sequential_1\"\u001b[0m\n"
            ],
            "text/html": [
              "<pre style=\"white-space:pre;overflow-x:auto;line-height:normal;font-family:Menlo,'DejaVu Sans Mono',consolas,'Courier New',monospace\"><span style=\"font-weight: bold\">Model: \"sequential_1\"</span>\n",
              "</pre>\n"
            ]
          },
          "metadata": {}
        },
        {
          "output_type": "display_data",
          "data": {
            "text/plain": [
              "┏━━━━━━━━━━━━━━━━━━━━━━━━━━━━━━━━━┳━━━━━━━━━━━━━━━━━━━━━━━━┳━━━━━━━━━━━━━━━┓\n",
              "┃\u001b[1m \u001b[0m\u001b[1mLayer (type)                   \u001b[0m\u001b[1m \u001b[0m┃\u001b[1m \u001b[0m\u001b[1mOutput Shape          \u001b[0m\u001b[1m \u001b[0m┃\u001b[1m \u001b[0m\u001b[1m      Param #\u001b[0m\u001b[1m \u001b[0m┃\n",
              "┡━━━━━━━━━━━━━━━━━━━━━━━━━━━━━━━━━╇━━━━━━━━━━━━━━━━━━━━━━━━╇━━━━━━━━━━━━━━━┩\n",
              "└─────────────────────────────────┴────────────────────────┴───────────────┘\n"
            ],
            "text/html": [
              "<pre style=\"white-space:pre;overflow-x:auto;line-height:normal;font-family:Menlo,'DejaVu Sans Mono',consolas,'Courier New',monospace\">┏━━━━━━━━━━━━━━━━━━━━━━━━━━━━━━━━━┳━━━━━━━━━━━━━━━━━━━━━━━━┳━━━━━━━━━━━━━━━┓\n",
              "┃<span style=\"font-weight: bold\"> Layer (type)                    </span>┃<span style=\"font-weight: bold\"> Output Shape           </span>┃<span style=\"font-weight: bold\">       Param # </span>┃\n",
              "┡━━━━━━━━━━━━━━━━━━━━━━━━━━━━━━━━━╇━━━━━━━━━━━━━━━━━━━━━━━━╇━━━━━━━━━━━━━━━┩\n",
              "└─────────────────────────────────┴────────────────────────┴───────────────┘\n",
              "</pre>\n"
            ]
          },
          "metadata": {}
        },
        {
          "output_type": "display_data",
          "data": {
            "text/plain": [
              "\u001b[1m Total params: \u001b[0m\u001b[38;5;34m0\u001b[0m (0.00 B)\n"
            ],
            "text/html": [
              "<pre style=\"white-space:pre;overflow-x:auto;line-height:normal;font-family:Menlo,'DejaVu Sans Mono',consolas,'Courier New',monospace\"><span style=\"font-weight: bold\"> Total params: </span><span style=\"color: #00af00; text-decoration-color: #00af00\">0</span> (0.00 B)\n",
              "</pre>\n"
            ]
          },
          "metadata": {}
        },
        {
          "output_type": "display_data",
          "data": {
            "text/plain": [
              "\u001b[1m Trainable params: \u001b[0m\u001b[38;5;34m0\u001b[0m (0.00 B)\n"
            ],
            "text/html": [
              "<pre style=\"white-space:pre;overflow-x:auto;line-height:normal;font-family:Menlo,'DejaVu Sans Mono',consolas,'Courier New',monospace\"><span style=\"font-weight: bold\"> Trainable params: </span><span style=\"color: #00af00; text-decoration-color: #00af00\">0</span> (0.00 B)\n",
              "</pre>\n"
            ]
          },
          "metadata": {}
        },
        {
          "output_type": "display_data",
          "data": {
            "text/plain": [
              "\u001b[1m Non-trainable params: \u001b[0m\u001b[38;5;34m0\u001b[0m (0.00 B)\n"
            ],
            "text/html": [
              "<pre style=\"white-space:pre;overflow-x:auto;line-height:normal;font-family:Menlo,'DejaVu Sans Mono',consolas,'Courier New',monospace\"><span style=\"font-weight: bold\"> Non-trainable params: </span><span style=\"color: #00af00; text-decoration-color: #00af00\">0</span> (0.00 B)\n",
              "</pre>\n"
            ]
          },
          "metadata": {}
        }
      ]
    },
    {
      "cell_type": "markdown",
      "source": [
        "### First Convolutional Layer"
      ],
      "metadata": {
        "id": "L0X2OTjAtvFk"
      }
    },
    {
      "cell_type": "code",
      "source": [
        "#  First convolutional layer\n",
        "\n",
        "n_filters_1 = 32\n",
        "\n",
        "conv_1 = layers.Conv2D(filters=n_filters_1,\n",
        "                       kernel_size=(3, 3),\n",
        "                       padding='same'\n",
        "                )\n",
        "\n",
        "model_0.add(conv_1)\n",
        "model_0.add(layers.Activation('relu'))\n",
        "\n",
        "##  Same as\n",
        "#conv_1_2 = layers.Conv2D(filters=32,\n",
        "#                         kernel_size=(3, 3),\n",
        "#                         activation='relu',\n",
        "#                         padding='same'\n",
        "#           )"
      ],
      "metadata": {
        "id": "6oQCxrAOtbDV"
      },
      "execution_count": 43,
      "outputs": []
    },
    {
      "cell_type": "code",
      "source": [
        "model_0.summary()"
      ],
      "metadata": {
        "colab": {
          "base_uri": "https://localhost:8080/",
          "height": 197
        },
        "id": "9lvRx40zuEJV",
        "outputId": "edbc78e3-679a-438c-c668-9f38a1641b9c"
      },
      "execution_count": 44,
      "outputs": [
        {
          "output_type": "display_data",
          "data": {
            "text/plain": [
              "\u001b[1mModel: \"sequential_1\"\u001b[0m\n"
            ],
            "text/html": [
              "<pre style=\"white-space:pre;overflow-x:auto;line-height:normal;font-family:Menlo,'DejaVu Sans Mono',consolas,'Courier New',monospace\"><span style=\"font-weight: bold\">Model: \"sequential_1\"</span>\n",
              "</pre>\n"
            ]
          },
          "metadata": {}
        },
        {
          "output_type": "display_data",
          "data": {
            "text/plain": [
              "┏━━━━━━━━━━━━━━━━━━━━━━━━━━━━━━━━━┳━━━━━━━━━━━━━━━━━━━━━━━━┳━━━━━━━━━━━━━━━┓\n",
              "┃\u001b[1m \u001b[0m\u001b[1mLayer (type)                   \u001b[0m\u001b[1m \u001b[0m┃\u001b[1m \u001b[0m\u001b[1mOutput Shape          \u001b[0m\u001b[1m \u001b[0m┃\u001b[1m \u001b[0m\u001b[1m      Param #\u001b[0m\u001b[1m \u001b[0m┃\n",
              "┡━━━━━━━━━━━━━━━━━━━━━━━━━━━━━━━━━╇━━━━━━━━━━━━━━━━━━━━━━━━╇━━━━━━━━━━━━━━━┩\n",
              "│ conv2d_3 (\u001b[38;5;33mConv2D\u001b[0m)               │ (\u001b[38;5;45mNone\u001b[0m, \u001b[38;5;34m32\u001b[0m, \u001b[38;5;34m32\u001b[0m, \u001b[38;5;34m32\u001b[0m)     │           \u001b[38;5;34m896\u001b[0m │\n",
              "├─────────────────────────────────┼────────────────────────┼───────────────┤\n",
              "│ activation_5 (\u001b[38;5;33mActivation\u001b[0m)       │ (\u001b[38;5;45mNone\u001b[0m, \u001b[38;5;34m32\u001b[0m, \u001b[38;5;34m32\u001b[0m, \u001b[38;5;34m32\u001b[0m)     │             \u001b[38;5;34m0\u001b[0m │\n",
              "└─────────────────────────────────┴────────────────────────┴───────────────┘\n"
            ],
            "text/html": [
              "<pre style=\"white-space:pre;overflow-x:auto;line-height:normal;font-family:Menlo,'DejaVu Sans Mono',consolas,'Courier New',monospace\">┏━━━━━━━━━━━━━━━━━━━━━━━━━━━━━━━━━┳━━━━━━━━━━━━━━━━━━━━━━━━┳━━━━━━━━━━━━━━━┓\n",
              "┃<span style=\"font-weight: bold\"> Layer (type)                    </span>┃<span style=\"font-weight: bold\"> Output Shape           </span>┃<span style=\"font-weight: bold\">       Param # </span>┃\n",
              "┡━━━━━━━━━━━━━━━━━━━━━━━━━━━━━━━━━╇━━━━━━━━━━━━━━━━━━━━━━━━╇━━━━━━━━━━━━━━━┩\n",
              "│ conv2d_3 (<span style=\"color: #0087ff; text-decoration-color: #0087ff\">Conv2D</span>)               │ (<span style=\"color: #00d7ff; text-decoration-color: #00d7ff\">None</span>, <span style=\"color: #00af00; text-decoration-color: #00af00\">32</span>, <span style=\"color: #00af00; text-decoration-color: #00af00\">32</span>, <span style=\"color: #00af00; text-decoration-color: #00af00\">32</span>)     │           <span style=\"color: #00af00; text-decoration-color: #00af00\">896</span> │\n",
              "├─────────────────────────────────┼────────────────────────┼───────────────┤\n",
              "│ activation_5 (<span style=\"color: #0087ff; text-decoration-color: #0087ff\">Activation</span>)       │ (<span style=\"color: #00d7ff; text-decoration-color: #00d7ff\">None</span>, <span style=\"color: #00af00; text-decoration-color: #00af00\">32</span>, <span style=\"color: #00af00; text-decoration-color: #00af00\">32</span>, <span style=\"color: #00af00; text-decoration-color: #00af00\">32</span>)     │             <span style=\"color: #00af00; text-decoration-color: #00af00\">0</span> │\n",
              "└─────────────────────────────────┴────────────────────────┴───────────────┘\n",
              "</pre>\n"
            ]
          },
          "metadata": {}
        },
        {
          "output_type": "display_data",
          "data": {
            "text/plain": [
              "\u001b[1m Total params: \u001b[0m\u001b[38;5;34m896\u001b[0m (3.50 KB)\n"
            ],
            "text/html": [
              "<pre style=\"white-space:pre;overflow-x:auto;line-height:normal;font-family:Menlo,'DejaVu Sans Mono',consolas,'Courier New',monospace\"><span style=\"font-weight: bold\"> Total params: </span><span style=\"color: #00af00; text-decoration-color: #00af00\">896</span> (3.50 KB)\n",
              "</pre>\n"
            ]
          },
          "metadata": {}
        },
        {
          "output_type": "display_data",
          "data": {
            "text/plain": [
              "\u001b[1m Trainable params: \u001b[0m\u001b[38;5;34m896\u001b[0m (3.50 KB)\n"
            ],
            "text/html": [
              "<pre style=\"white-space:pre;overflow-x:auto;line-height:normal;font-family:Menlo,'DejaVu Sans Mono',consolas,'Courier New',monospace\"><span style=\"font-weight: bold\"> Trainable params: </span><span style=\"color: #00af00; text-decoration-color: #00af00\">896</span> (3.50 KB)\n",
              "</pre>\n"
            ]
          },
          "metadata": {}
        },
        {
          "output_type": "display_data",
          "data": {
            "text/plain": [
              "\u001b[1m Non-trainable params: \u001b[0m\u001b[38;5;34m0\u001b[0m (0.00 B)\n"
            ],
            "text/html": [
              "<pre style=\"white-space:pre;overflow-x:auto;line-height:normal;font-family:Menlo,'DejaVu Sans Mono',consolas,'Courier New',monospace\"><span style=\"font-weight: bold\"> Non-trainable params: </span><span style=\"color: #00af00; text-decoration-color: #00af00\">0</span> (0.00 B)\n",
              "</pre>\n"
            ]
          },
          "metadata": {}
        }
      ]
    },
    {
      "cell_type": "markdown",
      "source": [
        "### First Pooling Layer"
      ],
      "metadata": {
        "id": "ezJ1ef8It9wh"
      }
    },
    {
      "cell_type": "code",
      "source": [
        "#  First pooling layer\n",
        "\n",
        "pool_0 = layers.MaxPooling2D(pool_size=(2, 2),\n",
        "                             strides=2,\n",
        "                             padding='valid'\n",
        "                )\n",
        "  #  Note that `strides=2` is the default for `pool_size=(2,2)`,\n",
        "  #+ but I want to make sure I see details. `padding='valid'`\n",
        "  #+ is also default.\n",
        "\n",
        "model_0.add(pool_0)"
      ],
      "metadata": {
        "id": "nVE_bFeNthNN"
      },
      "execution_count": 45,
      "outputs": []
    },
    {
      "cell_type": "code",
      "source": [
        "model_0.summary()"
      ],
      "metadata": {
        "colab": {
          "base_uri": "https://localhost:8080/",
          "height": 230
        },
        "id": "KPMjdOzAof4z",
        "outputId": "efd04db5-8d61-4c5b-de30-db8993f80aef"
      },
      "execution_count": 46,
      "outputs": [
        {
          "output_type": "display_data",
          "data": {
            "text/plain": [
              "\u001b[1mModel: \"sequential_1\"\u001b[0m\n"
            ],
            "text/html": [
              "<pre style=\"white-space:pre;overflow-x:auto;line-height:normal;font-family:Menlo,'DejaVu Sans Mono',consolas,'Courier New',monospace\"><span style=\"font-weight: bold\">Model: \"sequential_1\"</span>\n",
              "</pre>\n"
            ]
          },
          "metadata": {}
        },
        {
          "output_type": "display_data",
          "data": {
            "text/plain": [
              "┏━━━━━━━━━━━━━━━━━━━━━━━━━━━━━━━━━┳━━━━━━━━━━━━━━━━━━━━━━━━┳━━━━━━━━━━━━━━━┓\n",
              "┃\u001b[1m \u001b[0m\u001b[1mLayer (type)                   \u001b[0m\u001b[1m \u001b[0m┃\u001b[1m \u001b[0m\u001b[1mOutput Shape          \u001b[0m\u001b[1m \u001b[0m┃\u001b[1m \u001b[0m\u001b[1m      Param #\u001b[0m\u001b[1m \u001b[0m┃\n",
              "┡━━━━━━━━━━━━━━━━━━━━━━━━━━━━━━━━━╇━━━━━━━━━━━━━━━━━━━━━━━━╇━━━━━━━━━━━━━━━┩\n",
              "│ conv2d_3 (\u001b[38;5;33mConv2D\u001b[0m)               │ (\u001b[38;5;45mNone\u001b[0m, \u001b[38;5;34m32\u001b[0m, \u001b[38;5;34m32\u001b[0m, \u001b[38;5;34m32\u001b[0m)     │           \u001b[38;5;34m896\u001b[0m │\n",
              "├─────────────────────────────────┼────────────────────────┼───────────────┤\n",
              "│ activation_5 (\u001b[38;5;33mActivation\u001b[0m)       │ (\u001b[38;5;45mNone\u001b[0m, \u001b[38;5;34m32\u001b[0m, \u001b[38;5;34m32\u001b[0m, \u001b[38;5;34m32\u001b[0m)     │             \u001b[38;5;34m0\u001b[0m │\n",
              "├─────────────────────────────────┼────────────────────────┼───────────────┤\n",
              "│ max_pooling2d_3 (\u001b[38;5;33mMaxPooling2D\u001b[0m)  │ (\u001b[38;5;45mNone\u001b[0m, \u001b[38;5;34m16\u001b[0m, \u001b[38;5;34m16\u001b[0m, \u001b[38;5;34m32\u001b[0m)     │             \u001b[38;5;34m0\u001b[0m │\n",
              "└─────────────────────────────────┴────────────────────────┴───────────────┘\n"
            ],
            "text/html": [
              "<pre style=\"white-space:pre;overflow-x:auto;line-height:normal;font-family:Menlo,'DejaVu Sans Mono',consolas,'Courier New',monospace\">┏━━━━━━━━━━━━━━━━━━━━━━━━━━━━━━━━━┳━━━━━━━━━━━━━━━━━━━━━━━━┳━━━━━━━━━━━━━━━┓\n",
              "┃<span style=\"font-weight: bold\"> Layer (type)                    </span>┃<span style=\"font-weight: bold\"> Output Shape           </span>┃<span style=\"font-weight: bold\">       Param # </span>┃\n",
              "┡━━━━━━━━━━━━━━━━━━━━━━━━━━━━━━━━━╇━━━━━━━━━━━━━━━━━━━━━━━━╇━━━━━━━━━━━━━━━┩\n",
              "│ conv2d_3 (<span style=\"color: #0087ff; text-decoration-color: #0087ff\">Conv2D</span>)               │ (<span style=\"color: #00d7ff; text-decoration-color: #00d7ff\">None</span>, <span style=\"color: #00af00; text-decoration-color: #00af00\">32</span>, <span style=\"color: #00af00; text-decoration-color: #00af00\">32</span>, <span style=\"color: #00af00; text-decoration-color: #00af00\">32</span>)     │           <span style=\"color: #00af00; text-decoration-color: #00af00\">896</span> │\n",
              "├─────────────────────────────────┼────────────────────────┼───────────────┤\n",
              "│ activation_5 (<span style=\"color: #0087ff; text-decoration-color: #0087ff\">Activation</span>)       │ (<span style=\"color: #00d7ff; text-decoration-color: #00d7ff\">None</span>, <span style=\"color: #00af00; text-decoration-color: #00af00\">32</span>, <span style=\"color: #00af00; text-decoration-color: #00af00\">32</span>, <span style=\"color: #00af00; text-decoration-color: #00af00\">32</span>)     │             <span style=\"color: #00af00; text-decoration-color: #00af00\">0</span> │\n",
              "├─────────────────────────────────┼────────────────────────┼───────────────┤\n",
              "│ max_pooling2d_3 (<span style=\"color: #0087ff; text-decoration-color: #0087ff\">MaxPooling2D</span>)  │ (<span style=\"color: #00d7ff; text-decoration-color: #00d7ff\">None</span>, <span style=\"color: #00af00; text-decoration-color: #00af00\">16</span>, <span style=\"color: #00af00; text-decoration-color: #00af00\">16</span>, <span style=\"color: #00af00; text-decoration-color: #00af00\">32</span>)     │             <span style=\"color: #00af00; text-decoration-color: #00af00\">0</span> │\n",
              "└─────────────────────────────────┴────────────────────────┴───────────────┘\n",
              "</pre>\n"
            ]
          },
          "metadata": {}
        },
        {
          "output_type": "display_data",
          "data": {
            "text/plain": [
              "\u001b[1m Total params: \u001b[0m\u001b[38;5;34m896\u001b[0m (3.50 KB)\n"
            ],
            "text/html": [
              "<pre style=\"white-space:pre;overflow-x:auto;line-height:normal;font-family:Menlo,'DejaVu Sans Mono',consolas,'Courier New',monospace\"><span style=\"font-weight: bold\"> Total params: </span><span style=\"color: #00af00; text-decoration-color: #00af00\">896</span> (3.50 KB)\n",
              "</pre>\n"
            ]
          },
          "metadata": {}
        },
        {
          "output_type": "display_data",
          "data": {
            "text/plain": [
              "\u001b[1m Trainable params: \u001b[0m\u001b[38;5;34m896\u001b[0m (3.50 KB)\n"
            ],
            "text/html": [
              "<pre style=\"white-space:pre;overflow-x:auto;line-height:normal;font-family:Menlo,'DejaVu Sans Mono',consolas,'Courier New',monospace\"><span style=\"font-weight: bold\"> Trainable params: </span><span style=\"color: #00af00; text-decoration-color: #00af00\">896</span> (3.50 KB)\n",
              "</pre>\n"
            ]
          },
          "metadata": {}
        },
        {
          "output_type": "display_data",
          "data": {
            "text/plain": [
              "\u001b[1m Non-trainable params: \u001b[0m\u001b[38;5;34m0\u001b[0m (0.00 B)\n"
            ],
            "text/html": [
              "<pre style=\"white-space:pre;overflow-x:auto;line-height:normal;font-family:Menlo,'DejaVu Sans Mono',consolas,'Courier New',monospace\"><span style=\"font-weight: bold\"> Non-trainable params: </span><span style=\"color: #00af00; text-decoration-color: #00af00\">0</span> (0.00 B)\n",
              "</pre>\n"
            ]
          },
          "metadata": {}
        }
      ]
    },
    {
      "cell_type": "markdown",
      "source": [
        "### Second Convolutional Layer and Pooling"
      ],
      "metadata": {
        "id": "od0mA_G0uTKS"
      }
    },
    {
      "cell_type": "code",
      "source": [
        "n_filters_2 = 64\n",
        "\n",
        "conv_2 = layers.Conv2D(filters=n_filters_2,\n",
        "                       kernel_size=(3, 3),\n",
        "                       padding='same'\n",
        "                )\n",
        "\n",
        "model_0.add(conv_2)\n",
        "model_0.add(layers.Activation('relu'))\n",
        "\n",
        "pool_2 = layers.MaxPooling2D(pool_size=(2, 2))\n",
        "\n",
        "model_0.add(pool_2)"
      ],
      "metadata": {
        "id": "ZxQvL1u8uaaZ"
      },
      "execution_count": 47,
      "outputs": []
    },
    {
      "cell_type": "code",
      "source": [
        "model_0.summary()"
      ],
      "metadata": {
        "colab": {
          "base_uri": "https://localhost:8080/",
          "height": 328
        },
        "id": "GawqxkGluac4",
        "outputId": "ae50e171-5eb2-4691-bff2-19dd2ea9d927"
      },
      "execution_count": 48,
      "outputs": [
        {
          "output_type": "display_data",
          "data": {
            "text/plain": [
              "\u001b[1mModel: \"sequential_1\"\u001b[0m\n"
            ],
            "text/html": [
              "<pre style=\"white-space:pre;overflow-x:auto;line-height:normal;font-family:Menlo,'DejaVu Sans Mono',consolas,'Courier New',monospace\"><span style=\"font-weight: bold\">Model: \"sequential_1\"</span>\n",
              "</pre>\n"
            ]
          },
          "metadata": {}
        },
        {
          "output_type": "display_data",
          "data": {
            "text/plain": [
              "┏━━━━━━━━━━━━━━━━━━━━━━━━━━━━━━━━━┳━━━━━━━━━━━━━━━━━━━━━━━━┳━━━━━━━━━━━━━━━┓\n",
              "┃\u001b[1m \u001b[0m\u001b[1mLayer (type)                   \u001b[0m\u001b[1m \u001b[0m┃\u001b[1m \u001b[0m\u001b[1mOutput Shape          \u001b[0m\u001b[1m \u001b[0m┃\u001b[1m \u001b[0m\u001b[1m      Param #\u001b[0m\u001b[1m \u001b[0m┃\n",
              "┡━━━━━━━━━━━━━━━━━━━━━━━━━━━━━━━━━╇━━━━━━━━━━━━━━━━━━━━━━━━╇━━━━━━━━━━━━━━━┩\n",
              "│ conv2d_3 (\u001b[38;5;33mConv2D\u001b[0m)               │ (\u001b[38;5;45mNone\u001b[0m, \u001b[38;5;34m32\u001b[0m, \u001b[38;5;34m32\u001b[0m, \u001b[38;5;34m32\u001b[0m)     │           \u001b[38;5;34m896\u001b[0m │\n",
              "├─────────────────────────────────┼────────────────────────┼───────────────┤\n",
              "│ activation_5 (\u001b[38;5;33mActivation\u001b[0m)       │ (\u001b[38;5;45mNone\u001b[0m, \u001b[38;5;34m32\u001b[0m, \u001b[38;5;34m32\u001b[0m, \u001b[38;5;34m32\u001b[0m)     │             \u001b[38;5;34m0\u001b[0m │\n",
              "├─────────────────────────────────┼────────────────────────┼───────────────┤\n",
              "│ max_pooling2d_3 (\u001b[38;5;33mMaxPooling2D\u001b[0m)  │ (\u001b[38;5;45mNone\u001b[0m, \u001b[38;5;34m16\u001b[0m, \u001b[38;5;34m16\u001b[0m, \u001b[38;5;34m32\u001b[0m)     │             \u001b[38;5;34m0\u001b[0m │\n",
              "├─────────────────────────────────┼────────────────────────┼───────────────┤\n",
              "│ conv2d_4 (\u001b[38;5;33mConv2D\u001b[0m)               │ (\u001b[38;5;45mNone\u001b[0m, \u001b[38;5;34m16\u001b[0m, \u001b[38;5;34m16\u001b[0m, \u001b[38;5;34m64\u001b[0m)     │        \u001b[38;5;34m18,496\u001b[0m │\n",
              "├─────────────────────────────────┼────────────────────────┼───────────────┤\n",
              "│ activation_6 (\u001b[38;5;33mActivation\u001b[0m)       │ (\u001b[38;5;45mNone\u001b[0m, \u001b[38;5;34m16\u001b[0m, \u001b[38;5;34m16\u001b[0m, \u001b[38;5;34m64\u001b[0m)     │             \u001b[38;5;34m0\u001b[0m │\n",
              "├─────────────────────────────────┼────────────────────────┼───────────────┤\n",
              "│ max_pooling2d_4 (\u001b[38;5;33mMaxPooling2D\u001b[0m)  │ (\u001b[38;5;45mNone\u001b[0m, \u001b[38;5;34m8\u001b[0m, \u001b[38;5;34m8\u001b[0m, \u001b[38;5;34m64\u001b[0m)       │             \u001b[38;5;34m0\u001b[0m │\n",
              "└─────────────────────────────────┴────────────────────────┴───────────────┘\n"
            ],
            "text/html": [
              "<pre style=\"white-space:pre;overflow-x:auto;line-height:normal;font-family:Menlo,'DejaVu Sans Mono',consolas,'Courier New',monospace\">┏━━━━━━━━━━━━━━━━━━━━━━━━━━━━━━━━━┳━━━━━━━━━━━━━━━━━━━━━━━━┳━━━━━━━━━━━━━━━┓\n",
              "┃<span style=\"font-weight: bold\"> Layer (type)                    </span>┃<span style=\"font-weight: bold\"> Output Shape           </span>┃<span style=\"font-weight: bold\">       Param # </span>┃\n",
              "┡━━━━━━━━━━━━━━━━━━━━━━━━━━━━━━━━━╇━━━━━━━━━━━━━━━━━━━━━━━━╇━━━━━━━━━━━━━━━┩\n",
              "│ conv2d_3 (<span style=\"color: #0087ff; text-decoration-color: #0087ff\">Conv2D</span>)               │ (<span style=\"color: #00d7ff; text-decoration-color: #00d7ff\">None</span>, <span style=\"color: #00af00; text-decoration-color: #00af00\">32</span>, <span style=\"color: #00af00; text-decoration-color: #00af00\">32</span>, <span style=\"color: #00af00; text-decoration-color: #00af00\">32</span>)     │           <span style=\"color: #00af00; text-decoration-color: #00af00\">896</span> │\n",
              "├─────────────────────────────────┼────────────────────────┼───────────────┤\n",
              "│ activation_5 (<span style=\"color: #0087ff; text-decoration-color: #0087ff\">Activation</span>)       │ (<span style=\"color: #00d7ff; text-decoration-color: #00d7ff\">None</span>, <span style=\"color: #00af00; text-decoration-color: #00af00\">32</span>, <span style=\"color: #00af00; text-decoration-color: #00af00\">32</span>, <span style=\"color: #00af00; text-decoration-color: #00af00\">32</span>)     │             <span style=\"color: #00af00; text-decoration-color: #00af00\">0</span> │\n",
              "├─────────────────────────────────┼────────────────────────┼───────────────┤\n",
              "│ max_pooling2d_3 (<span style=\"color: #0087ff; text-decoration-color: #0087ff\">MaxPooling2D</span>)  │ (<span style=\"color: #00d7ff; text-decoration-color: #00d7ff\">None</span>, <span style=\"color: #00af00; text-decoration-color: #00af00\">16</span>, <span style=\"color: #00af00; text-decoration-color: #00af00\">16</span>, <span style=\"color: #00af00; text-decoration-color: #00af00\">32</span>)     │             <span style=\"color: #00af00; text-decoration-color: #00af00\">0</span> │\n",
              "├─────────────────────────────────┼────────────────────────┼───────────────┤\n",
              "│ conv2d_4 (<span style=\"color: #0087ff; text-decoration-color: #0087ff\">Conv2D</span>)               │ (<span style=\"color: #00d7ff; text-decoration-color: #00d7ff\">None</span>, <span style=\"color: #00af00; text-decoration-color: #00af00\">16</span>, <span style=\"color: #00af00; text-decoration-color: #00af00\">16</span>, <span style=\"color: #00af00; text-decoration-color: #00af00\">64</span>)     │        <span style=\"color: #00af00; text-decoration-color: #00af00\">18,496</span> │\n",
              "├─────────────────────────────────┼────────────────────────┼───────────────┤\n",
              "│ activation_6 (<span style=\"color: #0087ff; text-decoration-color: #0087ff\">Activation</span>)       │ (<span style=\"color: #00d7ff; text-decoration-color: #00d7ff\">None</span>, <span style=\"color: #00af00; text-decoration-color: #00af00\">16</span>, <span style=\"color: #00af00; text-decoration-color: #00af00\">16</span>, <span style=\"color: #00af00; text-decoration-color: #00af00\">64</span>)     │             <span style=\"color: #00af00; text-decoration-color: #00af00\">0</span> │\n",
              "├─────────────────────────────────┼────────────────────────┼───────────────┤\n",
              "│ max_pooling2d_4 (<span style=\"color: #0087ff; text-decoration-color: #0087ff\">MaxPooling2D</span>)  │ (<span style=\"color: #00d7ff; text-decoration-color: #00d7ff\">None</span>, <span style=\"color: #00af00; text-decoration-color: #00af00\">8</span>, <span style=\"color: #00af00; text-decoration-color: #00af00\">8</span>, <span style=\"color: #00af00; text-decoration-color: #00af00\">64</span>)       │             <span style=\"color: #00af00; text-decoration-color: #00af00\">0</span> │\n",
              "└─────────────────────────────────┴────────────────────────┴───────────────┘\n",
              "</pre>\n"
            ]
          },
          "metadata": {}
        },
        {
          "output_type": "display_data",
          "data": {
            "text/plain": [
              "\u001b[1m Total params: \u001b[0m\u001b[38;5;34m19,392\u001b[0m (75.75 KB)\n"
            ],
            "text/html": [
              "<pre style=\"white-space:pre;overflow-x:auto;line-height:normal;font-family:Menlo,'DejaVu Sans Mono',consolas,'Courier New',monospace\"><span style=\"font-weight: bold\"> Total params: </span><span style=\"color: #00af00; text-decoration-color: #00af00\">19,392</span> (75.75 KB)\n",
              "</pre>\n"
            ]
          },
          "metadata": {}
        },
        {
          "output_type": "display_data",
          "data": {
            "text/plain": [
              "\u001b[1m Trainable params: \u001b[0m\u001b[38;5;34m19,392\u001b[0m (75.75 KB)\n"
            ],
            "text/html": [
              "<pre style=\"white-space:pre;overflow-x:auto;line-height:normal;font-family:Menlo,'DejaVu Sans Mono',consolas,'Courier New',monospace\"><span style=\"font-weight: bold\"> Trainable params: </span><span style=\"color: #00af00; text-decoration-color: #00af00\">19,392</span> (75.75 KB)\n",
              "</pre>\n"
            ]
          },
          "metadata": {}
        },
        {
          "output_type": "display_data",
          "data": {
            "text/plain": [
              "\u001b[1m Non-trainable params: \u001b[0m\u001b[38;5;34m0\u001b[0m (0.00 B)\n"
            ],
            "text/html": [
              "<pre style=\"white-space:pre;overflow-x:auto;line-height:normal;font-family:Menlo,'DejaVu Sans Mono',consolas,'Courier New',monospace\"><span style=\"font-weight: bold\"> Non-trainable params: </span><span style=\"color: #00af00; text-decoration-color: #00af00\">0</span> (0.00 B)\n",
              "</pre>\n"
            ]
          },
          "metadata": {}
        }
      ]
    },
    {
      "cell_type": "markdown",
      "source": [
        "### Third, and for this one, Last Convolutional Layer and Pooling"
      ],
      "metadata": {
        "id": "X28ucwbseXE1"
      }
    },
    {
      "cell_type": "code",
      "source": [
        "n_filters_3 = 64\n",
        "\n",
        "conv_3 = layers.Conv2D(filters=n_filters_3,\n",
        "                       kernel_size=(3, 3),\n",
        "                       padding='same'\n",
        "                )\n",
        "\n",
        "model_0.add(conv_3)\n",
        "model_0.add(layers.Activation('relu'))\n",
        "\n",
        "pool_3 = layers.MaxPooling2D(pool_size=(2, 2))\n",
        "\n",
        "model_0.add(pool_3)"
      ],
      "metadata": {
        "id": "7e189Mnqedor"
      },
      "execution_count": 49,
      "outputs": []
    },
    {
      "cell_type": "code",
      "source": [
        "model_0.summary()"
      ],
      "metadata": {
        "colab": {
          "base_uri": "https://localhost:8080/",
          "height": 426
        },
        "id": "rXuIlv9iuae0",
        "outputId": "912dac93-b6ad-4d8c-cb7c-84fe2a919439"
      },
      "execution_count": 50,
      "outputs": [
        {
          "output_type": "display_data",
          "data": {
            "text/plain": [
              "\u001b[1mModel: \"sequential_1\"\u001b[0m\n"
            ],
            "text/html": [
              "<pre style=\"white-space:pre;overflow-x:auto;line-height:normal;font-family:Menlo,'DejaVu Sans Mono',consolas,'Courier New',monospace\"><span style=\"font-weight: bold\">Model: \"sequential_1\"</span>\n",
              "</pre>\n"
            ]
          },
          "metadata": {}
        },
        {
          "output_type": "display_data",
          "data": {
            "text/plain": [
              "┏━━━━━━━━━━━━━━━━━━━━━━━━━━━━━━━━━┳━━━━━━━━━━━━━━━━━━━━━━━━┳━━━━━━━━━━━━━━━┓\n",
              "┃\u001b[1m \u001b[0m\u001b[1mLayer (type)                   \u001b[0m\u001b[1m \u001b[0m┃\u001b[1m \u001b[0m\u001b[1mOutput Shape          \u001b[0m\u001b[1m \u001b[0m┃\u001b[1m \u001b[0m\u001b[1m      Param #\u001b[0m\u001b[1m \u001b[0m┃\n",
              "┡━━━━━━━━━━━━━━━━━━━━━━━━━━━━━━━━━╇━━━━━━━━━━━━━━━━━━━━━━━━╇━━━━━━━━━━━━━━━┩\n",
              "│ conv2d_3 (\u001b[38;5;33mConv2D\u001b[0m)               │ (\u001b[38;5;45mNone\u001b[0m, \u001b[38;5;34m32\u001b[0m, \u001b[38;5;34m32\u001b[0m, \u001b[38;5;34m32\u001b[0m)     │           \u001b[38;5;34m896\u001b[0m │\n",
              "├─────────────────────────────────┼────────────────────────┼───────────────┤\n",
              "│ activation_5 (\u001b[38;5;33mActivation\u001b[0m)       │ (\u001b[38;5;45mNone\u001b[0m, \u001b[38;5;34m32\u001b[0m, \u001b[38;5;34m32\u001b[0m, \u001b[38;5;34m32\u001b[0m)     │             \u001b[38;5;34m0\u001b[0m │\n",
              "├─────────────────────────────────┼────────────────────────┼───────────────┤\n",
              "│ max_pooling2d_3 (\u001b[38;5;33mMaxPooling2D\u001b[0m)  │ (\u001b[38;5;45mNone\u001b[0m, \u001b[38;5;34m16\u001b[0m, \u001b[38;5;34m16\u001b[0m, \u001b[38;5;34m32\u001b[0m)     │             \u001b[38;5;34m0\u001b[0m │\n",
              "├─────────────────────────────────┼────────────────────────┼───────────────┤\n",
              "│ conv2d_4 (\u001b[38;5;33mConv2D\u001b[0m)               │ (\u001b[38;5;45mNone\u001b[0m, \u001b[38;5;34m16\u001b[0m, \u001b[38;5;34m16\u001b[0m, \u001b[38;5;34m64\u001b[0m)     │        \u001b[38;5;34m18,496\u001b[0m │\n",
              "├─────────────────────────────────┼────────────────────────┼───────────────┤\n",
              "│ activation_6 (\u001b[38;5;33mActivation\u001b[0m)       │ (\u001b[38;5;45mNone\u001b[0m, \u001b[38;5;34m16\u001b[0m, \u001b[38;5;34m16\u001b[0m, \u001b[38;5;34m64\u001b[0m)     │             \u001b[38;5;34m0\u001b[0m │\n",
              "├─────────────────────────────────┼────────────────────────┼───────────────┤\n",
              "│ max_pooling2d_4 (\u001b[38;5;33mMaxPooling2D\u001b[0m)  │ (\u001b[38;5;45mNone\u001b[0m, \u001b[38;5;34m8\u001b[0m, \u001b[38;5;34m8\u001b[0m, \u001b[38;5;34m64\u001b[0m)       │             \u001b[38;5;34m0\u001b[0m │\n",
              "├─────────────────────────────────┼────────────────────────┼───────────────┤\n",
              "│ conv2d_5 (\u001b[38;5;33mConv2D\u001b[0m)               │ (\u001b[38;5;45mNone\u001b[0m, \u001b[38;5;34m8\u001b[0m, \u001b[38;5;34m8\u001b[0m, \u001b[38;5;34m64\u001b[0m)       │        \u001b[38;5;34m36,928\u001b[0m │\n",
              "├─────────────────────────────────┼────────────────────────┼───────────────┤\n",
              "│ activation_7 (\u001b[38;5;33mActivation\u001b[0m)       │ (\u001b[38;5;45mNone\u001b[0m, \u001b[38;5;34m8\u001b[0m, \u001b[38;5;34m8\u001b[0m, \u001b[38;5;34m64\u001b[0m)       │             \u001b[38;5;34m0\u001b[0m │\n",
              "├─────────────────────────────────┼────────────────────────┼───────────────┤\n",
              "│ max_pooling2d_5 (\u001b[38;5;33mMaxPooling2D\u001b[0m)  │ (\u001b[38;5;45mNone\u001b[0m, \u001b[38;5;34m4\u001b[0m, \u001b[38;5;34m4\u001b[0m, \u001b[38;5;34m64\u001b[0m)       │             \u001b[38;5;34m0\u001b[0m │\n",
              "└─────────────────────────────────┴────────────────────────┴───────────────┘\n"
            ],
            "text/html": [
              "<pre style=\"white-space:pre;overflow-x:auto;line-height:normal;font-family:Menlo,'DejaVu Sans Mono',consolas,'Courier New',monospace\">┏━━━━━━━━━━━━━━━━━━━━━━━━━━━━━━━━━┳━━━━━━━━━━━━━━━━━━━━━━━━┳━━━━━━━━━━━━━━━┓\n",
              "┃<span style=\"font-weight: bold\"> Layer (type)                    </span>┃<span style=\"font-weight: bold\"> Output Shape           </span>┃<span style=\"font-weight: bold\">       Param # </span>┃\n",
              "┡━━━━━━━━━━━━━━━━━━━━━━━━━━━━━━━━━╇━━━━━━━━━━━━━━━━━━━━━━━━╇━━━━━━━━━━━━━━━┩\n",
              "│ conv2d_3 (<span style=\"color: #0087ff; text-decoration-color: #0087ff\">Conv2D</span>)               │ (<span style=\"color: #00d7ff; text-decoration-color: #00d7ff\">None</span>, <span style=\"color: #00af00; text-decoration-color: #00af00\">32</span>, <span style=\"color: #00af00; text-decoration-color: #00af00\">32</span>, <span style=\"color: #00af00; text-decoration-color: #00af00\">32</span>)     │           <span style=\"color: #00af00; text-decoration-color: #00af00\">896</span> │\n",
              "├─────────────────────────────────┼────────────────────────┼───────────────┤\n",
              "│ activation_5 (<span style=\"color: #0087ff; text-decoration-color: #0087ff\">Activation</span>)       │ (<span style=\"color: #00d7ff; text-decoration-color: #00d7ff\">None</span>, <span style=\"color: #00af00; text-decoration-color: #00af00\">32</span>, <span style=\"color: #00af00; text-decoration-color: #00af00\">32</span>, <span style=\"color: #00af00; text-decoration-color: #00af00\">32</span>)     │             <span style=\"color: #00af00; text-decoration-color: #00af00\">0</span> │\n",
              "├─────────────────────────────────┼────────────────────────┼───────────────┤\n",
              "│ max_pooling2d_3 (<span style=\"color: #0087ff; text-decoration-color: #0087ff\">MaxPooling2D</span>)  │ (<span style=\"color: #00d7ff; text-decoration-color: #00d7ff\">None</span>, <span style=\"color: #00af00; text-decoration-color: #00af00\">16</span>, <span style=\"color: #00af00; text-decoration-color: #00af00\">16</span>, <span style=\"color: #00af00; text-decoration-color: #00af00\">32</span>)     │             <span style=\"color: #00af00; text-decoration-color: #00af00\">0</span> │\n",
              "├─────────────────────────────────┼────────────────────────┼───────────────┤\n",
              "│ conv2d_4 (<span style=\"color: #0087ff; text-decoration-color: #0087ff\">Conv2D</span>)               │ (<span style=\"color: #00d7ff; text-decoration-color: #00d7ff\">None</span>, <span style=\"color: #00af00; text-decoration-color: #00af00\">16</span>, <span style=\"color: #00af00; text-decoration-color: #00af00\">16</span>, <span style=\"color: #00af00; text-decoration-color: #00af00\">64</span>)     │        <span style=\"color: #00af00; text-decoration-color: #00af00\">18,496</span> │\n",
              "├─────────────────────────────────┼────────────────────────┼───────────────┤\n",
              "│ activation_6 (<span style=\"color: #0087ff; text-decoration-color: #0087ff\">Activation</span>)       │ (<span style=\"color: #00d7ff; text-decoration-color: #00d7ff\">None</span>, <span style=\"color: #00af00; text-decoration-color: #00af00\">16</span>, <span style=\"color: #00af00; text-decoration-color: #00af00\">16</span>, <span style=\"color: #00af00; text-decoration-color: #00af00\">64</span>)     │             <span style=\"color: #00af00; text-decoration-color: #00af00\">0</span> │\n",
              "├─────────────────────────────────┼────────────────────────┼───────────────┤\n",
              "│ max_pooling2d_4 (<span style=\"color: #0087ff; text-decoration-color: #0087ff\">MaxPooling2D</span>)  │ (<span style=\"color: #00d7ff; text-decoration-color: #00d7ff\">None</span>, <span style=\"color: #00af00; text-decoration-color: #00af00\">8</span>, <span style=\"color: #00af00; text-decoration-color: #00af00\">8</span>, <span style=\"color: #00af00; text-decoration-color: #00af00\">64</span>)       │             <span style=\"color: #00af00; text-decoration-color: #00af00\">0</span> │\n",
              "├─────────────────────────────────┼────────────────────────┼───────────────┤\n",
              "│ conv2d_5 (<span style=\"color: #0087ff; text-decoration-color: #0087ff\">Conv2D</span>)               │ (<span style=\"color: #00d7ff; text-decoration-color: #00d7ff\">None</span>, <span style=\"color: #00af00; text-decoration-color: #00af00\">8</span>, <span style=\"color: #00af00; text-decoration-color: #00af00\">8</span>, <span style=\"color: #00af00; text-decoration-color: #00af00\">64</span>)       │        <span style=\"color: #00af00; text-decoration-color: #00af00\">36,928</span> │\n",
              "├─────────────────────────────────┼────────────────────────┼───────────────┤\n",
              "│ activation_7 (<span style=\"color: #0087ff; text-decoration-color: #0087ff\">Activation</span>)       │ (<span style=\"color: #00d7ff; text-decoration-color: #00d7ff\">None</span>, <span style=\"color: #00af00; text-decoration-color: #00af00\">8</span>, <span style=\"color: #00af00; text-decoration-color: #00af00\">8</span>, <span style=\"color: #00af00; text-decoration-color: #00af00\">64</span>)       │             <span style=\"color: #00af00; text-decoration-color: #00af00\">0</span> │\n",
              "├─────────────────────────────────┼────────────────────────┼───────────────┤\n",
              "│ max_pooling2d_5 (<span style=\"color: #0087ff; text-decoration-color: #0087ff\">MaxPooling2D</span>)  │ (<span style=\"color: #00d7ff; text-decoration-color: #00d7ff\">None</span>, <span style=\"color: #00af00; text-decoration-color: #00af00\">4</span>, <span style=\"color: #00af00; text-decoration-color: #00af00\">4</span>, <span style=\"color: #00af00; text-decoration-color: #00af00\">64</span>)       │             <span style=\"color: #00af00; text-decoration-color: #00af00\">0</span> │\n",
              "└─────────────────────────────────┴────────────────────────┴───────────────┘\n",
              "</pre>\n"
            ]
          },
          "metadata": {}
        },
        {
          "output_type": "display_data",
          "data": {
            "text/plain": [
              "\u001b[1m Total params: \u001b[0m\u001b[38;5;34m56,320\u001b[0m (220.00 KB)\n"
            ],
            "text/html": [
              "<pre style=\"white-space:pre;overflow-x:auto;line-height:normal;font-family:Menlo,'DejaVu Sans Mono',consolas,'Courier New',monospace\"><span style=\"font-weight: bold\"> Total params: </span><span style=\"color: #00af00; text-decoration-color: #00af00\">56,320</span> (220.00 KB)\n",
              "</pre>\n"
            ]
          },
          "metadata": {}
        },
        {
          "output_type": "display_data",
          "data": {
            "text/plain": [
              "\u001b[1m Trainable params: \u001b[0m\u001b[38;5;34m56,320\u001b[0m (220.00 KB)\n"
            ],
            "text/html": [
              "<pre style=\"white-space:pre;overflow-x:auto;line-height:normal;font-family:Menlo,'DejaVu Sans Mono',consolas,'Courier New',monospace\"><span style=\"font-weight: bold\"> Trainable params: </span><span style=\"color: #00af00; text-decoration-color: #00af00\">56,320</span> (220.00 KB)\n",
              "</pre>\n"
            ]
          },
          "metadata": {}
        },
        {
          "output_type": "display_data",
          "data": {
            "text/plain": [
              "\u001b[1m Non-trainable params: \u001b[0m\u001b[38;5;34m0\u001b[0m (0.00 B)\n"
            ],
            "text/html": [
              "<pre style=\"white-space:pre;overflow-x:auto;line-height:normal;font-family:Menlo,'DejaVu Sans Mono',consolas,'Courier New',monospace\"><span style=\"font-weight: bold\"> Non-trainable params: </span><span style=\"color: #00af00; text-decoration-color: #00af00\">0</span> (0.00 B)\n",
              "</pre>\n"
            ]
          },
          "metadata": {}
        }
      ]
    },
    {
      "cell_type": "markdown",
      "source": [
        "### Flattening and the Fully Connected Layer"
      ],
      "metadata": {
        "id": "0BRTZ0MNeuvl"
      }
    },
    {
      "cell_type": "code",
      "source": [
        "# The Fully Connected layer (after flattening)\n",
        "\n",
        "model_0.add(layers.Flatten())\n",
        "\n",
        "fc_layer = layers.Dense(units=64)\n",
        "model_0.add(fc_layer)\n",
        "model_0.add(layers.Activation('relu'))"
      ],
      "metadata": {
        "id": "_qhWZDMKs1Pi"
      },
      "execution_count": 51,
      "outputs": []
    },
    {
      "cell_type": "code",
      "source": [
        "model_0.summary()"
      ],
      "metadata": {
        "colab": {
          "base_uri": "https://localhost:8080/",
          "height": 524
        },
        "id": "p1mmw0MXe5WD",
        "outputId": "7c2b794f-aaf7-471c-a909-2048831e8769"
      },
      "execution_count": 52,
      "outputs": [
        {
          "output_type": "display_data",
          "data": {
            "text/plain": [
              "\u001b[1mModel: \"sequential_1\"\u001b[0m\n"
            ],
            "text/html": [
              "<pre style=\"white-space:pre;overflow-x:auto;line-height:normal;font-family:Menlo,'DejaVu Sans Mono',consolas,'Courier New',monospace\"><span style=\"font-weight: bold\">Model: \"sequential_1\"</span>\n",
              "</pre>\n"
            ]
          },
          "metadata": {}
        },
        {
          "output_type": "display_data",
          "data": {
            "text/plain": [
              "┏━━━━━━━━━━━━━━━━━━━━━━━━━━━━━━━━━┳━━━━━━━━━━━━━━━━━━━━━━━━┳━━━━━━━━━━━━━━━┓\n",
              "┃\u001b[1m \u001b[0m\u001b[1mLayer (type)                   \u001b[0m\u001b[1m \u001b[0m┃\u001b[1m \u001b[0m\u001b[1mOutput Shape          \u001b[0m\u001b[1m \u001b[0m┃\u001b[1m \u001b[0m\u001b[1m      Param #\u001b[0m\u001b[1m \u001b[0m┃\n",
              "┡━━━━━━━━━━━━━━━━━━━━━━━━━━━━━━━━━╇━━━━━━━━━━━━━━━━━━━━━━━━╇━━━━━━━━━━━━━━━┩\n",
              "│ conv2d_3 (\u001b[38;5;33mConv2D\u001b[0m)               │ (\u001b[38;5;45mNone\u001b[0m, \u001b[38;5;34m32\u001b[0m, \u001b[38;5;34m32\u001b[0m, \u001b[38;5;34m32\u001b[0m)     │           \u001b[38;5;34m896\u001b[0m │\n",
              "├─────────────────────────────────┼────────────────────────┼───────────────┤\n",
              "│ activation_5 (\u001b[38;5;33mActivation\u001b[0m)       │ (\u001b[38;5;45mNone\u001b[0m, \u001b[38;5;34m32\u001b[0m, \u001b[38;5;34m32\u001b[0m, \u001b[38;5;34m32\u001b[0m)     │             \u001b[38;5;34m0\u001b[0m │\n",
              "├─────────────────────────────────┼────────────────────────┼───────────────┤\n",
              "│ max_pooling2d_3 (\u001b[38;5;33mMaxPooling2D\u001b[0m)  │ (\u001b[38;5;45mNone\u001b[0m, \u001b[38;5;34m16\u001b[0m, \u001b[38;5;34m16\u001b[0m, \u001b[38;5;34m32\u001b[0m)     │             \u001b[38;5;34m0\u001b[0m │\n",
              "├─────────────────────────────────┼────────────────────────┼───────────────┤\n",
              "│ conv2d_4 (\u001b[38;5;33mConv2D\u001b[0m)               │ (\u001b[38;5;45mNone\u001b[0m, \u001b[38;5;34m16\u001b[0m, \u001b[38;5;34m16\u001b[0m, \u001b[38;5;34m64\u001b[0m)     │        \u001b[38;5;34m18,496\u001b[0m │\n",
              "├─────────────────────────────────┼────────────────────────┼───────────────┤\n",
              "│ activation_6 (\u001b[38;5;33mActivation\u001b[0m)       │ (\u001b[38;5;45mNone\u001b[0m, \u001b[38;5;34m16\u001b[0m, \u001b[38;5;34m16\u001b[0m, \u001b[38;5;34m64\u001b[0m)     │             \u001b[38;5;34m0\u001b[0m │\n",
              "├─────────────────────────────────┼────────────────────────┼───────────────┤\n",
              "│ max_pooling2d_4 (\u001b[38;5;33mMaxPooling2D\u001b[0m)  │ (\u001b[38;5;45mNone\u001b[0m, \u001b[38;5;34m8\u001b[0m, \u001b[38;5;34m8\u001b[0m, \u001b[38;5;34m64\u001b[0m)       │             \u001b[38;5;34m0\u001b[0m │\n",
              "├─────────────────────────────────┼────────────────────────┼───────────────┤\n",
              "│ conv2d_5 (\u001b[38;5;33mConv2D\u001b[0m)               │ (\u001b[38;5;45mNone\u001b[0m, \u001b[38;5;34m8\u001b[0m, \u001b[38;5;34m8\u001b[0m, \u001b[38;5;34m64\u001b[0m)       │        \u001b[38;5;34m36,928\u001b[0m │\n",
              "├─────────────────────────────────┼────────────────────────┼───────────────┤\n",
              "│ activation_7 (\u001b[38;5;33mActivation\u001b[0m)       │ (\u001b[38;5;45mNone\u001b[0m, \u001b[38;5;34m8\u001b[0m, \u001b[38;5;34m8\u001b[0m, \u001b[38;5;34m64\u001b[0m)       │             \u001b[38;5;34m0\u001b[0m │\n",
              "├─────────────────────────────────┼────────────────────────┼───────────────┤\n",
              "│ max_pooling2d_5 (\u001b[38;5;33mMaxPooling2D\u001b[0m)  │ (\u001b[38;5;45mNone\u001b[0m, \u001b[38;5;34m4\u001b[0m, \u001b[38;5;34m4\u001b[0m, \u001b[38;5;34m64\u001b[0m)       │             \u001b[38;5;34m0\u001b[0m │\n",
              "├─────────────────────────────────┼────────────────────────┼───────────────┤\n",
              "│ flatten_1 (\u001b[38;5;33mFlatten\u001b[0m)             │ (\u001b[38;5;45mNone\u001b[0m, \u001b[38;5;34m1024\u001b[0m)           │             \u001b[38;5;34m0\u001b[0m │\n",
              "├─────────────────────────────────┼────────────────────────┼───────────────┤\n",
              "│ dense_2 (\u001b[38;5;33mDense\u001b[0m)                 │ (\u001b[38;5;45mNone\u001b[0m, \u001b[38;5;34m64\u001b[0m)             │        \u001b[38;5;34m65,600\u001b[0m │\n",
              "├─────────────────────────────────┼────────────────────────┼───────────────┤\n",
              "│ activation_8 (\u001b[38;5;33mActivation\u001b[0m)       │ (\u001b[38;5;45mNone\u001b[0m, \u001b[38;5;34m64\u001b[0m)             │             \u001b[38;5;34m0\u001b[0m │\n",
              "└─────────────────────────────────┴────────────────────────┴───────────────┘\n"
            ],
            "text/html": [
              "<pre style=\"white-space:pre;overflow-x:auto;line-height:normal;font-family:Menlo,'DejaVu Sans Mono',consolas,'Courier New',monospace\">┏━━━━━━━━━━━━━━━━━━━━━━━━━━━━━━━━━┳━━━━━━━━━━━━━━━━━━━━━━━━┳━━━━━━━━━━━━━━━┓\n",
              "┃<span style=\"font-weight: bold\"> Layer (type)                    </span>┃<span style=\"font-weight: bold\"> Output Shape           </span>┃<span style=\"font-weight: bold\">       Param # </span>┃\n",
              "┡━━━━━━━━━━━━━━━━━━━━━━━━━━━━━━━━━╇━━━━━━━━━━━━━━━━━━━━━━━━╇━━━━━━━━━━━━━━━┩\n",
              "│ conv2d_3 (<span style=\"color: #0087ff; text-decoration-color: #0087ff\">Conv2D</span>)               │ (<span style=\"color: #00d7ff; text-decoration-color: #00d7ff\">None</span>, <span style=\"color: #00af00; text-decoration-color: #00af00\">32</span>, <span style=\"color: #00af00; text-decoration-color: #00af00\">32</span>, <span style=\"color: #00af00; text-decoration-color: #00af00\">32</span>)     │           <span style=\"color: #00af00; text-decoration-color: #00af00\">896</span> │\n",
              "├─────────────────────────────────┼────────────────────────┼───────────────┤\n",
              "│ activation_5 (<span style=\"color: #0087ff; text-decoration-color: #0087ff\">Activation</span>)       │ (<span style=\"color: #00d7ff; text-decoration-color: #00d7ff\">None</span>, <span style=\"color: #00af00; text-decoration-color: #00af00\">32</span>, <span style=\"color: #00af00; text-decoration-color: #00af00\">32</span>, <span style=\"color: #00af00; text-decoration-color: #00af00\">32</span>)     │             <span style=\"color: #00af00; text-decoration-color: #00af00\">0</span> │\n",
              "├─────────────────────────────────┼────────────────────────┼───────────────┤\n",
              "│ max_pooling2d_3 (<span style=\"color: #0087ff; text-decoration-color: #0087ff\">MaxPooling2D</span>)  │ (<span style=\"color: #00d7ff; text-decoration-color: #00d7ff\">None</span>, <span style=\"color: #00af00; text-decoration-color: #00af00\">16</span>, <span style=\"color: #00af00; text-decoration-color: #00af00\">16</span>, <span style=\"color: #00af00; text-decoration-color: #00af00\">32</span>)     │             <span style=\"color: #00af00; text-decoration-color: #00af00\">0</span> │\n",
              "├─────────────────────────────────┼────────────────────────┼───────────────┤\n",
              "│ conv2d_4 (<span style=\"color: #0087ff; text-decoration-color: #0087ff\">Conv2D</span>)               │ (<span style=\"color: #00d7ff; text-decoration-color: #00d7ff\">None</span>, <span style=\"color: #00af00; text-decoration-color: #00af00\">16</span>, <span style=\"color: #00af00; text-decoration-color: #00af00\">16</span>, <span style=\"color: #00af00; text-decoration-color: #00af00\">64</span>)     │        <span style=\"color: #00af00; text-decoration-color: #00af00\">18,496</span> │\n",
              "├─────────────────────────────────┼────────────────────────┼───────────────┤\n",
              "│ activation_6 (<span style=\"color: #0087ff; text-decoration-color: #0087ff\">Activation</span>)       │ (<span style=\"color: #00d7ff; text-decoration-color: #00d7ff\">None</span>, <span style=\"color: #00af00; text-decoration-color: #00af00\">16</span>, <span style=\"color: #00af00; text-decoration-color: #00af00\">16</span>, <span style=\"color: #00af00; text-decoration-color: #00af00\">64</span>)     │             <span style=\"color: #00af00; text-decoration-color: #00af00\">0</span> │\n",
              "├─────────────────────────────────┼────────────────────────┼───────────────┤\n",
              "│ max_pooling2d_4 (<span style=\"color: #0087ff; text-decoration-color: #0087ff\">MaxPooling2D</span>)  │ (<span style=\"color: #00d7ff; text-decoration-color: #00d7ff\">None</span>, <span style=\"color: #00af00; text-decoration-color: #00af00\">8</span>, <span style=\"color: #00af00; text-decoration-color: #00af00\">8</span>, <span style=\"color: #00af00; text-decoration-color: #00af00\">64</span>)       │             <span style=\"color: #00af00; text-decoration-color: #00af00\">0</span> │\n",
              "├─────────────────────────────────┼────────────────────────┼───────────────┤\n",
              "│ conv2d_5 (<span style=\"color: #0087ff; text-decoration-color: #0087ff\">Conv2D</span>)               │ (<span style=\"color: #00d7ff; text-decoration-color: #00d7ff\">None</span>, <span style=\"color: #00af00; text-decoration-color: #00af00\">8</span>, <span style=\"color: #00af00; text-decoration-color: #00af00\">8</span>, <span style=\"color: #00af00; text-decoration-color: #00af00\">64</span>)       │        <span style=\"color: #00af00; text-decoration-color: #00af00\">36,928</span> │\n",
              "├─────────────────────────────────┼────────────────────────┼───────────────┤\n",
              "│ activation_7 (<span style=\"color: #0087ff; text-decoration-color: #0087ff\">Activation</span>)       │ (<span style=\"color: #00d7ff; text-decoration-color: #00d7ff\">None</span>, <span style=\"color: #00af00; text-decoration-color: #00af00\">8</span>, <span style=\"color: #00af00; text-decoration-color: #00af00\">8</span>, <span style=\"color: #00af00; text-decoration-color: #00af00\">64</span>)       │             <span style=\"color: #00af00; text-decoration-color: #00af00\">0</span> │\n",
              "├─────────────────────────────────┼────────────────────────┼───────────────┤\n",
              "│ max_pooling2d_5 (<span style=\"color: #0087ff; text-decoration-color: #0087ff\">MaxPooling2D</span>)  │ (<span style=\"color: #00d7ff; text-decoration-color: #00d7ff\">None</span>, <span style=\"color: #00af00; text-decoration-color: #00af00\">4</span>, <span style=\"color: #00af00; text-decoration-color: #00af00\">4</span>, <span style=\"color: #00af00; text-decoration-color: #00af00\">64</span>)       │             <span style=\"color: #00af00; text-decoration-color: #00af00\">0</span> │\n",
              "├─────────────────────────────────┼────────────────────────┼───────────────┤\n",
              "│ flatten_1 (<span style=\"color: #0087ff; text-decoration-color: #0087ff\">Flatten</span>)             │ (<span style=\"color: #00d7ff; text-decoration-color: #00d7ff\">None</span>, <span style=\"color: #00af00; text-decoration-color: #00af00\">1024</span>)           │             <span style=\"color: #00af00; text-decoration-color: #00af00\">0</span> │\n",
              "├─────────────────────────────────┼────────────────────────┼───────────────┤\n",
              "│ dense_2 (<span style=\"color: #0087ff; text-decoration-color: #0087ff\">Dense</span>)                 │ (<span style=\"color: #00d7ff; text-decoration-color: #00d7ff\">None</span>, <span style=\"color: #00af00; text-decoration-color: #00af00\">64</span>)             │        <span style=\"color: #00af00; text-decoration-color: #00af00\">65,600</span> │\n",
              "├─────────────────────────────────┼────────────────────────┼───────────────┤\n",
              "│ activation_8 (<span style=\"color: #0087ff; text-decoration-color: #0087ff\">Activation</span>)       │ (<span style=\"color: #00d7ff; text-decoration-color: #00d7ff\">None</span>, <span style=\"color: #00af00; text-decoration-color: #00af00\">64</span>)             │             <span style=\"color: #00af00; text-decoration-color: #00af00\">0</span> │\n",
              "└─────────────────────────────────┴────────────────────────┴───────────────┘\n",
              "</pre>\n"
            ]
          },
          "metadata": {}
        },
        {
          "output_type": "display_data",
          "data": {
            "text/plain": [
              "\u001b[1m Total params: \u001b[0m\u001b[38;5;34m121,920\u001b[0m (476.25 KB)\n"
            ],
            "text/html": [
              "<pre style=\"white-space:pre;overflow-x:auto;line-height:normal;font-family:Menlo,'DejaVu Sans Mono',consolas,'Courier New',monospace\"><span style=\"font-weight: bold\"> Total params: </span><span style=\"color: #00af00; text-decoration-color: #00af00\">121,920</span> (476.25 KB)\n",
              "</pre>\n"
            ]
          },
          "metadata": {}
        },
        {
          "output_type": "display_data",
          "data": {
            "text/plain": [
              "\u001b[1m Trainable params: \u001b[0m\u001b[38;5;34m121,920\u001b[0m (476.25 KB)\n"
            ],
            "text/html": [
              "<pre style=\"white-space:pre;overflow-x:auto;line-height:normal;font-family:Menlo,'DejaVu Sans Mono',consolas,'Courier New',monospace\"><span style=\"font-weight: bold\"> Trainable params: </span><span style=\"color: #00af00; text-decoration-color: #00af00\">121,920</span> (476.25 KB)\n",
              "</pre>\n"
            ]
          },
          "metadata": {}
        },
        {
          "output_type": "display_data",
          "data": {
            "text/plain": [
              "\u001b[1m Non-trainable params: \u001b[0m\u001b[38;5;34m0\u001b[0m (0.00 B)\n"
            ],
            "text/html": [
              "<pre style=\"white-space:pre;overflow-x:auto;line-height:normal;font-family:Menlo,'DejaVu Sans Mono',consolas,'Courier New',monospace\"><span style=\"font-weight: bold\"> Non-trainable params: </span><span style=\"color: #00af00; text-decoration-color: #00af00\">0</span> (0.00 B)\n",
              "</pre>\n"
            ]
          },
          "metadata": {}
        }
      ]
    },
    {
      "cell_type": "markdown",
      "source": [
        "### The Classification Head"
      ],
      "metadata": {
        "id": "yEKrgOSTe8Uy"
      }
    },
    {
      "cell_type": "code",
      "source": [
        "decision_head = layers.Dense(units=n_classes)\n",
        "model_0.add(decision_head)\n",
        "##no activation for output (not one-hot encoded)#\n",
        "##model_0.add(layers.Activation('softmax'))"
      ],
      "metadata": {
        "id": "cf404qZje_YK"
      },
      "execution_count": 53,
      "outputs": []
    },
    {
      "cell_type": "code",
      "source": [
        "model_0.summary()"
      ],
      "metadata": {
        "colab": {
          "base_uri": "https://localhost:8080/",
          "height": 590
        },
        "id": "KZ5Kde1Sf7WB",
        "outputId": "ac0db25f-dab5-49da-d704-bfa8d5b1bf30"
      },
      "execution_count": 54,
      "outputs": [
        {
          "output_type": "display_data",
          "data": {
            "text/plain": [
              "\u001b[1mModel: \"sequential_1\"\u001b[0m\n"
            ],
            "text/html": [
              "<pre style=\"white-space:pre;overflow-x:auto;line-height:normal;font-family:Menlo,'DejaVu Sans Mono',consolas,'Courier New',monospace\"><span style=\"font-weight: bold\">Model: \"sequential_1\"</span>\n",
              "</pre>\n"
            ]
          },
          "metadata": {}
        },
        {
          "output_type": "display_data",
          "data": {
            "text/plain": [
              "┏━━━━━━━━━━━━━━━━━━━━━━━━━━━━━━━━━┳━━━━━━━━━━━━━━━━━━━━━━━━┳━━━━━━━━━━━━━━━┓\n",
              "┃\u001b[1m \u001b[0m\u001b[1mLayer (type)                   \u001b[0m\u001b[1m \u001b[0m┃\u001b[1m \u001b[0m\u001b[1mOutput Shape          \u001b[0m\u001b[1m \u001b[0m┃\u001b[1m \u001b[0m\u001b[1m      Param #\u001b[0m\u001b[1m \u001b[0m┃\n",
              "┡━━━━━━━━━━━━━━━━━━━━━━━━━━━━━━━━━╇━━━━━━━━━━━━━━━━━━━━━━━━╇━━━━━━━━━━━━━━━┩\n",
              "│ conv2d_3 (\u001b[38;5;33mConv2D\u001b[0m)               │ (\u001b[38;5;45mNone\u001b[0m, \u001b[38;5;34m32\u001b[0m, \u001b[38;5;34m32\u001b[0m, \u001b[38;5;34m32\u001b[0m)     │           \u001b[38;5;34m896\u001b[0m │\n",
              "├─────────────────────────────────┼────────────────────────┼───────────────┤\n",
              "│ activation_5 (\u001b[38;5;33mActivation\u001b[0m)       │ (\u001b[38;5;45mNone\u001b[0m, \u001b[38;5;34m32\u001b[0m, \u001b[38;5;34m32\u001b[0m, \u001b[38;5;34m32\u001b[0m)     │             \u001b[38;5;34m0\u001b[0m │\n",
              "├─────────────────────────────────┼────────────────────────┼───────────────┤\n",
              "│ max_pooling2d_3 (\u001b[38;5;33mMaxPooling2D\u001b[0m)  │ (\u001b[38;5;45mNone\u001b[0m, \u001b[38;5;34m16\u001b[0m, \u001b[38;5;34m16\u001b[0m, \u001b[38;5;34m32\u001b[0m)     │             \u001b[38;5;34m0\u001b[0m │\n",
              "├─────────────────────────────────┼────────────────────────┼───────────────┤\n",
              "│ conv2d_4 (\u001b[38;5;33mConv2D\u001b[0m)               │ (\u001b[38;5;45mNone\u001b[0m, \u001b[38;5;34m16\u001b[0m, \u001b[38;5;34m16\u001b[0m, \u001b[38;5;34m64\u001b[0m)     │        \u001b[38;5;34m18,496\u001b[0m │\n",
              "├─────────────────────────────────┼────────────────────────┼───────────────┤\n",
              "│ activation_6 (\u001b[38;5;33mActivation\u001b[0m)       │ (\u001b[38;5;45mNone\u001b[0m, \u001b[38;5;34m16\u001b[0m, \u001b[38;5;34m16\u001b[0m, \u001b[38;5;34m64\u001b[0m)     │             \u001b[38;5;34m0\u001b[0m │\n",
              "├─────────────────────────────────┼────────────────────────┼───────────────┤\n",
              "│ max_pooling2d_4 (\u001b[38;5;33mMaxPooling2D\u001b[0m)  │ (\u001b[38;5;45mNone\u001b[0m, \u001b[38;5;34m8\u001b[0m, \u001b[38;5;34m8\u001b[0m, \u001b[38;5;34m64\u001b[0m)       │             \u001b[38;5;34m0\u001b[0m │\n",
              "├─────────────────────────────────┼────────────────────────┼───────────────┤\n",
              "│ conv2d_5 (\u001b[38;5;33mConv2D\u001b[0m)               │ (\u001b[38;5;45mNone\u001b[0m, \u001b[38;5;34m8\u001b[0m, \u001b[38;5;34m8\u001b[0m, \u001b[38;5;34m64\u001b[0m)       │        \u001b[38;5;34m36,928\u001b[0m │\n",
              "├─────────────────────────────────┼────────────────────────┼───────────────┤\n",
              "│ activation_7 (\u001b[38;5;33mActivation\u001b[0m)       │ (\u001b[38;5;45mNone\u001b[0m, \u001b[38;5;34m8\u001b[0m, \u001b[38;5;34m8\u001b[0m, \u001b[38;5;34m64\u001b[0m)       │             \u001b[38;5;34m0\u001b[0m │\n",
              "├─────────────────────────────────┼────────────────────────┼───────────────┤\n",
              "│ max_pooling2d_5 (\u001b[38;5;33mMaxPooling2D\u001b[0m)  │ (\u001b[38;5;45mNone\u001b[0m, \u001b[38;5;34m4\u001b[0m, \u001b[38;5;34m4\u001b[0m, \u001b[38;5;34m64\u001b[0m)       │             \u001b[38;5;34m0\u001b[0m │\n",
              "├─────────────────────────────────┼────────────────────────┼───────────────┤\n",
              "│ flatten_1 (\u001b[38;5;33mFlatten\u001b[0m)             │ (\u001b[38;5;45mNone\u001b[0m, \u001b[38;5;34m1024\u001b[0m)           │             \u001b[38;5;34m0\u001b[0m │\n",
              "├─────────────────────────────────┼────────────────────────┼───────────────┤\n",
              "│ dense_2 (\u001b[38;5;33mDense\u001b[0m)                 │ (\u001b[38;5;45mNone\u001b[0m, \u001b[38;5;34m64\u001b[0m)             │        \u001b[38;5;34m65,600\u001b[0m │\n",
              "├─────────────────────────────────┼────────────────────────┼───────────────┤\n",
              "│ activation_8 (\u001b[38;5;33mActivation\u001b[0m)       │ (\u001b[38;5;45mNone\u001b[0m, \u001b[38;5;34m64\u001b[0m)             │             \u001b[38;5;34m0\u001b[0m │\n",
              "├─────────────────────────────────┼────────────────────────┼───────────────┤\n",
              "│ dense_3 (\u001b[38;5;33mDense\u001b[0m)                 │ (\u001b[38;5;45mNone\u001b[0m, \u001b[38;5;34m10\u001b[0m)             │           \u001b[38;5;34m650\u001b[0m │\n",
              "├─────────────────────────────────┼────────────────────────┼───────────────┤\n",
              "│ activation_9 (\u001b[38;5;33mActivation\u001b[0m)       │ (\u001b[38;5;45mNone\u001b[0m, \u001b[38;5;34m10\u001b[0m)             │             \u001b[38;5;34m0\u001b[0m │\n",
              "└─────────────────────────────────┴────────────────────────┴───────────────┘\n"
            ],
            "text/html": [
              "<pre style=\"white-space:pre;overflow-x:auto;line-height:normal;font-family:Menlo,'DejaVu Sans Mono',consolas,'Courier New',monospace\">┏━━━━━━━━━━━━━━━━━━━━━━━━━━━━━━━━━┳━━━━━━━━━━━━━━━━━━━━━━━━┳━━━━━━━━━━━━━━━┓\n",
              "┃<span style=\"font-weight: bold\"> Layer (type)                    </span>┃<span style=\"font-weight: bold\"> Output Shape           </span>┃<span style=\"font-weight: bold\">       Param # </span>┃\n",
              "┡━━━━━━━━━━━━━━━━━━━━━━━━━━━━━━━━━╇━━━━━━━━━━━━━━━━━━━━━━━━╇━━━━━━━━━━━━━━━┩\n",
              "│ conv2d_3 (<span style=\"color: #0087ff; text-decoration-color: #0087ff\">Conv2D</span>)               │ (<span style=\"color: #00d7ff; text-decoration-color: #00d7ff\">None</span>, <span style=\"color: #00af00; text-decoration-color: #00af00\">32</span>, <span style=\"color: #00af00; text-decoration-color: #00af00\">32</span>, <span style=\"color: #00af00; text-decoration-color: #00af00\">32</span>)     │           <span style=\"color: #00af00; text-decoration-color: #00af00\">896</span> │\n",
              "├─────────────────────────────────┼────────────────────────┼───────────────┤\n",
              "│ activation_5 (<span style=\"color: #0087ff; text-decoration-color: #0087ff\">Activation</span>)       │ (<span style=\"color: #00d7ff; text-decoration-color: #00d7ff\">None</span>, <span style=\"color: #00af00; text-decoration-color: #00af00\">32</span>, <span style=\"color: #00af00; text-decoration-color: #00af00\">32</span>, <span style=\"color: #00af00; text-decoration-color: #00af00\">32</span>)     │             <span style=\"color: #00af00; text-decoration-color: #00af00\">0</span> │\n",
              "├─────────────────────────────────┼────────────────────────┼───────────────┤\n",
              "│ max_pooling2d_3 (<span style=\"color: #0087ff; text-decoration-color: #0087ff\">MaxPooling2D</span>)  │ (<span style=\"color: #00d7ff; text-decoration-color: #00d7ff\">None</span>, <span style=\"color: #00af00; text-decoration-color: #00af00\">16</span>, <span style=\"color: #00af00; text-decoration-color: #00af00\">16</span>, <span style=\"color: #00af00; text-decoration-color: #00af00\">32</span>)     │             <span style=\"color: #00af00; text-decoration-color: #00af00\">0</span> │\n",
              "├─────────────────────────────────┼────────────────────────┼───────────────┤\n",
              "│ conv2d_4 (<span style=\"color: #0087ff; text-decoration-color: #0087ff\">Conv2D</span>)               │ (<span style=\"color: #00d7ff; text-decoration-color: #00d7ff\">None</span>, <span style=\"color: #00af00; text-decoration-color: #00af00\">16</span>, <span style=\"color: #00af00; text-decoration-color: #00af00\">16</span>, <span style=\"color: #00af00; text-decoration-color: #00af00\">64</span>)     │        <span style=\"color: #00af00; text-decoration-color: #00af00\">18,496</span> │\n",
              "├─────────────────────────────────┼────────────────────────┼───────────────┤\n",
              "│ activation_6 (<span style=\"color: #0087ff; text-decoration-color: #0087ff\">Activation</span>)       │ (<span style=\"color: #00d7ff; text-decoration-color: #00d7ff\">None</span>, <span style=\"color: #00af00; text-decoration-color: #00af00\">16</span>, <span style=\"color: #00af00; text-decoration-color: #00af00\">16</span>, <span style=\"color: #00af00; text-decoration-color: #00af00\">64</span>)     │             <span style=\"color: #00af00; text-decoration-color: #00af00\">0</span> │\n",
              "├─────────────────────────────────┼────────────────────────┼───────────────┤\n",
              "│ max_pooling2d_4 (<span style=\"color: #0087ff; text-decoration-color: #0087ff\">MaxPooling2D</span>)  │ (<span style=\"color: #00d7ff; text-decoration-color: #00d7ff\">None</span>, <span style=\"color: #00af00; text-decoration-color: #00af00\">8</span>, <span style=\"color: #00af00; text-decoration-color: #00af00\">8</span>, <span style=\"color: #00af00; text-decoration-color: #00af00\">64</span>)       │             <span style=\"color: #00af00; text-decoration-color: #00af00\">0</span> │\n",
              "├─────────────────────────────────┼────────────────────────┼───────────────┤\n",
              "│ conv2d_5 (<span style=\"color: #0087ff; text-decoration-color: #0087ff\">Conv2D</span>)               │ (<span style=\"color: #00d7ff; text-decoration-color: #00d7ff\">None</span>, <span style=\"color: #00af00; text-decoration-color: #00af00\">8</span>, <span style=\"color: #00af00; text-decoration-color: #00af00\">8</span>, <span style=\"color: #00af00; text-decoration-color: #00af00\">64</span>)       │        <span style=\"color: #00af00; text-decoration-color: #00af00\">36,928</span> │\n",
              "├─────────────────────────────────┼────────────────────────┼───────────────┤\n",
              "│ activation_7 (<span style=\"color: #0087ff; text-decoration-color: #0087ff\">Activation</span>)       │ (<span style=\"color: #00d7ff; text-decoration-color: #00d7ff\">None</span>, <span style=\"color: #00af00; text-decoration-color: #00af00\">8</span>, <span style=\"color: #00af00; text-decoration-color: #00af00\">8</span>, <span style=\"color: #00af00; text-decoration-color: #00af00\">64</span>)       │             <span style=\"color: #00af00; text-decoration-color: #00af00\">0</span> │\n",
              "├─────────────────────────────────┼────────────────────────┼───────────────┤\n",
              "│ max_pooling2d_5 (<span style=\"color: #0087ff; text-decoration-color: #0087ff\">MaxPooling2D</span>)  │ (<span style=\"color: #00d7ff; text-decoration-color: #00d7ff\">None</span>, <span style=\"color: #00af00; text-decoration-color: #00af00\">4</span>, <span style=\"color: #00af00; text-decoration-color: #00af00\">4</span>, <span style=\"color: #00af00; text-decoration-color: #00af00\">64</span>)       │             <span style=\"color: #00af00; text-decoration-color: #00af00\">0</span> │\n",
              "├─────────────────────────────────┼────────────────────────┼───────────────┤\n",
              "│ flatten_1 (<span style=\"color: #0087ff; text-decoration-color: #0087ff\">Flatten</span>)             │ (<span style=\"color: #00d7ff; text-decoration-color: #00d7ff\">None</span>, <span style=\"color: #00af00; text-decoration-color: #00af00\">1024</span>)           │             <span style=\"color: #00af00; text-decoration-color: #00af00\">0</span> │\n",
              "├─────────────────────────────────┼────────────────────────┼───────────────┤\n",
              "│ dense_2 (<span style=\"color: #0087ff; text-decoration-color: #0087ff\">Dense</span>)                 │ (<span style=\"color: #00d7ff; text-decoration-color: #00d7ff\">None</span>, <span style=\"color: #00af00; text-decoration-color: #00af00\">64</span>)             │        <span style=\"color: #00af00; text-decoration-color: #00af00\">65,600</span> │\n",
              "├─────────────────────────────────┼────────────────────────┼───────────────┤\n",
              "│ activation_8 (<span style=\"color: #0087ff; text-decoration-color: #0087ff\">Activation</span>)       │ (<span style=\"color: #00d7ff; text-decoration-color: #00d7ff\">None</span>, <span style=\"color: #00af00; text-decoration-color: #00af00\">64</span>)             │             <span style=\"color: #00af00; text-decoration-color: #00af00\">0</span> │\n",
              "├─────────────────────────────────┼────────────────────────┼───────────────┤\n",
              "│ dense_3 (<span style=\"color: #0087ff; text-decoration-color: #0087ff\">Dense</span>)                 │ (<span style=\"color: #00d7ff; text-decoration-color: #00d7ff\">None</span>, <span style=\"color: #00af00; text-decoration-color: #00af00\">10</span>)             │           <span style=\"color: #00af00; text-decoration-color: #00af00\">650</span> │\n",
              "├─────────────────────────────────┼────────────────────────┼───────────────┤\n",
              "│ activation_9 (<span style=\"color: #0087ff; text-decoration-color: #0087ff\">Activation</span>)       │ (<span style=\"color: #00d7ff; text-decoration-color: #00d7ff\">None</span>, <span style=\"color: #00af00; text-decoration-color: #00af00\">10</span>)             │             <span style=\"color: #00af00; text-decoration-color: #00af00\">0</span> │\n",
              "└─────────────────────────────────┴────────────────────────┴───────────────┘\n",
              "</pre>\n"
            ]
          },
          "metadata": {}
        },
        {
          "output_type": "display_data",
          "data": {
            "text/plain": [
              "\u001b[1m Total params: \u001b[0m\u001b[38;5;34m122,570\u001b[0m (478.79 KB)\n"
            ],
            "text/html": [
              "<pre style=\"white-space:pre;overflow-x:auto;line-height:normal;font-family:Menlo,'DejaVu Sans Mono',consolas,'Courier New',monospace\"><span style=\"font-weight: bold\"> Total params: </span><span style=\"color: #00af00; text-decoration-color: #00af00\">122,570</span> (478.79 KB)\n",
              "</pre>\n"
            ]
          },
          "metadata": {}
        },
        {
          "output_type": "display_data",
          "data": {
            "text/plain": [
              "\u001b[1m Trainable params: \u001b[0m\u001b[38;5;34m122,570\u001b[0m (478.79 KB)\n"
            ],
            "text/html": [
              "<pre style=\"white-space:pre;overflow-x:auto;line-height:normal;font-family:Menlo,'DejaVu Sans Mono',consolas,'Courier New',monospace\"><span style=\"font-weight: bold\"> Trainable params: </span><span style=\"color: #00af00; text-decoration-color: #00af00\">122,570</span> (478.79 KB)\n",
              "</pre>\n"
            ]
          },
          "metadata": {}
        },
        {
          "output_type": "display_data",
          "data": {
            "text/plain": [
              "\u001b[1m Non-trainable params: \u001b[0m\u001b[38;5;34m0\u001b[0m (0.00 B)\n"
            ],
            "text/html": [
              "<pre style=\"white-space:pre;overflow-x:auto;line-height:normal;font-family:Menlo,'DejaVu Sans Mono',consolas,'Courier New',monospace\"><span style=\"font-weight: bold\"> Non-trainable params: </span><span style=\"color: #00af00; text-decoration-color: #00af00\">0</span> (0.00 B)\n",
              "</pre>\n"
            ]
          },
          "metadata": {}
        }
      ]
    },
    {
      "cell_type": "code",
      "source": [
        "print(model_0)"
      ],
      "metadata": {
        "colab": {
          "base_uri": "https://localhost:8080/"
        },
        "id": "6ovwP-F0XRKo",
        "outputId": "92d8ae52-1912-4307-b890-db0326aea662"
      },
      "execution_count": 55,
      "outputs": [
        {
          "output_type": "stream",
          "name": "stdout",
          "text": [
            "<Sequential name=sequential_1, built=True>\n"
          ]
        }
      ]
    },
    {
      "cell_type": "markdown",
      "source": [
        "The `print` didn't give us a super-nice summary or visualization, and the summarization is incomplete, so let's look at a few options for visualization"
      ],
      "metadata": {
        "id": "D9N015ol0Ic-"
      }
    },
    {
      "cell_type": "markdown",
      "source": [
        "visualkeras.layered_view(model_0)"
      ],
      "metadata": {
        "id": "AQmXS2EN1VS8"
      }
    },
    {
      "cell_type": "code",
      "source": [
        "visualkeras.layered_view(model_0)"
      ],
      "metadata": {
        "colab": {
          "base_uri": "https://localhost:8080/",
          "height": 225
        },
        "id": "Am1TM2Ol1aAZ",
        "outputId": "3bb195ec-8dca-4402-ec9d-823bea4276f5"
      },
      "execution_count": 60,
      "outputs": [
        {
          "output_type": "stream",
          "name": "stderr",
          "text": [
            "/usr/local/lib/python3.11/dist-packages/visualkeras/layered.py:86: UserWarning: The legend_text_spacing_offset parameter is deprecated and will be removed in a future release.\n",
            "  warnings.warn(\"The legend_text_spacing_offset parameter is deprecated and will be removed in a future release.\")\n"
          ]
        },
        {
          "output_type": "execute_result",
          "data": {
            "text/plain": [
              "<PIL.Image.Image image mode=RGBA size=538x171>"
            ],
            "image/png": "[encoded data removed]"
          },
          "metadata": {},
          "execution_count": 60
        }
      ]
    },
    {
      "cell_type": "code",
      "source": [
        "#  We can better that\n",
        "\n",
        "!stat /usr/local/share/fonts\n",
        "!echo\n",
        "!ls -laH /usr/local/share/fonts/\n",
        "!echo\n",
        "!stat /usr/share/fonts/.uuid/\n",
        "\n",
        "#  Well, maybe not with a quick-and-reckless run.\n",
        "#+ We'd have to download/build/whatever the fonts.\n",
        "#+ Something like\n",
        "#+ ```bash from jupyter\n",
        "#+ !sudo apt-get install ttf-mscorefonts-installer`\n",
        "#+ !sudo fc-cache -f\n",
        "#+ # and check it\n",
        "#+ !fc-match Arial\n",
        "#+ ```\n",
        "\n",
        "#  But I don't know how Jupyter's bash works exactly,\n",
        "#+ nor do I remember the details of `fc-cache`. It\n",
        "#+ might require `source ~/.bashrc` before workout.\n",
        "#+ For all that, the TIME IS NOT NOW"
      ],
      "metadata": {
        "colab": {
          "base_uri": "https://localhost:8080/"
        },
        "id": "eAZuvF441kT4",
        "outputId": "1a35dcba-0181-4411-cfa2-37fdd50defaf"
      },
      "execution_count": 71,
      "outputs": [
        {
          "output_type": "stream",
          "name": "stdout",
          "text": [
            "  File: /usr/local/share/fonts\n",
            "  Size: 4096      \tBlocks: 8          IO Block: 4096   directory\n",
            "Device: 35h/53d\tInode: 5636145     Links: 2\n",
            "Access: (2775/drwxrwsr-x)  Uid: (    0/    root)   Gid: (   50/   staff)\n",
            "Access: 2025-04-22 14:28:36.417255600 +0000\n",
            "Modify: 2025-04-22 13:18:13.000000000 +0000\n",
            "Change: 2025-04-22 14:28:36.031221201 +0000\n",
            " Birth: 2025-04-22 14:28:09.954897582 +0000\n",
            "\n",
            "total 12\n",
            "drwxrwsr-x 2 root staff 4096 Apr 22 13:18 .\n",
            "drwxr-xr-x 1 1000  1000 4096 Apr 22 13:44 ..\n",
            "-rw-r--r-- 1 root staff   36 Apr 22 13:18 .uuid\n",
            "\n",
            "stat: cannot statx '/usr/share/fonts/.uuid/': Not a directory\n"
          ]
        }
      ]
    },
    {
      "cell_type": "code",
      "source": [
        "##  What would have come was ...\n",
        "#font = ImageFont.truetype(\"arial.ttf\", 32)\n",
        "visualkeras.layered_view(model_0, legend=True) #, font=font)\n",
        "\n",
        "# Easy fix, just leave out the font parameter"
      ],
      "metadata": {
        "colab": {
          "base_uri": "https://localhost:8080/",
          "height": 263
        },
        "id": "7Ogoain620sg",
        "outputId": "7899c22d-0f8f-4c81-9689-f724a846d342"
      },
      "execution_count": 66,
      "outputs": [
        {
          "output_type": "stream",
          "name": "stderr",
          "text": [
            "/usr/local/lib/python3.11/dist-packages/visualkeras/layered.py:86: UserWarning: The legend_text_spacing_offset parameter is deprecated and will be removed in a future release.\n",
            "  warnings.warn(\"The legend_text_spacing_offset parameter is deprecated and will be removed in a future release.\")\n"
          ]
        },
        {
          "output_type": "execute_result",
          "data": {
            "text/plain": [
              "<PIL.Image.Image image mode=RGBA size=538x209>"
            ],
            "image/png": "[encoded data removed]"
          },
          "metadata": {},
          "execution_count": 66
        }
      ]
    },
    {
      "cell_type": "markdown",
      "source": [
        "#### Compile Using Optimizer and Loss, Specify Metrics to be Reported"
      ],
      "metadata": {
        "id": "FUTTOC1Ig_kA"
      }
    },
    {
      "cell_type": "code",
      "source": [
        "compile_tic = timeit.default_timer()\n",
        "model_0.compile(\n",
        "    optimizer=optimizers.Adam(), #default learning rate?\n",
        "    loss=losses.SparseCategoricalCrossentropy(from_logits=True),\n",
        "    metrics=['accuracy']\n",
        ")\n",
        "compile_toc = timeit.default_timer()\n",
        "print(f\"Compile time: {compile_toc - compile_tic:0.4f} seconds\")"
      ],
      "metadata": {
        "colab": {
          "base_uri": "https://localhost:8080/"
        },
        "id": "Ek9bgsOrf92R",
        "outputId": "0928568c-dd03-494f-d384-61357a74ded7"
      },
      "execution_count": 75,
      "outputs": [
        {
          "output_type": "stream",
          "name": "stdout",
          "text": [
            "Compile time: 0.0236 seconds\n"
          ]
        }
      ]
    },
    {
      "cell_type": "markdown",
      "source": [
        "## Train of it, with both viewing and logging"
      ],
      "metadata": {
        "id": "PxBScfbi5B69"
      }
    },
    {
      "cell_type": "markdown",
      "source": [
        "cf. [StackOverflow Discussion](https://web.archive.org/web/20250423184118/https://stackoverflow.com/questions/67757496/tensorflow-keras-print-out-and-save-loss-and-gradients-during-model-fit)"
      ],
      "metadata": {
        "id": "wW2dPZyj9B4s"
      }
    },
    {
      "cell_type": "code",
      "source": [
        "class TrainableVariablesCallback(callbacks.Callback):\n",
        "  def on_epoch_end(self, epoch, logs={}):\n",
        "    print(model_0.trainable_variables)\n",
        "  ##endof:  on_epoch_end\n",
        "##endof:  TrainableVariablesCallback"
      ],
      "metadata": {
        "id": "ZmZUtTPc9BeC"
      },
      "execution_count": 77,
      "outputs": []
    },
    {
      "cell_type": "markdown",
      "source": [
        "@todo : Get compute use, memory use, etc. and log, e.g., the trainable variables"
      ],
      "metadata": {
        "id": "pl9lMAfk_X1q"
      }
    },
    {
      "cell_type": "markdown",
      "source": [
        "<strong>REMEMBER TO CHANGE YOUR RUNTIME TO GPU</strong>\n",
        "\n",
        "(You might need to re-run old cells, but it's worth it.)"
      ],
      "metadata": {
        "id": "5Ei-1iPxA2wQ"
      }
    },
    {
      "cell_type": "code",
      "source": [
        "print(f\"Num GPUs Available: {len(tf.config.list_physical_devices('GPU'))}\")"
      ],
      "metadata": {
        "id": "k8IqCOm4GlUh"
      },
      "execution_count": null,
      "outputs": []
    },
    {
      "cell_type": "code",
      "source": [
        "##  This one gives way too much output. If desired, I can\n",
        "##+ figure out how to send it to a file.\n",
        "# my_trainable_vars_logger = TrainableVariablesCallback()\n",
        "\n",
        "!>training.log  # empty the file without deleting the name\n",
        "my_csv_logger = callbacks.CSVLogger('training.log')\n",
        "\n",
        "n_epochs = 10\n",
        "\n",
        "train_tic = timeit.default_timer()\n",
        "\n",
        "history = model_0.fit(\n",
        "    x_train, y_train,\n",
        "    epochs=n_epochs,\n",
        "    validation_data=(x_test, y_test),\n",
        "    callbacks=[my_csv_logger] #, my_trainable_vars_logger]\n",
        ")\n",
        "\n",
        "train_toc = timeit.default_timer()\n",
        "print(f\"Train time: {train_toc - train_tic:0.4f} seconds\")\n",
        "\n",
        "train_time_str = format_timespan(train_toc - train_tic)\n",
        "print(f\"which equates to: {train_time_str}\")"
      ],
      "metadata": {
        "colab": {
          "base_uri": "https://localhost:8080/",
          "height": 1000
        },
        "collapsed": true,
        "id": "vmHzFHcJ5DZ6",
        "outputId": "7796e602-85fa-4595-f442-33c00bda5d56"
      },
      "execution_count": 78,
      "outputs": [
        {
          "output_type": "stream",
          "name": "stdout",
          "text": [
            "Epoch 1/10\n"
          ]
        },
        {
          "output_type": "stream",
          "name": "stderr",
          "text": [
            "/usr/local/lib/python3.11/dist-packages/keras/src/backend/tensorflow/nn.py:708: UserWarning: \"`sparse_categorical_crossentropy` received `from_logits=True`, but the `output` argument was produced by a Softmax activation and thus does not represent logits. Was this intended?\n",
            "  output, from_logits = _get_logits(\n"
          ]
        },
        {
          "output_type": "stream",
          "name": "stdout",
          "text": [
            "\u001b[1m1562/1563\u001b[0m \u001b[32m━━━━━━━━━━━━━━━━━━━\u001b[0m\u001b[37m━\u001b[0m \u001b[1m0s\u001b[0m 58ms/step - accuracy: 0.3692 - loss: 1.7079[<Variable path=sequential_1/conv2d_3/kernel, shape=(3, 3, 3, 32), dtype=float32, value=[[[[ 4.64016497e-02 -1.72679827e-01  1.02430746e-01 -9.21841934e-02\n",
            "     1.41779184e-01  6.73028156e-02 -1.98436007e-01 -1.31715843e-02\n",
            "    -1.14133738e-01 -1.14585020e-01 -1.94851290e-02  2.26080343e-02\n",
            "    -1.62709311e-01 -1.74786717e-01 -3.79378609e-02 -7.19716325e-02\n",
            "     1.10232256e-01 -6.43344000e-02  4.68214229e-02  3.14137973e-02\n",
            "     7.00850189e-02  7.79304057e-02  8.38833377e-02  4.51118387e-02\n",
            "    -8.74724388e-02 -5.38154207e-02 -1.36087403e-01 -2.71644667e-02\n",
            "    -8.72785747e-02  6.70354143e-02 -1.62375774e-02  3.50345410e-02]\n",
            "   [-5.96759953e-02  5.41497059e-02  9.85033140e-02 -6.14111982e-02\n",
            "     1.28121162e-02 -9.14897323e-02 -8.38481560e-02  9.01494548e-02\n",
            "    -1.38285965e-01 -7.24224672e-02 -7.92598799e-02  3.74425128e-02\n",
            "    -2.34022699e-02 -1.25325337e-01  3.35051045e-02 -2.88447738e-02\n",
            "     6.35634139e-02  1.20181493e-01 -4.86081094e-02 -1.40169874e-01\n",
            "    -1.98977999e-02  8.10373425e-02  9.76690277e-02 -7.75588304e-02\n",
            "     9.66573833e-04 -7.10796267e-02 -9.01959017e-02 -8.36553350e-02\n",
            "    -1.16522811e-01 -2.11306233e-02  6.23492785e-02 -7.20098019e-02]\n",
            "   [-1.35510950e-03 -1.09278738e-01 -3.65240090e-02  7.83827826e-02\n",
            "    -7.72906765e-02  6.40410334e-02 -1.04739465e-01  3.40630859e-02\n",
            "     9.03474391e-02 -4.34468873e-02  6.79372549e-02  1.24312684e-01\n",
            "     6.61745295e-02  6.91669658e-02 -6.04539663e-02  6.44403473e-02\n",
            "     7.22614750e-02 -9.63224247e-02  5.03168032e-02 -1.88225210e-01\n",
            "     1.40305445e-01  1.00017870e-02  9.43876728e-02 -2.37407032e-02\n",
            "    -1.66240588e-01 -5.49463667e-02 -1.07552204e-02  4.23385873e-02\n",
            "     1.76564693e-01  1.59039423e-01  2.47655492e-02 -1.23259187e-01]]\n",
            "\n",
            "  [[ 5.14704175e-02 -1.75648436e-01 -9.26383138e-02  3.73245589e-02\n",
            "    -2.86869351e-02 -5.49954474e-02 -8.73365179e-02  7.03668892e-02\n",
            "    -3.90360728e-02  1.41371995e-01 -6.42548082e-03 -8.25572982e-02\n",
            "     2.01632027e-02 -1.07402749e-01 -1.53244033e-01 -8.67602229e-02\n",
            "    -8.72383639e-02  6.86143860e-02  1.14747673e-01  5.61357513e-02\n",
            "     1.57218669e-02 -1.39969543e-01  5.48434295e-02  1.06798455e-01\n",
            "    -7.91931152e-02 -1.21371806e-01  1.23485774e-01 -4.55912128e-02\n",
            "     6.58610240e-02  1.78996950e-01 -8.83142054e-02 -1.66538924e-01]\n",
            "   [ 1.44213289e-01 -3.26960646e-02 -1.02702938e-02 -2.23150309e-02\n",
            "     3.96760069e-02 -1.11973584e-01 -1.57697611e-02 -1.37680754e-01\n",
            "     6.58503622e-02 -5.64412475e-02 -2.82703098e-02 -2.72733700e-02\n",
            "    -2.96552237e-02  5.46120927e-02  4.09017429e-02  1.46816764e-02\n",
            "     1.10362880e-01 -3.04253725e-03  1.02439754e-01  1.11820988e-01\n",
            "    -1.43076062e-01  5.47803342e-02  2.28522792e-02 -1.78860668e-02\n",
            "    -5.47444783e-02 -1.33511782e-01 -1.07854083e-01  3.38781290e-02\n",
            "     7.15031400e-02 -8.23204517e-02 -1.30558267e-01 -1.57487467e-02]\n",
            "   [ 1.02554075e-01 -3.20072100e-02 -1.14262812e-01  5.20040579e-02\n",
            "     1.06888212e-01 -1.23525739e-01 -3.76316383e-02  3.44764851e-02\n",
            "     9.89947170e-02 -8.03733468e-02 -1.03690006e-01  5.19755632e-02\n",
            "    -3.12203467e-02 -1.26636513e-02 -1.56058982e-01  1.14410520e-01\n",
            "    -1.43851176e-01 -3.19190286e-02 -9.31666642e-02 -6.99706823e-02\n",
            "    -5.62721007e-02  7.83985928e-02 -2.48926803e-02 -7.44899660e-02\n",
            "    -1.19144343e-01  2.31611356e-03  1.01286262e-01  4.44870144e-02\n",
            "    -6.50226474e-02  1.69420928e-01  1.28074810e-01 -9.12836641e-02]]\n",
            "\n",
            "  [[ 1.31824031e-01  6.75722435e-02  9.27979425e-02 -1.30585313e-01\n",
            "     1.54491812e-02  1.00124598e-01 -1.27432510e-01  1.03484400e-01\n",
            "     1.06930070e-01  1.37708142e-01 -1.05241269e-01 -1.19633906e-01\n",
            "    -1.41410619e-01 -3.07838153e-02  7.85158202e-02  8.76080245e-03\n",
            "     2.06459444e-02 -1.36362180e-01  3.88331562e-02  1.37647182e-01\n",
            "    -1.08778030e-01 -7.04961643e-02  7.90169016e-02  1.54337034e-01\n",
            "    -5.78520820e-02  5.61681623e-03  8.09900165e-02  2.43175235e-02\n",
            "     6.91495985e-02  1.05773307e-01  2.28298493e-02 -1.60064846e-01]\n",
            "   [ 7.48329684e-02 -1.27917111e-01 -4.03298400e-02  3.57649848e-02\n",
            "    -8.58326536e-03 -2.09398627e-01  5.46713136e-02 -1.72192186e-01\n",
            "    -1.40454248e-01  1.09268792e-01 -7.79993017e-04  6.35384470e-02\n",
            "     6.07826114e-02 -1.36509046e-01  1.21078424e-01  3.08796414e-03\n",
            "     1.22226335e-01  3.57943773e-02  1.28068835e-01  1.89038906e-02\n",
            "     7.54538774e-02  1.12142228e-01 -2.10366696e-02 -3.74477282e-02\n",
            "     1.07208498e-01 -1.66866544e-03  1.17928669e-01 -4.94479649e-02\n",
            "    -7.67338797e-02  1.62108298e-02  4.31146212e-02 -4.27732524e-03]\n",
            "   [ 1.31109422e-02 -5.92116751e-02 -7.78170750e-02  1.32466912e-01\n",
            "    -1.70868635e-01 -7.86579847e-02  3.90893705e-02  1.03730867e-02\n",
            "    -3.49969021e-03 -4.04958390e-02 -3.76512595e-02 -1.39406389e-02\n",
            "    -6.52976856e-02  8.81709456e-02  8.41936395e-02  3.26771773e-02\n",
            "     1.02729335e-01  6.40367568e-02 -1.72991365e-01  3.84597741e-02\n",
            "    -1.18528619e-01  1.29429117e-01  1.71932697e-01 -7.91299716e-02\n",
            "    -2.76578199e-02 -3.06045469e-02  1.15973607e-01 -1.40431270e-01\n",
            "     1.36177376e-01  1.60269946e-01  6.67486489e-02 -1.04571447e-01]]]\n",
            "\n",
            "\n",
            " [[[ 1.15004301e-01  9.37119424e-02  1.24798656e-01  7.12676495e-02\n",
            "    -9.73085910e-02  1.25949517e-01  2.78613176e-02 -6.63878620e-02\n",
            "     6.34489506e-02  1.34748966e-01  6.68342831e-03  9.41356942e-02\n",
            "    -1.46409959e-01 -8.33730698e-02  5.20222411e-02 -1.39028311e-01\n",
            "    -8.72834176e-02  2.96127219e-02  1.31901756e-01 -6.09106384e-02\n",
            "     1.36628464e-01 -1.02731818e-02 -1.50497407e-01  6.50507659e-02\n",
            "    -1.64638653e-01 -6.93524256e-02  5.65821193e-02  7.51206279e-03\n",
            "    -1.19672492e-01  5.32399921e-04 -6.08019605e-02  1.16210900e-01]\n",
            "   [-2.37717032e-02 -5.64612150e-02  1.06330156e-01  8.33719969e-02\n",
            "     5.99802881e-02 -4.30604145e-02 -4.12341841e-02 -6.68784790e-03\n",
            "     6.29769117e-02 -3.06308288e-02  4.58893701e-02  1.04462571e-01\n",
            "    -5.03925532e-02  1.77938081e-02 -5.77669293e-02  3.33386771e-02\n",
            "     3.07016335e-02  5.63739166e-02  1.90967545e-01 -4.43503819e-02\n",
            "    -2.27159858e-02  7.49416575e-02 -1.14505932e-01 -9.33906343e-03\n",
            "    -1.09703645e-01  7.44885653e-02 -1.63776264e-01 -1.33783296e-01\n",
            "     4.23957407e-02 -1.00075111e-01  8.92689377e-02 -1.75974425e-02]\n",
            "   [ 4.77981716e-02 -2.26517767e-02 -3.44445482e-02  1.14952289e-01\n",
            "    -3.15645076e-02 -2.52310000e-02  8.71659350e-03  8.40889364e-02\n",
            "     1.25660554e-01  6.11212989e-03  7.91466087e-02 -2.31348388e-02\n",
            "     2.47250497e-02 -5.55604100e-02 -3.80898751e-02 -3.85201164e-02\n",
            "    -1.35079488e-01  1.07952192e-01  1.97185516e-01  5.63324764e-02\n",
            "     5.79129681e-02 -2.12002955e-02  1.42769422e-03 -8.51385575e-03\n",
            "    -4.24883589e-02 -7.20407739e-02 -8.31249505e-02 -1.16522036e-01\n",
            "     4.12802100e-02 -4.19303700e-02  8.98767039e-02 -9.89130586e-02]]\n",
            "\n",
            "  [[-7.26629496e-02 -5.22621442e-03 -2.50935964e-02  5.83201572e-02\n",
            "     3.08445049e-03 -2.39352547e-02 -7.46742496e-03 -2.85879504e-02\n",
            "     6.29513562e-02  1.49565086e-01  1.00968899e-02 -1.10309534e-01\n",
            "    -1.45211041e-01  8.07358027e-02 -6.69750050e-02 -1.59243084e-02\n",
            "    -3.13143730e-02  7.04759508e-02 -1.59243628e-01  1.13264799e-01\n",
            "    -8.85523260e-02 -1.35774493e-01 -1.51525959e-01  8.94272551e-02\n",
            "     1.23748250e-01 -5.48404939e-02  1.52645677e-01 -4.85828817e-02\n",
            "    -9.99802127e-02 -4.82646786e-02 -1.20893888e-01 -6.11390434e-02]\n",
            "   [-1.42274559e-01  5.74732982e-02  2.39343266e-03  9.31373015e-02\n",
            "     6.90780729e-02 -1.87779253e-03  1.39789328e-01 -1.31379604e-01\n",
            "    -4.78630252e-02 -1.27202692e-02  2.93223117e-03 -5.31054176e-02\n",
            "     1.30188569e-01 -6.41171308e-03 -4.89941016e-02 -6.90217912e-02\n",
            "     1.24897733e-01  1.29506037e-01 -1.47510484e-01  1.14049248e-01\n",
            "    -9.12604760e-03  1.32222593e-01 -1.43211737e-01  1.30109280e-01\n",
            "     7.65869692e-02 -7.33497646e-03 -8.02651793e-02 -1.47874594e-01\n",
            "    -1.14372663e-01 -2.31281426e-02 -1.31259756e-02  2.73759346e-02]\n",
            "   [-7.62836337e-02  3.57847251e-02  6.73560128e-02  4.07246165e-02\n",
            "    -1.56903997e-01 -9.27870050e-02  8.72680545e-03  2.04096064e-02\n",
            "     1.60043851e-01  1.16875328e-01 -3.05460151e-02  1.26482278e-01\n",
            "    -1.00081459e-01  5.27124144e-02 -9.81824398e-02  1.03596531e-01\n",
            "    -1.52672897e-03 -8.09987634e-02 -7.20106959e-02 -1.25681832e-01\n",
            "    -8.70743319e-02  7.31495023e-02 -1.44295707e-01 -2.07179442e-01\n",
            "     9.26302075e-02  6.96594641e-02  6.95184693e-02  3.80551955e-03\n",
            "    -1.91373900e-02  4.86272722e-02  1.02381311e-01  1.42910957e-01]]\n",
            "\n",
            "  [[ 7.61956498e-02 -8.24966505e-02  6.21750136e-04 -4.81126122e-02\n",
            "     6.14100061e-02  7.93678910e-02 -4.45515383e-03  1.51519701e-01\n",
            "     4.13688086e-02  6.04412220e-02 -2.28487197e-02  5.00479303e-02\n",
            "     6.43050969e-02  1.01629950e-01 -1.32622458e-02 -6.45004287e-02\n",
            "    -1.32557675e-01 -9.82857309e-03 -9.83668044e-02  5.35439029e-02\n",
            "     1.31530762e-02 -1.67493597e-01  1.18375786e-01  1.24319173e-01\n",
            "     9.14725661e-02  1.91860563e-05 -1.00223497e-02 -9.59413350e-02\n",
            "    -1.71783686e-01 -7.99615607e-02  8.95315483e-02  1.10159308e-01]\n",
            "   [ 7.59292543e-02 -2.99910381e-02  9.11475271e-02  1.08254693e-01\n",
            "     1.07209146e-01  1.03444040e-01  4.10731770e-02 -5.52417040e-02\n",
            "    -1.06315091e-02  6.47376478e-02 -1.54710621e-01 -1.79738719e-02\n",
            "    -6.49327263e-02  1.32164940e-01  1.61301047e-01 -7.00893402e-02\n",
            "    -4.78679091e-02  1.48682237e-01  1.43731991e-02  3.09367720e-02\n",
            "    -9.31138024e-02 -7.75731308e-03  1.47663146e-01 -2.52776220e-02\n",
            "    -2.73112133e-02 -2.91046705e-02 -7.29071209e-03 -3.30532193e-02\n",
            "     7.20664188e-02 -1.27691314e-01 -8.34575593e-02 -8.67183954e-02]\n",
            "   [ 1.12487331e-01  6.61708266e-02  2.00501122e-02 -8.56068393e-04\n",
            "    -6.18409999e-02  1.27765298e-01 -8.26369151e-02 -4.82092276e-02\n",
            "     1.41357273e-01  1.53842837e-01 -9.03655440e-02  1.13359876e-01\n",
            "    -1.10412017e-01 -5.95352277e-02  2.93208100e-02  1.52611630e-02\n",
            "    -1.75370544e-01  2.28421502e-02 -1.56645343e-01  7.62917474e-02\n",
            "     1.81078482e-02  1.23784356e-01 -9.85473096e-02 -1.66544721e-01\n",
            "     1.46441326e-01 -2.44940799e-02  1.05543047e-01  6.75146505e-02\n",
            "    -1.86042991e-02 -9.11158174e-02 -1.32965529e-02  1.01025462e-01]]]\n",
            "\n",
            "\n",
            " [[[-7.03172833e-02  1.08317852e-01  7.40241781e-02 -4.75496501e-02\n",
            "     1.51145890e-01  5.63314520e-02  6.64784340e-04  3.34870145e-02\n",
            "    -7.55878240e-02 -9.28327441e-02  4.29663323e-02  9.03538689e-02\n",
            "     6.73068538e-02  1.27837524e-01 -8.77828151e-02 -3.78581472e-02\n",
            "    -5.21876253e-02  1.87548418e-02 -1.20876893e-01 -1.09306559e-01\n",
            "     1.07219368e-01 -4.91231643e-02 -7.45246038e-02 -3.65127288e-02\n",
            "    -1.15191512e-01  7.58075565e-02  7.53299519e-02 -9.08391029e-02\n",
            "    -1.33407533e-01 -7.44906291e-02 -5.66228814e-02  1.23647153e-01]\n",
            "   [-1.49796546e-01  1.32624552e-01 -3.34101431e-02 -1.07756205e-01\n",
            "     4.92414050e-02 -1.01001160e-02 -9.33117867e-02 -7.49722868e-02\n",
            "    -9.96340364e-02 -1.49286687e-01  1.34937659e-01  1.03465647e-01\n",
            "     8.38326737e-02 -1.13834187e-01  6.56182691e-02 -4.25893664e-02\n",
            "    -2.72702500e-02 -2.71912999e-02 -5.60362488e-02 -5.01152221e-03\n",
            "     1.71866477e-01 -1.35069117e-01  9.65421647e-02  1.12387426e-02\n",
            "     1.24240397e-02 -1.32454053e-01 -1.37284502e-01 -4.38421033e-02\n",
            "    -4.16315384e-02 -6.81850477e-04 -3.91937383e-02  1.87675171e-02]\n",
            "   [ 5.00980914e-02 -1.89465657e-02  6.70204461e-02 -1.45234233e-02\n",
            "    -9.81789976e-02  1.18323281e-01 -6.49529248e-02 -8.23518485e-02\n",
            "    -1.24863721e-01  1.01008452e-01  6.74680024e-02 -5.43502020e-03\n",
            "    -7.31901964e-04 -1.00514762e-01  1.93420018e-03 -1.41614005e-01\n",
            "    -1.54594079e-01 -1.63841829e-01 -9.02298018e-02 -1.12585410e-01\n",
            "     1.17252618e-01 -4.02275957e-02 -7.33529851e-02 -6.81584999e-02\n",
            "    -1.16042539e-01  1.47828162e-02 -1.26744121e-01 -1.36553094e-01\n",
            "     1.34301931e-01 -8.80765542e-02 -9.95637253e-02  5.57248220e-02]]\n",
            "\n",
            "  [[-7.72010237e-02  3.03486176e-02 -5.72106987e-02  1.94017403e-02\n",
            "     2.23214012e-02  3.12224659e-03 -1.76317200e-01  9.15978774e-02\n",
            "    -1.06455185e-01 -9.04388428e-02  6.66035805e-03  1.12769715e-01\n",
            "     1.61678046e-01  7.56387264e-02  1.17117696e-01  6.77465945e-02\n",
            "    -3.10437568e-02 -1.77370220e-01 -6.41444176e-02 -1.06041301e-02\n",
            "     6.66997731e-02 -1.32622510e-01  3.35099548e-02  1.75971597e-01\n",
            "     1.13948487e-01 -2.40047947e-02 -5.31517975e-02  1.02407038e-01\n",
            "    -4.69189286e-02 -4.80396338e-02 -1.09301917e-01 -8.00701156e-02]\n",
            "   [-6.97838739e-02  9.65059176e-02  9.35198441e-02  3.87805998e-02\n",
            "     1.37054980e-01 -1.49189934e-01  1.28296897e-01 -3.84391518e-03\n",
            "    -8.11741222e-03 -7.43221343e-02  1.53410032e-01 -2.93919891e-02\n",
            "     7.38216639e-02  1.28237650e-01  7.54639506e-02  6.73603043e-02\n",
            "    -3.81786190e-02  1.02311611e-01  2.41679884e-02 -1.20057240e-01\n",
            "    -5.13372459e-02  5.40781245e-02 -9.26411152e-02 -1.26597121e-01\n",
            "     9.87487212e-02  4.63801026e-02 -9.66783538e-02 -3.53725851e-02\n",
            "     1.30787730e-01 -1.65033527e-02  9.21910256e-02  7.96884671e-02]\n",
            "   [-1.40988037e-01  4.72347140e-02 -1.18656240e-01 -3.55660208e-02\n",
            "    -7.95303360e-02  1.33551523e-01  2.82544103e-02 -4.88243587e-02\n",
            "    -4.44656014e-02 -1.47462457e-01 -8.67034644e-02  6.45691901e-02\n",
            "    -6.99230209e-02  2.56961267e-02  2.26866757e-03 -4.28140424e-02\n",
            "     1.15180358e-01 -7.63524249e-02 -6.51350766e-02 -1.47150695e-01\n",
            "    -9.15247127e-02 -5.90999750e-03 -4.87848334e-02 -1.22568272e-01\n",
            "     1.71870999e-02 -1.22439183e-01 -3.75342444e-02 -1.35429159e-01\n",
            "     5.24388328e-02 -5.81623875e-02  1.06444709e-01  5.36894612e-02]]\n",
            "\n",
            "  [[-1.06953137e-01 -6.86840415e-02 -1.57926366e-01 -1.22474402e-01\n",
            "    -7.45703802e-02 -1.27496004e-01 -9.12336931e-02 -1.06981851e-01\n",
            "     5.93665875e-02 -5.79743944e-02  1.06414855e-01 -5.50089404e-02\n",
            "     1.57624304e-01  1.46473467e-01 -2.28890479e-02 -7.70239010e-02\n",
            "     1.07937798e-01 -7.65960291e-02 -3.22658904e-02  8.59517306e-02\n",
            "    -1.13818109e-01 -8.81772116e-03  6.26163781e-02  1.78520242e-03\n",
            "     1.53496385e-01 -1.12880416e-01 -2.85095330e-02 -1.20341018e-01\n",
            "     6.87797293e-02  9.45173800e-02  7.42984861e-02  1.02531835e-01]\n",
            "   [ 1.02909856e-01  1.56864032e-01 -5.07400371e-03 -1.04820088e-01\n",
            "     7.37731233e-02  7.80982971e-02  2.95104925e-02 -2.60634664e-02\n",
            "    -1.54863551e-01 -7.22402185e-02 -1.02178007e-01  4.76239100e-02\n",
            "     1.49624228e-01  5.76585904e-02 -4.89051938e-02 -4.16583288e-03\n",
            "     9.91624519e-02  1.10463230e-02  7.05610365e-02  1.51878312e-01\n",
            "    -1.88810676e-01 -4.84787114e-03 -6.06893748e-02  3.94098051e-02\n",
            "     5.94959296e-02 -1.02650048e-02  1.54398516e-01  2.70615313e-02\n",
            "     7.12520257e-02 -1.23635627e-01 -9.65122208e-02 -4.33071069e-02]\n",
            "   [ 1.33011699e-01  5.60731404e-02  6.45748451e-02 -3.89837176e-02\n",
            "    -1.60486236e-01  1.08552955e-01 -1.79853886e-02  2.13240534e-02\n",
            "     5.51404385e-03 -3.59454602e-02 -3.91600206e-02  1.13927476e-01\n",
            "     3.59061267e-03  8.09468329e-02 -4.56845798e-02 -5.07836416e-02\n",
            "     6.70479909e-02 -3.74824856e-03  8.30930024e-02  6.42528906e-02\n",
            "    -9.35689919e-03  1.06177367e-01  1.51127681e-01 -4.67504524e-02\n",
            "     9.51869264e-02 -6.62909523e-02 -2.00320762e-02 -5.06529137e-02\n",
            "     3.50277908e-02 -3.79157290e-02 -1.05346859e-01  1.54286668e-01]]]]>, <Variable path=sequential_1/conv2d_3/bias, shape=(32,), dtype=float32, value=[-0.09675977  0.01539534 -0.05451564 -0.0332469   0.02891828 -0.03056388\n",
            "  0.07104233  0.00899221  0.00667514  0.00307727  0.06008117 -0.0704818\n",
            "  0.01857544 -0.05607017  0.04157967 -0.01717128 -0.00212144 -0.00647702\n",
            "  0.03188008  0.02094381  0.0564831  -0.02339231  0.01967633 -0.02752072\n",
            "  0.00993345  0.1206914   0.0142779  -0.04133066  0.0172371   0.01830437\n",
            " -0.04332128 -0.00197249]>, <Variable path=sequential_1/conv2d_4/kernel, shape=(3, 3, 32, 64), dtype=float32, value=[[[[-3.31283510e-02  5.60502373e-02 -8.66782945e-03 ... -2.68571656e-02\n",
            "     5.00917882e-02  6.93163425e-02]\n",
            "   [ 1.19561143e-01  2.16085855e-02 -8.68001860e-03 ...  9.76277515e-03\n",
            "    -4.77154776e-02 -9.90832895e-02]\n",
            "   [-2.27109585e-02  4.25286070e-02  4.47342359e-02 ... -2.91787814e-02\n",
            "    -8.96174982e-02  6.84895515e-02]\n",
            "   ...\n",
            "   [-5.37155271e-02  1.73412915e-02 -3.28376517e-02 ...  3.70396525e-02\n",
            "    -8.19565281e-02  2.13925671e-02]\n",
            "   [-3.90049219e-02  5.01010977e-02  5.98611385e-02 ...  4.21364307e-02\n",
            "    -4.57572117e-02 -9.82196853e-02]\n",
            "   [ 1.11703470e-01  1.10665828e-01 -5.86788766e-02 ...  3.88533249e-02\n",
            "    -6.64472654e-02 -2.30391882e-02]]\n",
            "\n",
            "  [[-6.03323616e-02  5.85306250e-02 -9.35797244e-02 ... -7.59460256e-02\n",
            "     8.26102550e-05 -3.59026715e-02]\n",
            "   [-2.01408984e-03  4.28259484e-02  3.94734293e-02 ... -2.59919954e-03\n",
            "    -9.23962705e-03  5.53566683e-03]\n",
            "   [-7.04079196e-02 -1.38733827e-03 -4.73861881e-02 ... -7.76674300e-02\n",
            "    -5.25551699e-02 -2.25096531e-02]\n",
            "   ...\n",
            "   [ 1.61688542e-03 -4.83974740e-02 -1.14937618e-01 ...  4.00126688e-02\n",
            "     5.55807091e-02  6.51912466e-02]\n",
            "   [-7.97595456e-02  7.82727674e-02 -5.17403074e-02 ... -2.27256622e-02\n",
            "    -5.20790815e-02 -7.64023960e-02]\n",
            "   [ 1.04000352e-01  1.43290386e-01  6.10259734e-02 ... -6.54880516e-03\n",
            "    -2.97719147e-02 -1.63156427e-02]]\n",
            "\n",
            "  [[-8.07075351e-02  1.52137987e-02 -8.65118578e-02 ... -2.02648267e-02\n",
            "     3.37907709e-02  1.19697116e-02]\n",
            "   [ 1.03761189e-01  1.10909499e-01 -6.00998662e-02 ...  3.15005220e-02\n",
            "     6.29918873e-02  3.32150497e-02]\n",
            "   [ 1.79623030e-02  4.72777669e-04 -9.79088768e-02 ... -4.49063145e-02\n",
            "     4.38567363e-02  8.24677572e-02]\n",
            "   ...\n",
            "   [-3.28253694e-02  2.42004287e-03  3.90953086e-02 ... -3.98180410e-02\n",
            "     6.24069050e-02  8.43269080e-02]\n",
            "   [ 8.12368840e-03  5.04449643e-02 -6.96606189e-02 ... -4.52891700e-02\n",
            "    -1.55315185e-02 -3.23737413e-02]\n",
            "   [-3.87880355e-02  1.52656808e-01  4.71526235e-02 ...  1.28354311e-01\n",
            "     1.54226404e-02  6.86658025e-02]]]\n",
            "\n",
            "\n",
            " [[[-4.79428843e-02  6.43667057e-02 -9.67853665e-02 ...  3.63563001e-02\n",
            "    -4.84878272e-02  1.97962299e-02]\n",
            "   [ 1.62408426e-01  3.67743671e-02 -3.74022834e-02 ... -3.61177921e-02\n",
            "    -2.17296295e-02  5.58051765e-02]\n",
            "   [ 7.20680654e-02  4.47056256e-02 -7.60107040e-02 ... -2.30810959e-02\n",
            "    -3.37447114e-02 -4.82898615e-02]\n",
            "   ...\n",
            "   [ 6.87124059e-02 -1.24802878e-02 -8.12024027e-02 ...  2.55466737e-02\n",
            "     2.47894675e-02  1.51406527e-01]\n",
            "   [-5.04275113e-02 -8.81433040e-02 -4.28298414e-02 ... -2.15217210e-02\n",
            "    -1.91519670e-02 -6.78892108e-03]\n",
            "   [ 1.17047086e-01  1.65646762e-01  4.11985517e-02 ... -7.17872148e-03\n",
            "    -4.52944264e-02 -3.45143303e-02]]\n",
            "\n",
            "  [[ 5.79102524e-02 -9.21949279e-03  4.20778766e-02 ... -2.28594150e-02\n",
            "    -7.97542557e-03 -8.46000621e-04]\n",
            "   [ 6.99111521e-02 -4.90950141e-03  4.54831533e-02 ... -2.24674400e-02\n",
            "    -1.32100778e-02  6.78789988e-02]\n",
            "   [-8.05335566e-02  6.46496490e-02 -4.71469387e-02 ...  1.22593236e-04\n",
            "    -8.33507180e-02 -1.18161319e-02]\n",
            "   ...\n",
            "   [ 1.90463159e-02  3.01191136e-02 -1.90642662e-02 ... -7.12772980e-02\n",
            "    -7.16802329e-02  1.48215115e-01]\n",
            "   [-7.33933896e-02  2.75755804e-02  1.28234606e-02 ... -2.77700331e-02\n",
            "    -5.82289174e-02  3.13869417e-02]\n",
            "   [ 6.62152842e-02 -5.53221889e-02 -1.06780995e-02 ...  2.89519820e-02\n",
            "    -9.50615034e-02  9.60191339e-02]]\n",
            "\n",
            "  [[-6.90195858e-02 -3.85399833e-02  2.46488284e-02 ...  8.36654827e-02\n",
            "     4.36550640e-02  3.75052951e-02]\n",
            "   [ 1.68163367e-02 -1.44885764e-01 -5.89717589e-02 ... -2.75880806e-02\n",
            "    -8.48862436e-03  6.01319447e-02]\n",
            "   [ 7.41867814e-03 -2.85755321e-02 -7.24723712e-02 ... -5.34629449e-02\n",
            "     6.78321347e-02  7.78887719e-02]\n",
            "   ...\n",
            "   [-3.21089267e-03  1.35175940e-02 -8.94429907e-02 ... -9.67220590e-02\n",
            "    -8.87373537e-02  1.40925989e-01]\n",
            "   [-1.28693087e-02  8.60194564e-02  4.77196686e-02 ... -4.46089320e-02\n",
            "    -5.91051020e-02 -7.73722157e-02]\n",
            "   [ 7.96479210e-02  6.40940759e-03  2.11133696e-02 ...  3.50923315e-02\n",
            "    -8.62587318e-02 -5.03886398e-03]]]\n",
            "\n",
            "\n",
            " [[[ 1.23902531e-02 -6.20206147e-02 -1.40441991e-02 ... -6.26048967e-02\n",
            "    -8.91003832e-02 -9.95888263e-02]\n",
            "   [ 2.39498075e-02 -5.51360920e-02 -3.50451283e-02 ... -1.16043687e-02\n",
            "    -1.00940261e-02  2.60915887e-02]\n",
            "   [-2.15122271e-02  7.86176044e-03 -5.19634448e-02 ...  1.69024896e-02\n",
            "     2.90410593e-03 -6.04083389e-02]\n",
            "   ...\n",
            "   [-6.08818093e-03 -1.33984955e-02 -6.79358989e-02 ... -1.49428649e-02\n",
            "    -8.11985731e-02 -5.46751134e-02]\n",
            "   [-6.03746483e-03 -1.10140309e-01 -4.20597568e-02 ... -8.62152949e-02\n",
            "     4.31795679e-02 -1.41845003e-01]\n",
            "   [ 1.32946566e-01 -6.61644563e-02 -9.61612463e-02 ...  1.35662988e-01\n",
            "    -7.04783499e-02  1.69283722e-03]]\n",
            "\n",
            "  [[ 7.45040625e-02 -3.48515692e-03 -9.63542834e-02 ... -2.64489688e-02\n",
            "    -7.69307762e-02  3.27895097e-02]\n",
            "   [ 6.17737062e-02 -8.65582526e-02  3.42752188e-02 ...  5.40433191e-02\n",
            "    -4.55240682e-02  1.05681665e-01]\n",
            "   [ 1.28642581e-02 -1.23198852e-02 -1.14973299e-01 ... -5.44865578e-02\n",
            "    -4.89740074e-02 -2.77590826e-02]\n",
            "   ...\n",
            "   [ 1.74474008e-02  5.14985248e-02 -6.42695650e-03 ... -5.28126881e-02\n",
            "    -4.84053306e-02 -4.98404019e-02]\n",
            "   [-1.08846743e-02 -4.03682813e-02 -4.77171913e-02 ...  6.52208254e-02\n",
            "    -1.94858517e-02 -1.77949503e-01]\n",
            "   [ 3.68717983e-02 -8.15604180e-02  1.82798393e-02 ...  2.78181992e-02\n",
            "     1.06426617e-02  6.26541153e-02]]\n",
            "\n",
            "  [[-1.62742147e-03  3.09125171e-03  3.30443010e-02 ... -6.47854283e-02\n",
            "    -1.02597430e-01 -1.07004531e-01]\n",
            "   [ 1.09719954e-01 -2.48170346e-01  5.93598001e-02 ...  2.01418884e-02\n",
            "    -9.02331024e-02  5.08586541e-02]\n",
            "   [-1.91869726e-03 -2.58051865e-02 -5.05987667e-02 ...  3.24400179e-02\n",
            "     4.73364629e-02 -3.32883932e-02]\n",
            "   ...\n",
            "   [-2.08846312e-02  9.64722857e-02  5.46259619e-02 ...  1.08739557e-02\n",
            "     5.58432611e-03 -1.05175450e-01]\n",
            "   [ 9.18318110e-04  2.53333896e-03 -8.52658879e-03 ... -5.55030070e-02\n",
            "    -4.83469479e-02 -1.33967251e-01]\n",
            "   [ 9.99789312e-02 -1.57448784e-01  4.74024042e-02 ... -3.36462408e-02\n",
            "    -9.49265659e-02  5.37672341e-02]]]]>, <Variable path=sequential_1/conv2d_4/bias, shape=(64,), dtype=float32, value=[-0.0027632  -0.06033896 -0.03138547  0.030118   -0.0432533  -0.0255313\n",
            "  0.00534559  0.0373528   0.0476829   0.01860205  0.05084565  0.04388815\n",
            " -0.02933799 -0.04733788  0.0465826  -0.02618908  0.08186166  0.01031006\n",
            "  0.05108594 -0.01342285 -0.04773761 -0.03251506  0.06403209 -0.03783988\n",
            " -0.05170789  0.02443311 -0.04429606 -0.01316607  0.02992018 -0.02270319\n",
            "  0.01066268 -0.02864745 -0.04882732 -0.02579656 -0.0449989   0.04808385\n",
            " -0.01639755 -0.03161804  0.00367131  0.0525627  -0.01250383 -0.07474891\n",
            " -0.04688853 -0.05409042 -0.01308027  0.00702085 -0.03608012  0.02845235\n",
            " -0.03649991 -0.0285837  -0.00024565 -0.00189662  0.02583257  0.04654452\n",
            "  0.00214382 -0.03952838 -0.03575529 -0.10042507 -0.03811966 -0.02721532\n",
            "  0.03148661  0.01219603 -0.01769537  0.00955095]>, <Variable path=sequential_1/conv2d_5/kernel, shape=(3, 3, 64, 64), dtype=float32, value=[[[[ 0.02554239  0.03969197 -0.04920147 ... -0.10159547  0.09638958\n",
            "     0.0618947 ]\n",
            "   [-0.08963791 -0.0134596  -0.03812793 ...  0.09561669 -0.06908094\n",
            "    -0.02489934]\n",
            "   [-0.00668466  0.03612376 -0.06450284 ...  0.01955723 -0.01774112\n",
            "     0.003355  ]\n",
            "   ...\n",
            "   [ 0.05818971 -0.04617552 -0.06764012 ... -0.07051618  0.09237754\n",
            "     0.01073303]\n",
            "   [ 0.03727519 -0.00289122  0.01038448 ...  0.00184475 -0.05603036\n",
            "     0.07413776]\n",
            "   [-0.06670193 -0.04597659 -0.00778581 ...  0.09094151 -0.04435943\n",
            "     0.04959711]]\n",
            "\n",
            "  [[-0.08105916  0.06556807 -0.01278119 ... -0.01719734  0.0102822\n",
            "     0.00628527]\n",
            "   [ 0.02693517 -0.07643052  0.01572149 ...  0.0774419  -0.12149113\n",
            "     0.05236342]\n",
            "   [-0.06896632 -0.02443146  0.06534821 ...  0.03229399  0.05385672\n",
            "     0.01540423]\n",
            "   ...\n",
            "   [ 0.05794636  0.0067145  -0.11248159 ... -0.00175995  0.11039475\n",
            "     0.08210613]\n",
            "   [-0.045252   -0.00652619  0.0649408  ... -0.00214712  0.0312212\n",
            "     0.05711598]\n",
            "   [ 0.00356926 -0.03693985  0.02958373 ...  0.0521132  -0.10002501\n",
            "     0.00901518]]\n",
            "\n",
            "  [[ 0.04791463  0.07863913 -0.05424878 ...  0.04669672  0.05543693\n",
            "     0.01417811]\n",
            "   [-0.01476948 -0.07990241  0.03780431 ...  0.0338842  -0.03528\n",
            "     0.04488292]\n",
            "   [ 0.03563669  0.03188378 -0.07241326 ...  0.02654834 -0.00439266\n",
            "    -0.01348723]\n",
            "   ...\n",
            "   [ 0.01803234 -0.0020302  -0.07566123 ...  0.05409586 -0.04392546\n",
            "    -0.01968908]\n",
            "   [-0.0382894  -0.00031668  0.04280441 ... -0.00760808  0.05738889\n",
            "    -0.03642124]\n",
            "   [-0.03841472  0.04081163 -0.08271939 ...  0.06222177 -0.00242621\n",
            "    -0.16411175]]]\n",
            "\n",
            "\n",
            " [[[ 0.02016175  0.04354684  0.06616489 ... -0.16968906 -0.02454666\n",
            "     0.04436312]\n",
            "   [-0.08289594 -0.06082999  0.05056535 ...  0.02002835 -0.05653936\n",
            "     0.07077217]\n",
            "   [-0.05197061  0.01464061  0.05664665 ...  0.02668586  0.01273297\n",
            "     0.02730649]\n",
            "   ...\n",
            "   [-0.0011877  -0.04139094 -0.08612755 ... -0.02449194  0.100665\n",
            "    -0.03079639]\n",
            "   [ 0.01919226  0.0608694   0.02505869 ...  0.04757387  0.05992324\n",
            "     0.0421921 ]\n",
            "   [-0.10489858 -0.0897864  -0.17769296 ...  0.07606228 -0.09786374\n",
            "     0.10938868]]\n",
            "\n",
            "  [[-0.04704186  0.07681323  0.08107103 ... -0.13929859  0.03497177\n",
            "    -0.05930285]\n",
            "   [-0.0259428   0.03482086  0.00047807 ... -0.06388374  0.02020166\n",
            "    -0.02397396]\n",
            "   [ 0.01640635  0.04206041 -0.03769622 ...  0.04793804  0.06629266\n",
            "    -0.04147835]\n",
            "   ...\n",
            "   [-0.02698278  0.0414271  -0.1040135  ... -0.01582076  0.07424115\n",
            "    -0.11136991]\n",
            "   [-0.04301027  0.07262363 -0.05467153 ...  0.01684831 -0.00730107\n",
            "     0.00046804]\n",
            "   [-0.0892556  -0.04360025 -0.12912007 ...  0.08188739 -0.10183544\n",
            "     0.03089082]]\n",
            "\n",
            "  [[-0.05516287  0.09649484  0.03925534 ... -0.11732279 -0.03510353\n",
            "    -0.10763706]\n",
            "   [-0.05778077  0.01462062  0.07026987 ... -0.09003531  0.01630255\n",
            "    -0.064099  ]\n",
            "   [ 0.03429699  0.03437926  0.05132164 ...  0.02746188 -0.05982086\n",
            "    -0.04355904]\n",
            "   ...\n",
            "   [-0.04302169 -0.0893975   0.0006482  ... -0.06994302  0.06856649\n",
            "    -0.09065107]\n",
            "   [-0.0360224  -0.01620559  0.03324457 ...  0.04301444 -0.01525132\n",
            "    -0.0368929 ]\n",
            "   [-0.07916874 -0.01333989 -0.0986522  ...  0.04752719 -0.0515266\n",
            "     0.07913827]]]\n",
            "\n",
            "\n",
            " [[[-0.05044031 -0.08308042  0.09502561 ... -0.12143788 -0.02803166\n",
            "    -0.01935046]\n",
            "   [-0.06287648 -0.00254342  0.04533449 ... -0.10094921 -0.01289392\n",
            "    -0.02200302]\n",
            "   [-0.06528951  0.04604366 -0.01898811 ... -0.05384964 -0.00899193\n",
            "    -0.02055919]\n",
            "   ...\n",
            "   [-0.0496706  -0.03148516 -0.02663662 ...  0.04095589  0.17564724\n",
            "    -0.03479828]\n",
            "   [ 0.01594627 -0.04116122 -0.057256   ... -0.01746356 -0.01645555\n",
            "     0.01414254]\n",
            "   [ 0.03507191 -0.14125963  0.08187631 ... -0.06971404  0.0422461\n",
            "     0.10935467]]\n",
            "\n",
            "  [[ 0.02938656  0.14221737  0.09487796 ... -0.11786313 -0.05966744\n",
            "    -0.10860068]\n",
            "   [-0.03036411 -0.06045144  0.02290235 ... -0.0510355   0.00069988\n",
            "    -0.09039073]\n",
            "   [-0.04436747  0.05325827 -0.02745578 ... -0.04459178 -0.00434712\n",
            "    -0.05812589]\n",
            "   ...\n",
            "   [-0.01996292  0.02341804 -0.06246597 ...  0.06246364  0.10541593\n",
            "    -0.09938829]\n",
            "   [ 0.01453334 -0.00928     0.04488645 ...  0.04279169  0.08022778\n",
            "    -0.04309355]\n",
            "   [-0.09637819  0.02221326  0.11270075 ... -0.09374639 -0.10470835\n",
            "    -0.01947153]]\n",
            "\n",
            "  [[-0.00220682  0.12947232  0.11726092 ... -0.09729758 -0.05578909\n",
            "    -0.00837455]\n",
            "   [ 0.01453441  0.01328298  0.07205608 ... -0.0551844   0.0730473\n",
            "    -0.0213125 ]\n",
            "   [-0.00240792 -0.06981874  0.05753715 ...  0.0620133   0.04385703\n",
            "     0.05919875]\n",
            "   ...\n",
            "   [ 0.00652558 -0.06386076  0.02600894 ...  0.08650351  0.00434609\n",
            "    -0.03558934]\n",
            "   [ 0.04683576  0.00040522  0.02097097 ...  0.01746692 -0.04267151\n",
            "    -0.04182799]\n",
            "   [ 0.01786035 -0.10329274  0.04773473 ... -0.13553606 -0.01155196\n",
            "    -0.05147654]]]]>, <Variable path=sequential_1/conv2d_5/bias, shape=(64,), dtype=float32, value=[-0.04049269  0.01954801  0.00134173  0.05307145  0.00621113 -0.02549035\n",
            "  0.00517281 -0.06189573  0.12330866  0.03312771 -0.04380701 -0.01056108\n",
            "  0.00669321 -0.02968694 -0.03069959 -0.04269796 -0.04549136  0.00763847\n",
            " -0.02669958  0.1029805   0.00362768  0.00099237 -0.02557564  0.01508461\n",
            "  0.00598583  0.03569354 -0.02333656 -0.03215126  0.04786129  0.01345128\n",
            "  0.0783584   0.02280653  0.01191457 -0.01708706 -0.0064771   0.07760499\n",
            "  0.02531773 -0.02463577 -0.07831826 -0.02531403  0.02486774 -0.03588942\n",
            "  0.0232001  -0.01160805 -0.02337796  0.03359794 -0.04228692 -0.01284657\n",
            "  0.11667803 -0.00155751  0.07301641  0.05752903 -0.00610155 -0.03876624\n",
            "  0.076712   -0.02290622  0.02820671  0.20169428  0.03625725 -0.02932921\n",
            "  0.03933346 -0.00571285  0.10514612  0.06963399]>, <Variable path=sequential_1/dense_2/kernel, shape=(1024, 64), dtype=float32, value=[[ 0.04605326  0.00412268  0.00876115 ... -0.08063564 -0.0080538\n",
            "  -0.0439313 ]\n",
            " [-0.0838457  -0.05883542  0.03633505 ... -0.06210312 -0.00105041\n",
            "   0.08851867]\n",
            " [-0.07290792 -0.008116    0.00728722 ... -0.038056   -0.01866827\n",
            "  -0.02541008]\n",
            " ...\n",
            " [ 0.05199599  0.015278    0.04483609 ...  0.02172125  0.00551464\n",
            "   0.03103473]\n",
            " [ 0.05969939 -0.04997439 -0.07073251 ...  0.07771781 -0.03756763\n",
            "   0.05625568]\n",
            " [-0.03384792 -0.0286274   0.00053371 ... -0.01905793  0.01902668\n",
            "   0.03728342]]>, <Variable path=sequential_1/dense_2/bias, shape=(64,), dtype=float32, value=[ 0.0585009  -0.01369901 -0.01796451  0.08770925 -0.04346809 -0.00965431\n",
            " -0.00699245 -0.00620032 -0.0062983  -0.00731668 -0.01429625 -0.02687563\n",
            " -0.07390314 -0.01178739 -0.0097064   0.00572479  0.00970183  0.00478463\n",
            "  0.08356103 -0.02800447  0.01051309 -0.00792278  0.0266201  -0.00305957\n",
            "  0.03373184 -0.01510298 -0.01688556 -0.01150152  0.03694716  0.05068182\n",
            "  0.02860353 -0.03579773 -0.02755206 -0.06450343 -0.01127229  0.07149539\n",
            "  0.03736182  0.02988467  0.10111218  0.00955918 -0.01069268 -0.05763282\n",
            " -0.00961339 -0.00904869 -0.0194162  -0.00686736 -0.00841694  0.03897338\n",
            " -0.00880574 -0.00678862  0.10011469 -0.02689679  0.07997503 -0.02077597\n",
            " -0.00290889 -0.01749535 -0.04442484 -0.01181647 -0.01087861 -0.03347559\n",
            " -0.01379292  0.02636499 -0.01396889 -0.02532087]>, <Variable path=sequential_1/dense_3/kernel, shape=(64, 10), dtype=float32, value=[[-0.11100519 -0.03690919  0.18793823 -0.05366341  0.24196523  0.0187781\n",
            "  -0.10751222 -0.26836365  0.06630873 -0.03400032]\n",
            " [ 0.14560641 -0.03313243  0.03338539 -0.1678155   0.17475635 -0.05654351\n",
            "  -0.24947187  0.02323871 -0.27394387 -0.13572696]\n",
            " [-0.22474314 -0.29062515 -0.2502295  -0.0728629   0.2093549   0.10087354\n",
            "   0.1283993   0.06211699  0.04643852  0.1530666 ]\n",
            " [-0.29839715 -0.21968842  0.13682103  0.16602443 -0.17172544  0.03009937\n",
            "   0.24899642 -0.21782649  0.23249255  0.01829449]\n",
            " [ 0.2646407   0.24783012  0.05545564 -0.12088381 -0.1327988   0.15258555\n",
            "  -0.15907592 -0.04628612  0.02209173 -0.11805928]\n",
            " [-0.20526603 -0.19014274 -0.18456936  0.20079182  0.20080599  0.15577373\n",
            "  -0.10450602  0.18715039  0.20790406 -0.16098982]\n",
            " [ 0.12428204 -0.23487607 -0.14657024 -0.00852458 -0.14071137  0.07248042\n",
            "   0.2169302   0.27460745  0.055936   -0.07706902]\n",
            " [ 0.24120864 -0.25099882  0.14941089 -0.2510243   0.27027127  0.04862936\n",
            "  -0.04023858  0.27274132 -0.1577214   0.13474166]\n",
            " [ 0.28956947  0.21285158  0.11564393 -0.20475547 -0.21967784  0.1041526\n",
            "   0.2881269   0.04448199 -0.19769679 -0.14512524]\n",
            " [ 0.0958693  -0.3113405  -0.18137771  0.22495815  0.02863692 -0.23301268\n",
            "  -0.08467612 -0.04366627  0.05381134 -0.15437682]\n",
            " [ 0.06510572 -0.0542396  -0.26179257  0.14444596  0.00154534 -0.02425152\n",
            "  -0.1522669   0.04079923 -0.09407903  0.25789046]\n",
            " [ 0.23981613 -0.20066565 -0.26036245  0.01933898 -0.17159769 -0.12012969\n",
            "   0.34012604  0.13698222 -0.27748296  0.2568623 ]\n",
            " [ 0.2798394  -0.02737542  0.13657779  0.23678245 -0.17018336  0.15184496\n",
            "  -0.02224878  0.12425062 -0.05431148  0.05032619]\n",
            " [-0.08250657  0.24684381  0.04144981  0.04095668  0.2176879   0.03969983\n",
            "   0.19357495 -0.17493176 -0.09495331 -0.00331907]\n",
            " [ 0.00803518 -0.10533414  0.20904279 -0.00698524 -0.14235404 -0.1850942\n",
            "  -0.09519893  0.06422361  0.23182388 -0.20758078]\n",
            " [-0.07495681  0.20375696  0.01965251 -0.19861962 -0.14237952  0.11972189\n",
            "  -0.04160458 -0.02975055  0.29570952  0.2737438 ]\n",
            " [-0.17853414 -0.19245586  0.01494037  0.06657253  0.13575919 -0.18768588\n",
            "   0.04614107  0.17723359 -0.11016024  0.02921823]\n",
            " [-0.10338485  0.20672682 -0.18763357  0.11118516  0.15703326  0.23790875\n",
            "   0.22754526  0.15611888  0.03462999  0.21277563]\n",
            " [ 0.10574813 -0.21301061  0.287813   -0.04711322  0.25520822  0.10971887\n",
            "  -0.11177273 -0.27658102 -0.00714353 -0.26319185]\n",
            " [ 0.05120091 -0.25318924 -0.217325   -0.22481623  0.06724235 -0.08380184\n",
            "  -0.06884253 -0.18743911  0.22301291  0.16469155]\n",
            " [-0.21600159 -0.21247934  0.18833402  0.10507773  0.14650074 -0.13852103\n",
            "  -0.23661391  0.2951796  -0.21918063  0.04859201]\n",
            " [-0.01048626 -0.12489001 -0.15186079  0.2569013   0.22722274 -0.09051255\n",
            "  -0.13240056 -0.265156   -0.13175917 -0.05915014]\n",
            " [-0.18250008 -0.00801551  0.17995676 -0.12039831  0.05658424 -0.18010803\n",
            "  -0.03345463 -0.09269115 -0.3172827   0.12596214]\n",
            " [-0.11095161 -0.2809536   0.05307401 -0.07502691  0.19628178  0.08761745\n",
            "   0.15114997 -0.08012907  0.06401648  0.1766151 ]\n",
            " [-0.06834097  0.10811134 -0.05558204 -0.05825885  0.06135286 -0.24753144\n",
            "  -0.18229267  0.15013999  0.23017053  0.12645105]\n",
            " [ 0.21570455 -0.05658049 -0.06473372  0.27314603  0.03021988 -0.14778776\n",
            "   0.09102569  0.23047404  0.16068347 -0.23845099]\n",
            " [-0.1941475  -0.09621647 -0.21951401  0.12583515  0.0563701  -0.13842323\n",
            "  -0.12208775  0.21065637 -0.27516863  0.02601057]\n",
            " [ 0.11212409 -0.15667564 -0.16607691  0.1928576   0.03276001  0.06446034\n",
            "  -0.04110141 -0.0453594  -0.1679805  -0.08039501]\n",
            " [-0.27433765 -0.01766882  0.06694472  0.21805009  0.03289682  0.3228664\n",
            "  -0.01566846 -0.10759415 -0.3456011  -0.15402031]\n",
            " [ 0.26521063 -0.06419895  0.13519289  0.10773785  0.199347   -0.24745478\n",
            "   0.00115643 -0.03962999  0.31677416 -0.02384212]\n",
            " [ 0.03653174 -0.20476428  0.1838635  -0.23692334 -0.03677536 -0.02843278\n",
            "  -0.01448655 -0.10645763  0.21352486  0.11444042]\n",
            " [ 0.16080916  0.19223845  0.06641398  0.01506356 -0.05079791  0.07583857\n",
            "  -0.28767863 -0.19595584 -0.03012376  0.07727748]\n",
            " [-0.07362104 -0.08342308 -0.24992354  0.03341133 -0.21967147  0.17751692\n",
            "  -0.12057003  0.17261721 -0.24795873  0.26293132]\n",
            " [-0.04599838  0.17596638 -0.12476756 -0.07200813 -0.11940085 -0.12626356\n",
            "  -0.22221497  0.23164798 -0.208214    0.26314738]\n",
            " [-0.05143897  0.21773726  0.22462189  0.18047878  0.10506901  0.0030402\n",
            "  -0.13241747 -0.24649262  0.1948613  -0.06513221]\n",
            " [-0.28038177 -0.29788312 -0.09866847  0.23174721  0.18117727  0.2568175\n",
            "   0.12985702  0.08953313 -0.2545966  -0.31853706]\n",
            " [-0.03368406  0.11432625 -0.2828028   0.07064564 -0.07579271  0.0515938\n",
            "  -0.23438303  0.06445982  0.35204244  0.15736055]\n",
            " [ 0.253074    0.04631982  0.24356161 -0.1403413   0.22553442 -0.12264096\n",
            "  -0.00890075  0.1947393  -0.01415575 -0.26498035]\n",
            " [ 0.0596576  -0.31259242 -0.14234139  0.24667259 -0.0613947  -0.11926874\n",
            "   0.18276188 -0.27351895  0.32013687 -0.2418485 ]\n",
            " [-0.11419586 -0.18089841  0.2913119   0.1686542  -0.15687759 -0.02164338\n",
            "   0.200993    0.05040209 -0.31980202 -0.25728822]\n",
            " [ 0.22633362 -0.09015615 -0.2608665  -0.11496755 -0.15957806 -0.32364026\n",
            "  -0.2717667   0.11279377 -0.27484676 -0.13379341]\n",
            " [ 0.24036863 -0.2333041   0.08482831 -0.01230458 -0.0692632   0.22988972\n",
            "  -0.16696931  0.15061289 -0.02210477  0.20637289]\n",
            " [ 0.00247931  0.06652879 -0.06591377 -0.11591319 -0.11624713  0.158746\n",
            "   0.12144411 -0.11323034  0.18111241 -0.26398095]\n",
            " [ 0.04898845 -0.25145116  0.21673013  0.07322281  0.09944271  0.11831399\n",
            "  -0.00120464  0.22586934  0.09196007  0.08695509]\n",
            " [-0.19113885 -0.05671696  0.18807136  0.18453644 -0.09075263 -0.01953194\n",
            "   0.12856522  0.02660092  0.11058635  0.0176223 ]\n",
            " [-0.08942389  0.02038167 -0.23997411 -0.28665924 -0.2554928  -0.22603346\n",
            "   0.19290875 -0.25473082 -0.26197335  0.08041061]\n",
            " [-0.15659371 -0.18919909  0.23605707  0.1038897   0.01336299 -0.08504362\n",
            "  -0.15530036  0.03597238  0.24109395 -0.16839328]\n",
            " [-0.12310699  0.09995316 -0.1513626   0.05059566 -0.05201109 -0.24306089\n",
            "  -0.09112769 -0.16459228  0.03182221  0.16736816]\n",
            " [-0.15734506 -0.11169417  0.22561139 -0.18919936  0.27242935  0.06204764\n",
            "   0.16043398 -0.07036006  0.1670665   0.02606046]\n",
            " [-0.1378157  -0.00501531 -0.06459231 -0.06186291  0.2230632   0.00994843\n",
            "   0.24234046 -0.04921754  0.21843182 -0.17083894]\n",
            " [-0.00731989 -0.27584055  0.16056204  0.03871292  0.04081274  0.09653766\n",
            "  -0.00520544 -0.24745429  0.2428353  -0.0005634 ]\n",
            " [-0.04897358 -0.00056954 -0.25353494 -0.20805718 -0.2112471   0.08098688\n",
            "   0.21739735  0.05991173 -0.11217567 -0.06157355]\n",
            " [ 0.17873457  0.11021567 -0.07473685 -0.06488217  0.2685783  -0.13680868\n",
            "   0.17484753 -0.04291068  0.02878035 -0.19864804]\n",
            " [ 0.18831734  0.20122361  0.14026573 -0.02168052 -0.13772464 -0.2614915\n",
            "  -0.18455847 -0.32260203 -0.08221304 -0.02845321]\n",
            " [-0.20335758 -0.14223303 -0.1436629   0.05946066  0.12036259  0.1411051\n",
            "  -0.39068305  0.29292744 -0.11060034 -0.22027777]\n",
            " [-0.20398875 -0.00515227  0.19147582  0.15638928  0.06838642 -0.22088651\n",
            "  -0.19912572 -0.29078823  0.2235934  -0.05872636]\n",
            " [ 0.02878795 -0.20530005  0.19579911 -0.26188755 -0.21617256  0.04369505\n",
            "  -0.31871724  0.20192662 -0.01290378 -0.19229434]\n",
            " [-0.0852312   0.16779184  0.16906403 -0.17170314  0.06118268 -0.21489209\n",
            "   0.15988302  0.2087376  -0.21120307  0.00675847]\n",
            " [-0.13974558  0.01612096  0.10402991 -0.2051808  -0.12481418  0.07087298\n",
            "   0.24576272  0.10297752  0.03485275  0.05796305]\n",
            " [-0.15946755  0.3254921  -0.05671481  0.08794491 -0.17582081  0.1256053\n",
            "   0.00857359 -0.17822243 -0.22605884  0.07341603]\n",
            " [ 0.00930263  0.25017953 -0.10228069  0.01294478 -0.22890615  0.21647441\n",
            "   0.1886821  -0.0838586   0.03081571 -0.04364299]\n",
            " [-0.25706708  0.2045093  -0.13612853 -0.15107086 -0.01158656 -0.28183714\n",
            "   0.36470792  0.14289789 -0.35814402 -0.2680524 ]\n",
            " [-0.01942203 -0.2524481   0.1967695   0.09831485 -0.17544238 -0.18229821\n",
            "   0.06451748  0.00275684 -0.11379668 -0.02146676]\n",
            " [ 0.29146308  0.29245147 -0.09315763 -0.11617375  0.0061389  -0.12763451\n",
            "  -0.18012078 -0.10693458  0.12840065  0.1339886 ]]>, <Variable path=sequential_1/dense_3/bias, shape=(10,), dtype=float32, value=[-0.05102533 -0.03317304  0.01626388  0.00866179  0.09604022 -0.03808346\n",
            "  0.05987858 -0.09561944  0.05830072 -0.04415364]>]\n",
            "\u001b[1m1563/1563\u001b[0m \u001b[32m━━━━━━━━━━━━━━━━━━━━\u001b[0m\u001b[37m\u001b[0m \u001b[1m100s\u001b[0m 62ms/step - accuracy: 0.3693 - loss: 1.7076 - val_accuracy: 0.5789 - val_loss: 1.1764\n",
            "Epoch 2/10\n",
            "\u001b[1m 606/1563\u001b[0m \u001b[32m━━━━━━━\u001b[0m\u001b[37m━━━━━━━━━━━━━\u001b[0m \u001b[1m59s\u001b[0m 62ms/step - accuracy: 0.5956 - loss: 1.1283"
          ]
        },
        {
          "output_type": "error",
          "ename": "KeyboardInterrupt",
          "evalue": "",
          "traceback": [
            "\u001b[0;31m---------------------------------------------------------------------------\u001b[0m",
            "\u001b[0;31mKeyboardInterrupt\u001b[0m                         Traceback (most recent call last)",
            "\u001b[0;32m<ipython-input-78-55e2d79be8ed>\u001b[0m in \u001b[0;36m<cell line: 0>\u001b[0;34m()\u001b[0m\n\u001b[1;32m      6\u001b[0m \u001b[0mtrain_tic\u001b[0m \u001b[0;34m=\u001b[0m \u001b[0mtimeit\u001b[0m\u001b[0;34m.\u001b[0m\u001b[0mdefault_timer\u001b[0m\u001b[0;34m(\u001b[0m\u001b[0;34m)\u001b[0m\u001b[0;34m\u001b[0m\u001b[0;34m\u001b[0m\u001b[0m\n\u001b[1;32m      7\u001b[0m \u001b[0;34m\u001b[0m\u001b[0m\n\u001b[0;32m----> 8\u001b[0;31m history = model_0.fit(\n\u001b[0m\u001b[1;32m      9\u001b[0m     \u001b[0mx_train\u001b[0m\u001b[0;34m,\u001b[0m \u001b[0my_train\u001b[0m\u001b[0;34m,\u001b[0m\u001b[0;34m\u001b[0m\u001b[0;34m\u001b[0m\u001b[0m\n\u001b[1;32m     10\u001b[0m     \u001b[0mepochs\u001b[0m\u001b[0;34m=\u001b[0m\u001b[0mn_epochs\u001b[0m\u001b[0;34m,\u001b[0m\u001b[0;34m\u001b[0m\u001b[0;34m\u001b[0m\u001b[0m\n",
            "\u001b[0;32m/usr/local/lib/python3.11/dist-packages/keras/src/utils/traceback_utils.py\u001b[0m in \u001b[0;36merror_handler\u001b[0;34m(*args, **kwargs)\u001b[0m\n\u001b[1;32m    115\u001b[0m         \u001b[0mfiltered_tb\u001b[0m \u001b[0;34m=\u001b[0m \u001b[0;32mNone\u001b[0m\u001b[0;34m\u001b[0m\u001b[0;34m\u001b[0m\u001b[0m\n\u001b[1;32m    116\u001b[0m         \u001b[0;32mtry\u001b[0m\u001b[0;34m:\u001b[0m\u001b[0;34m\u001b[0m\u001b[0;34m\u001b[0m\u001b[0m\n\u001b[0;32m--> 117\u001b[0;31m             \u001b[0;32mreturn\u001b[0m \u001b[0mfn\u001b[0m\u001b[0;34m(\u001b[0m\u001b[0;34m*\u001b[0m\u001b[0margs\u001b[0m\u001b[0;34m,\u001b[0m \u001b[0;34m**\u001b[0m\u001b[0mkwargs\u001b[0m\u001b[0;34m)\u001b[0m\u001b[0;34m\u001b[0m\u001b[0;34m\u001b[0m\u001b[0m\n\u001b[0m\u001b[1;32m    118\u001b[0m         \u001b[0;32mexcept\u001b[0m \u001b[0mException\u001b[0m \u001b[0;32mas\u001b[0m \u001b[0me\u001b[0m\u001b[0;34m:\u001b[0m\u001b[0;34m\u001b[0m\u001b[0;34m\u001b[0m\u001b[0m\n\u001b[1;32m    119\u001b[0m             \u001b[0mfiltered_tb\u001b[0m \u001b[0;34m=\u001b[0m \u001b[0m_process_traceback_frames\u001b[0m\u001b[0;34m(\u001b[0m\u001b[0me\u001b[0m\u001b[0;34m.\u001b[0m\u001b[0m__traceback__\u001b[0m\u001b[0;34m)\u001b[0m\u001b[0;34m\u001b[0m\u001b[0;34m\u001b[0m\u001b[0m\n",
            "\u001b[0;32m/usr/local/lib/python3.11/dist-packages/keras/src/backend/tensorflow/trainer.py\u001b[0m in \u001b[0;36mfit\u001b[0;34m(self, x, y, batch_size, epochs, verbose, callbacks, validation_split, validation_data, shuffle, class_weight, sample_weight, initial_epoch, steps_per_epoch, validation_steps, validation_batch_size, validation_freq)\u001b[0m\n\u001b[1;32m    369\u001b[0m                 \u001b[0;32mfor\u001b[0m \u001b[0mstep\u001b[0m\u001b[0;34m,\u001b[0m \u001b[0miterator\u001b[0m \u001b[0;32min\u001b[0m \u001b[0mepoch_iterator\u001b[0m\u001b[0;34m:\u001b[0m\u001b[0;34m\u001b[0m\u001b[0;34m\u001b[0m\u001b[0m\n\u001b[1;32m    370\u001b[0m                     \u001b[0mcallbacks\u001b[0m\u001b[0;34m.\u001b[0m\u001b[0mon_train_batch_begin\u001b[0m\u001b[0;34m(\u001b[0m\u001b[0mstep\u001b[0m\u001b[0;34m)\u001b[0m\u001b[0;34m\u001b[0m\u001b[0;34m\u001b[0m\u001b[0m\n\u001b[0;32m--> 371\u001b[0;31m                     \u001b[0mlogs\u001b[0m \u001b[0;34m=\u001b[0m \u001b[0mself\u001b[0m\u001b[0;34m.\u001b[0m\u001b[0mtrain_function\u001b[0m\u001b[0;34m(\u001b[0m\u001b[0miterator\u001b[0m\u001b[0;34m)\u001b[0m\u001b[0;34m\u001b[0m\u001b[0;34m\u001b[0m\u001b[0m\n\u001b[0m\u001b[1;32m    372\u001b[0m                     \u001b[0mcallbacks\u001b[0m\u001b[0;34m.\u001b[0m\u001b[0mon_train_batch_end\u001b[0m\u001b[0;34m(\u001b[0m\u001b[0mstep\u001b[0m\u001b[0;34m,\u001b[0m \u001b[0mlogs\u001b[0m\u001b[0;34m)\u001b[0m\u001b[0;34m\u001b[0m\u001b[0;34m\u001b[0m\u001b[0m\n\u001b[1;32m    373\u001b[0m                     \u001b[0;32mif\u001b[0m \u001b[0mself\u001b[0m\u001b[0;34m.\u001b[0m\u001b[0mstop_training\u001b[0m\u001b[0;34m:\u001b[0m\u001b[0;34m\u001b[0m\u001b[0;34m\u001b[0m\u001b[0m\n",
            "\u001b[0;32m/usr/local/lib/python3.11/dist-packages/keras/src/backend/tensorflow/trainer.py\u001b[0m in \u001b[0;36mfunction\u001b[0;34m(iterator)\u001b[0m\n\u001b[1;32m    217\u001b[0m                 \u001b[0miterator\u001b[0m\u001b[0;34m,\u001b[0m \u001b[0;34m(\u001b[0m\u001b[0mtf\u001b[0m\u001b[0;34m.\u001b[0m\u001b[0mdata\u001b[0m\u001b[0;34m.\u001b[0m\u001b[0mIterator\u001b[0m\u001b[0;34m,\u001b[0m \u001b[0mtf\u001b[0m\u001b[0;34m.\u001b[0m\u001b[0mdistribute\u001b[0m\u001b[0;34m.\u001b[0m\u001b[0mDistributedIterator\u001b[0m\u001b[0;34m)\u001b[0m\u001b[0;34m\u001b[0m\u001b[0;34m\u001b[0m\u001b[0m\n\u001b[1;32m    218\u001b[0m             ):\n\u001b[0;32m--> 219\u001b[0;31m                 \u001b[0mopt_outputs\u001b[0m \u001b[0;34m=\u001b[0m \u001b[0mmulti_step_on_iterator\u001b[0m\u001b[0;34m(\u001b[0m\u001b[0miterator\u001b[0m\u001b[0;34m)\u001b[0m\u001b[0;34m\u001b[0m\u001b[0;34m\u001b[0m\u001b[0m\n\u001b[0m\u001b[1;32m    220\u001b[0m                 \u001b[0;32mif\u001b[0m \u001b[0;32mnot\u001b[0m \u001b[0mopt_outputs\u001b[0m\u001b[0;34m.\u001b[0m\u001b[0mhas_value\u001b[0m\u001b[0;34m(\u001b[0m\u001b[0;34m)\u001b[0m\u001b[0;34m:\u001b[0m\u001b[0;34m\u001b[0m\u001b[0;34m\u001b[0m\u001b[0m\n\u001b[1;32m    221\u001b[0m                     \u001b[0;32mraise\u001b[0m \u001b[0mStopIteration\u001b[0m\u001b[0;34m\u001b[0m\u001b[0;34m\u001b[0m\u001b[0m\n",
            "\u001b[0;32m/usr/local/lib/python3.11/dist-packages/tensorflow/python/util/traceback_utils.py\u001b[0m in \u001b[0;36merror_handler\u001b[0;34m(*args, **kwargs)\u001b[0m\n\u001b[1;32m    148\u001b[0m     \u001b[0mfiltered_tb\u001b[0m \u001b[0;34m=\u001b[0m \u001b[0;32mNone\u001b[0m\u001b[0;34m\u001b[0m\u001b[0;34m\u001b[0m\u001b[0m\n\u001b[1;32m    149\u001b[0m     \u001b[0;32mtry\u001b[0m\u001b[0;34m:\u001b[0m\u001b[0;34m\u001b[0m\u001b[0;34m\u001b[0m\u001b[0m\n\u001b[0;32m--> 150\u001b[0;31m       \u001b[0;32mreturn\u001b[0m \u001b[0mfn\u001b[0m\u001b[0;34m(\u001b[0m\u001b[0;34m*\u001b[0m\u001b[0margs\u001b[0m\u001b[0;34m,\u001b[0m \u001b[0;34m**\u001b[0m\u001b[0mkwargs\u001b[0m\u001b[0;34m)\u001b[0m\u001b[0;34m\u001b[0m\u001b[0;34m\u001b[0m\u001b[0m\n\u001b[0m\u001b[1;32m    151\u001b[0m     \u001b[0;32mexcept\u001b[0m \u001b[0mException\u001b[0m \u001b[0;32mas\u001b[0m \u001b[0me\u001b[0m\u001b[0;34m:\u001b[0m\u001b[0;34m\u001b[0m\u001b[0;34m\u001b[0m\u001b[0m\n\u001b[1;32m    152\u001b[0m       \u001b[0mfiltered_tb\u001b[0m \u001b[0;34m=\u001b[0m \u001b[0m_process_traceback_frames\u001b[0m\u001b[0;34m(\u001b[0m\u001b[0me\u001b[0m\u001b[0;34m.\u001b[0m\u001b[0m__traceback__\u001b[0m\u001b[0;34m)\u001b[0m\u001b[0;34m\u001b[0m\u001b[0;34m\u001b[0m\u001b[0m\n",
            "\u001b[0;32m/usr/local/lib/python3.11/dist-packages/tensorflow/python/eager/polymorphic_function/polymorphic_function.py\u001b[0m in \u001b[0;36m__call__\u001b[0;34m(self, *args, **kwds)\u001b[0m\n\u001b[1;32m    831\u001b[0m \u001b[0;34m\u001b[0m\u001b[0m\n\u001b[1;32m    832\u001b[0m       \u001b[0;32mwith\u001b[0m \u001b[0mOptionalXlaContext\u001b[0m\u001b[0;34m(\u001b[0m\u001b[0mself\u001b[0m\u001b[0;34m.\u001b[0m\u001b[0m_jit_compile\u001b[0m\u001b[0;34m)\u001b[0m\u001b[0;34m:\u001b[0m\u001b[0;34m\u001b[0m\u001b[0;34m\u001b[0m\u001b[0m\n\u001b[0;32m--> 833\u001b[0;31m         \u001b[0mresult\u001b[0m \u001b[0;34m=\u001b[0m \u001b[0mself\u001b[0m\u001b[0;34m.\u001b[0m\u001b[0m_call\u001b[0m\u001b[0;34m(\u001b[0m\u001b[0;34m*\u001b[0m\u001b[0margs\u001b[0m\u001b[0;34m,\u001b[0m \u001b[0;34m**\u001b[0m\u001b[0mkwds\u001b[0m\u001b[0;34m)\u001b[0m\u001b[0;34m\u001b[0m\u001b[0;34m\u001b[0m\u001b[0m\n\u001b[0m\u001b[1;32m    834\u001b[0m \u001b[0;34m\u001b[0m\u001b[0m\n\u001b[1;32m    835\u001b[0m       \u001b[0mnew_tracing_count\u001b[0m \u001b[0;34m=\u001b[0m \u001b[0mself\u001b[0m\u001b[0;34m.\u001b[0m\u001b[0mexperimental_get_tracing_count\u001b[0m\u001b[0;34m(\u001b[0m\u001b[0;34m)\u001b[0m\u001b[0;34m\u001b[0m\u001b[0;34m\u001b[0m\u001b[0m\n",
            "\u001b[0;32m/usr/local/lib/python3.11/dist-packages/tensorflow/python/eager/polymorphic_function/polymorphic_function.py\u001b[0m in \u001b[0;36m_call\u001b[0;34m(self, *args, **kwds)\u001b[0m\n\u001b[1;32m    876\u001b[0m       \u001b[0;31m# In this case we have not created variables on the first call. So we can\u001b[0m\u001b[0;34m\u001b[0m\u001b[0;34m\u001b[0m\u001b[0m\n\u001b[1;32m    877\u001b[0m       \u001b[0;31m# run the first trace but we should fail if variables are created.\u001b[0m\u001b[0;34m\u001b[0m\u001b[0;34m\u001b[0m\u001b[0m\n\u001b[0;32m--> 878\u001b[0;31m       results = tracing_compilation.call_function(\n\u001b[0m\u001b[1;32m    879\u001b[0m           \u001b[0margs\u001b[0m\u001b[0;34m,\u001b[0m \u001b[0mkwds\u001b[0m\u001b[0;34m,\u001b[0m \u001b[0mself\u001b[0m\u001b[0;34m.\u001b[0m\u001b[0m_variable_creation_config\u001b[0m\u001b[0;34m\u001b[0m\u001b[0;34m\u001b[0m\u001b[0m\n\u001b[1;32m    880\u001b[0m       )\n",
            "\u001b[0;32m/usr/local/lib/python3.11/dist-packages/tensorflow/python/eager/polymorphic_function/tracing_compilation.py\u001b[0m in \u001b[0;36mcall_function\u001b[0;34m(args, kwargs, tracing_options)\u001b[0m\n\u001b[1;32m    137\u001b[0m   \u001b[0mbound_args\u001b[0m \u001b[0;34m=\u001b[0m \u001b[0mfunction\u001b[0m\u001b[0;34m.\u001b[0m\u001b[0mfunction_type\u001b[0m\u001b[0;34m.\u001b[0m\u001b[0mbind\u001b[0m\u001b[0;34m(\u001b[0m\u001b[0;34m*\u001b[0m\u001b[0margs\u001b[0m\u001b[0;34m,\u001b[0m \u001b[0;34m**\u001b[0m\u001b[0mkwargs\u001b[0m\u001b[0;34m)\u001b[0m\u001b[0;34m\u001b[0m\u001b[0;34m\u001b[0m\u001b[0m\n\u001b[1;32m    138\u001b[0m   \u001b[0mflat_inputs\u001b[0m \u001b[0;34m=\u001b[0m \u001b[0mfunction\u001b[0m\u001b[0;34m.\u001b[0m\u001b[0mfunction_type\u001b[0m\u001b[0;34m.\u001b[0m\u001b[0munpack_inputs\u001b[0m\u001b[0;34m(\u001b[0m\u001b[0mbound_args\u001b[0m\u001b[0;34m)\u001b[0m\u001b[0;34m\u001b[0m\u001b[0;34m\u001b[0m\u001b[0m\n\u001b[0;32m--> 139\u001b[0;31m   return function._call_flat(  # pylint: disable=protected-access\n\u001b[0m\u001b[1;32m    140\u001b[0m       \u001b[0mflat_inputs\u001b[0m\u001b[0;34m,\u001b[0m \u001b[0mcaptured_inputs\u001b[0m\u001b[0;34m=\u001b[0m\u001b[0mfunction\u001b[0m\u001b[0;34m.\u001b[0m\u001b[0mcaptured_inputs\u001b[0m\u001b[0;34m\u001b[0m\u001b[0;34m\u001b[0m\u001b[0m\n\u001b[1;32m    141\u001b[0m   )\n",
            "\u001b[0;32m/usr/local/lib/python3.11/dist-packages/tensorflow/python/eager/polymorphic_function/concrete_function.py\u001b[0m in \u001b[0;36m_call_flat\u001b[0;34m(self, tensor_inputs, captured_inputs)\u001b[0m\n\u001b[1;32m   1320\u001b[0m         and executing_eagerly):\n\u001b[1;32m   1321\u001b[0m       \u001b[0;31m# No tape is watching; skip to running the function.\u001b[0m\u001b[0;34m\u001b[0m\u001b[0;34m\u001b[0m\u001b[0m\n\u001b[0;32m-> 1322\u001b[0;31m       \u001b[0;32mreturn\u001b[0m \u001b[0mself\u001b[0m\u001b[0;34m.\u001b[0m\u001b[0m_inference_function\u001b[0m\u001b[0;34m.\u001b[0m\u001b[0mcall_preflattened\u001b[0m\u001b[0;34m(\u001b[0m\u001b[0margs\u001b[0m\u001b[0;34m)\u001b[0m\u001b[0;34m\u001b[0m\u001b[0;34m\u001b[0m\u001b[0m\n\u001b[0m\u001b[1;32m   1323\u001b[0m     forward_backward = self._select_forward_and_backward_functions(\n\u001b[1;32m   1324\u001b[0m         \u001b[0margs\u001b[0m\u001b[0;34m,\u001b[0m\u001b[0;34m\u001b[0m\u001b[0;34m\u001b[0m\u001b[0m\n",
            "\u001b[0;32m/usr/local/lib/python3.11/dist-packages/tensorflow/python/eager/polymorphic_function/atomic_function.py\u001b[0m in \u001b[0;36mcall_preflattened\u001b[0;34m(self, args)\u001b[0m\n\u001b[1;32m    214\u001b[0m   \u001b[0;32mdef\u001b[0m \u001b[0mcall_preflattened\u001b[0m\u001b[0;34m(\u001b[0m\u001b[0mself\u001b[0m\u001b[0;34m,\u001b[0m \u001b[0margs\u001b[0m\u001b[0;34m:\u001b[0m \u001b[0mSequence\u001b[0m\u001b[0;34m[\u001b[0m\u001b[0mcore\u001b[0m\u001b[0;34m.\u001b[0m\u001b[0mTensor\u001b[0m\u001b[0;34m]\u001b[0m\u001b[0;34m)\u001b[0m \u001b[0;34m->\u001b[0m \u001b[0mAny\u001b[0m\u001b[0;34m:\u001b[0m\u001b[0;34m\u001b[0m\u001b[0;34m\u001b[0m\u001b[0m\n\u001b[1;32m    215\u001b[0m     \u001b[0;34m\"\"\"Calls with flattened tensor inputs and returns the structured output.\"\"\"\u001b[0m\u001b[0;34m\u001b[0m\u001b[0;34m\u001b[0m\u001b[0m\n\u001b[0;32m--> 216\u001b[0;31m     \u001b[0mflat_outputs\u001b[0m \u001b[0;34m=\u001b[0m \u001b[0mself\u001b[0m\u001b[0;34m.\u001b[0m\u001b[0mcall_flat\u001b[0m\u001b[0;34m(\u001b[0m\u001b[0;34m*\u001b[0m\u001b[0margs\u001b[0m\u001b[0;34m)\u001b[0m\u001b[0;34m\u001b[0m\u001b[0;34m\u001b[0m\u001b[0m\n\u001b[0m\u001b[1;32m    217\u001b[0m     \u001b[0;32mreturn\u001b[0m \u001b[0mself\u001b[0m\u001b[0;34m.\u001b[0m\u001b[0mfunction_type\u001b[0m\u001b[0;34m.\u001b[0m\u001b[0mpack_output\u001b[0m\u001b[0;34m(\u001b[0m\u001b[0mflat_outputs\u001b[0m\u001b[0;34m)\u001b[0m\u001b[0;34m\u001b[0m\u001b[0;34m\u001b[0m\u001b[0m\n\u001b[1;32m    218\u001b[0m \u001b[0;34m\u001b[0m\u001b[0m\n",
            "\u001b[0;32m/usr/local/lib/python3.11/dist-packages/tensorflow/python/eager/polymorphic_function/atomic_function.py\u001b[0m in \u001b[0;36mcall_flat\u001b[0;34m(self, *args)\u001b[0m\n\u001b[1;32m    249\u001b[0m         \u001b[0;32mwith\u001b[0m \u001b[0mrecord\u001b[0m\u001b[0;34m.\u001b[0m\u001b[0mstop_recording\u001b[0m\u001b[0;34m(\u001b[0m\u001b[0;34m)\u001b[0m\u001b[0;34m:\u001b[0m\u001b[0;34m\u001b[0m\u001b[0;34m\u001b[0m\u001b[0m\n\u001b[1;32m    250\u001b[0m           \u001b[0;32mif\u001b[0m \u001b[0mself\u001b[0m\u001b[0;34m.\u001b[0m\u001b[0m_bound_context\u001b[0m\u001b[0;34m.\u001b[0m\u001b[0mexecuting_eagerly\u001b[0m\u001b[0;34m(\u001b[0m\u001b[0;34m)\u001b[0m\u001b[0;34m:\u001b[0m\u001b[0;34m\u001b[0m\u001b[0;34m\u001b[0m\u001b[0m\n\u001b[0;32m--> 251\u001b[0;31m             outputs = self._bound_context.call_function(\n\u001b[0m\u001b[1;32m    252\u001b[0m                 \u001b[0mself\u001b[0m\u001b[0;34m.\u001b[0m\u001b[0mname\u001b[0m\u001b[0;34m,\u001b[0m\u001b[0;34m\u001b[0m\u001b[0;34m\u001b[0m\u001b[0m\n\u001b[1;32m    253\u001b[0m                 \u001b[0mlist\u001b[0m\u001b[0;34m(\u001b[0m\u001b[0margs\u001b[0m\u001b[0;34m)\u001b[0m\u001b[0;34m,\u001b[0m\u001b[0;34m\u001b[0m\u001b[0;34m\u001b[0m\u001b[0m\n",
            "\u001b[0;32m/usr/local/lib/python3.11/dist-packages/tensorflow/python/eager/context.py\u001b[0m in \u001b[0;36mcall_function\u001b[0;34m(self, name, tensor_inputs, num_outputs)\u001b[0m\n\u001b[1;32m   1681\u001b[0m     \u001b[0mcancellation_context\u001b[0m \u001b[0;34m=\u001b[0m \u001b[0mcancellation\u001b[0m\u001b[0;34m.\u001b[0m\u001b[0mcontext\u001b[0m\u001b[0;34m(\u001b[0m\u001b[0;34m)\u001b[0m\u001b[0;34m\u001b[0m\u001b[0;34m\u001b[0m\u001b[0m\n\u001b[1;32m   1682\u001b[0m     \u001b[0;32mif\u001b[0m \u001b[0mcancellation_context\u001b[0m \u001b[0;32mis\u001b[0m \u001b[0;32mNone\u001b[0m\u001b[0;34m:\u001b[0m\u001b[0;34m\u001b[0m\u001b[0;34m\u001b[0m\u001b[0m\n\u001b[0;32m-> 1683\u001b[0;31m       outputs = execute.execute(\n\u001b[0m\u001b[1;32m   1684\u001b[0m           \u001b[0mname\u001b[0m\u001b[0;34m.\u001b[0m\u001b[0mdecode\u001b[0m\u001b[0;34m(\u001b[0m\u001b[0;34m\"utf-8\"\u001b[0m\u001b[0;34m)\u001b[0m\u001b[0;34m,\u001b[0m\u001b[0;34m\u001b[0m\u001b[0;34m\u001b[0m\u001b[0m\n\u001b[1;32m   1685\u001b[0m           \u001b[0mnum_outputs\u001b[0m\u001b[0;34m=\u001b[0m\u001b[0mnum_outputs\u001b[0m\u001b[0;34m,\u001b[0m\u001b[0;34m\u001b[0m\u001b[0;34m\u001b[0m\u001b[0m\n",
            "\u001b[0;32m/usr/local/lib/python3.11/dist-packages/tensorflow/python/eager/execute.py\u001b[0m in \u001b[0;36mquick_execute\u001b[0;34m(op_name, num_outputs, inputs, attrs, ctx, name)\u001b[0m\n\u001b[1;32m     51\u001b[0m   \u001b[0;32mtry\u001b[0m\u001b[0;34m:\u001b[0m\u001b[0;34m\u001b[0m\u001b[0;34m\u001b[0m\u001b[0m\n\u001b[1;32m     52\u001b[0m     \u001b[0mctx\u001b[0m\u001b[0;34m.\u001b[0m\u001b[0mensure_initialized\u001b[0m\u001b[0;34m(\u001b[0m\u001b[0;34m)\u001b[0m\u001b[0;34m\u001b[0m\u001b[0;34m\u001b[0m\u001b[0m\n\u001b[0;32m---> 53\u001b[0;31m     tensors = pywrap_tfe.TFE_Py_Execute(ctx._handle, device_name, op_name,\n\u001b[0m\u001b[1;32m     54\u001b[0m                                         inputs, attrs, num_outputs)\n\u001b[1;32m     55\u001b[0m   \u001b[0;32mexcept\u001b[0m \u001b[0mcore\u001b[0m\u001b[0;34m.\u001b[0m\u001b[0m_NotOkStatusException\u001b[0m \u001b[0;32mas\u001b[0m \u001b[0me\u001b[0m\u001b[0;34m:\u001b[0m\u001b[0;34m\u001b[0m\u001b[0;34m\u001b[0m\u001b[0m\n",
            "\u001b[0;31mKeyboardInterrupt\u001b[0m: "
          ]
        }
      ]
    },
    {
      "cell_type": "markdown",
      "source": [
        "### Standard View of the Accuracy and Loss During Training, maybe more."
      ],
      "metadata": {
        "id": "bG1lcn3sFd8t"
      }
    },
    {
      "cell_type": "code",
      "source": [
        "!head -n 20 training.log\n",
        "!tail -n 20 training.log"
      ],
      "metadata": {
        "id": "rruXIxv1geJj"
      },
      "execution_count": null,
      "outputs": []
    },
    {
      "cell_type": "code",
      "source": [
        "plt.plot(history.history['accuracy'], label='accuracy')\n",
        "plt.plot(history.history['val_accuracy'], label = 'val_accuracy')\n",
        "plt.xlabel('Epoch')\n",
        "plt.ylabel('Accuracy')\n",
        "plt.ylim([0.5, 1])\n",
        "plt.legend(loc='lower right')"
      ],
      "metadata": {
        "colab": {
          "base_uri": "https://localhost:8080/",
          "height": 220
        },
        "collapsed": true,
        "id": "KUtdeL61Fu1f",
        "outputId": "205c2bc0-406d-4f6d-de23-6c1f1ba9e009"
      },
      "execution_count": 1,
      "outputs": [
        {
          "output_type": "error",
          "ename": "NameError",
          "evalue": "name 'plt' is not defined",
          "traceback": [
            "\u001b[0;31m---------------------------------------------------------------------------\u001b[0m",
            "\u001b[0;31mNameError\u001b[0m                                 Traceback (most recent call last)",
            "\u001b[0;32m<ipython-input-1-eaeb40ec4f7d>\u001b[0m in \u001b[0;36m<cell line: 0>\u001b[0;34m()\u001b[0m\n\u001b[0;32m----> 1\u001b[0;31m \u001b[0mplt\u001b[0m\u001b[0;34m.\u001b[0m\u001b[0mplot\u001b[0m\u001b[0;34m(\u001b[0m\u001b[0mhistory\u001b[0m\u001b[0;34m.\u001b[0m\u001b[0mhistory\u001b[0m\u001b[0;34m[\u001b[0m\u001b[0;34m'accuracy'\u001b[0m\u001b[0;34m]\u001b[0m\u001b[0;34m,\u001b[0m \u001b[0mlabel\u001b[0m\u001b[0;34m=\u001b[0m\u001b[0;34m'accuracy'\u001b[0m\u001b[0;34m)\u001b[0m\u001b[0;34m\u001b[0m\u001b[0;34m\u001b[0m\u001b[0m\n\u001b[0m\u001b[1;32m      2\u001b[0m \u001b[0mplt\u001b[0m\u001b[0;34m.\u001b[0m\u001b[0mplot\u001b[0m\u001b[0;34m(\u001b[0m\u001b[0mhistory\u001b[0m\u001b[0;34m.\u001b[0m\u001b[0mhistory\u001b[0m\u001b[0;34m[\u001b[0m\u001b[0;34m'val_accuracy'\u001b[0m\u001b[0;34m]\u001b[0m\u001b[0;34m,\u001b[0m \u001b[0mlabel\u001b[0m \u001b[0;34m=\u001b[0m \u001b[0;34m'val_accuracy'\u001b[0m\u001b[0;34m)\u001b[0m\u001b[0;34m\u001b[0m\u001b[0;34m\u001b[0m\u001b[0m\n\u001b[1;32m      3\u001b[0m \u001b[0mplt\u001b[0m\u001b[0;34m.\u001b[0m\u001b[0mxlabel\u001b[0m\u001b[0;34m(\u001b[0m\u001b[0;34m'Epoch'\u001b[0m\u001b[0;34m)\u001b[0m\u001b[0;34m\u001b[0m\u001b[0;34m\u001b[0m\u001b[0m\n\u001b[1;32m      4\u001b[0m \u001b[0mplt\u001b[0m\u001b[0;34m.\u001b[0m\u001b[0mylabel\u001b[0m\u001b[0;34m(\u001b[0m\u001b[0;34m'Accuracy'\u001b[0m\u001b[0;34m)\u001b[0m\u001b[0;34m\u001b[0m\u001b[0;34m\u001b[0m\u001b[0m\n\u001b[1;32m      5\u001b[0m \u001b[0mplt\u001b[0m\u001b[0;34m.\u001b[0m\u001b[0mylim\u001b[0m\u001b[0;34m(\u001b[0m\u001b[0;34m[\u001b[0m\u001b[0;36m0.5\u001b[0m\u001b[0;34m,\u001b[0m \u001b[0;36m1\u001b[0m\u001b[0;34m]\u001b[0m\u001b[0;34m)\u001b[0m\u001b[0;34m\u001b[0m\u001b[0;34m\u001b[0m\u001b[0m\n",
            "\u001b[0;31mNameError\u001b[0m: name 'plt' is not defined"
          ]
        }
      ]
    },
    {
      "cell_type": "markdown",
      "source": [
        "## And now, run it on our test set."
      ],
      "metadata": {
        "id": "SIpt0auDF2Hv"
      }
    },
    {
      "cell_type": "code",
      "source": [
        "test_locc, test_acc = model_0.evaluate(\n",
        "    x_test,  y_test,\n",
        "    verbose=2)"
      ],
      "metadata": {
        "id": "HYtoM2RGFzfW"
      },
      "execution_count": null,
      "outputs": []
    },
    {
      "cell_type": "markdown",
      "source": [
        "## Here are some nice pictures that will be goals for visualizations <br/>and explanations of Grad-CAM that should help explain things."
      ],
      "metadata": {
        "id": "xKGhr2EDo15Q"
      }
    },
    {
      "cell_type": "markdown",
      "source": [
        "Lots of these come from a nice site, learnopencv.com\n",
        "\n",
        "I feel the creators do a really good job with visualization. The other sources are below all the images."
      ],
      "metadata": {
        "id": "D2vpRMnpoLNT"
      }
    },
    {
      "cell_type": "markdown",
      "source": [
        "<br/>\n",
        "<div>\n",
        "  <img src=\"https://raw.githubusercontent.com/bballdave025/rib-wrist-in-bin-din/refs/heads/main/img/cnn_analyticsvidhya.png\"\n",
        "       alt=\"CNN\"\n",
        "       width=\"750px\">\n",
        "</div>\n",
        "<br/>"
      ],
      "metadata": {
        "id": "zrWe8esjxxmR"
      }
    },
    {
      "cell_type": "markdown",
      "source": [
        "<br/>\n",
        "<div>\n",
        "  <img src=\"https://raw.githubusercontent.com/bballdave025/rib-wrist-in-bin-din/refs/heads/main/img/cnn_learnopencv_04.png\"\n",
        "       alt=\"CNN\"\n",
        "       width=\"750px\">\n",
        "</div>\n",
        "<br/>"
      ],
      "metadata": {
        "id": "1Qg1HxAoxxkI"
      }
    },
    {
      "cell_type": "markdown",
      "source": [
        "<br/>\n",
        "<div>\n",
        "  <img src=\"https://raw.githubusercontent.com/bballdave025/rib-wrist-in-bin-din/refs/heads/main/img/cnn_learnopencv_05.png\"\n",
        "       alt=\"CNN\"\n",
        "       width=\"750px\">\n",
        "</div>\n",
        "<br/>"
      ],
      "metadata": {
        "id": "Hzo4vcVBxxh7"
      }
    },
    {
      "cell_type": "markdown",
      "source": [
        "<br/>\n",
        "<div>\n",
        "  <img src=\"https://raw.githubusercontent.com/bballdave025/rib-wrist-in-bin-din/refs/heads/main/img/cnn_learnopencv_06.png\"\n",
        "       alt=\"CNN\"\n",
        "       width=\"1000px\">\n",
        "</div>\n",
        "<br/>"
      ],
      "metadata": {
        "id": "rT3pClxDxxfa"
      }
    },
    {
      "cell_type": "markdown",
      "source": [
        "<br/>\n",
        "<div>\n",
        "  <img src=\"https://raw.githubusercontent.com/bballdave025/rib-wrist-in-bin-din/refs/heads/main/img/cnn_learnopencv_01.png\"\n",
        "       alt=\"CNN Code and Architecture Mix\"\n",
        "       width=\"500px\">\n",
        "</div>\n",
        "<br/>"
      ],
      "metadata": {
        "id": "7ZOnCGF2xxbu"
      }
    },
    {
      "cell_type": "markdown",
      "source": [
        "That shows a bit how we get to a point where they might trust us. Now observe the Grad-CAM wonder."
      ],
      "metadata": {
        "id": "VL4vpFFHng4i"
      }
    },
    {
      "cell_type": "markdown",
      "source": [
        "<br/>\n",
        "<div>\n",
        "  <img src=\"https://raw.githubusercontent.com/bballdave025/rib-wrist-in-bin-din/refs/heads/main/img/orig_image_grad_camm_fig_2-1.png\"\n",
        "       alt=\"Grad-CAM Cat and Dog, Original\"\n",
        "       width=\"500px\">\n",
        "</div>\n",
        "<br/>"
      ],
      "metadata": {
        "id": "Kd1rmlf3xxZB"
      }
    },
    {
      "cell_type": "markdown",
      "source": [
        "<br/>\n",
        "<div>\n",
        "  <img src=\"https://raw.githubusercontent.com/bballdave025/rib-wrist-in-bin-din/refs/heads/main/img/combination_dog_guidedbackprop_and_gradcam_then_ResNet.png\"\n",
        "       alt=\"Grad-Cam for dog, combined\"\n",
        "       width=\"500px\">\n",
        "</div>\n",
        "<br/>"
      ],
      "metadata": {
        "id": "oJjC5J_fptgo"
      }
    },
    {
      "cell_type": "markdown",
      "source": [
        "<br/>\n",
        "<div>\n",
        "  <img src=\"https://raw.githubusercontent.com/bballdave025/rib-wrist-in-bin-din/refs/heads/main/img/combination_dog_guidedbackprop_and_gradcam_then_ResNet.png\"\n",
        "       alt=\"Grad-Cam Dog details, combined\"\n",
        "       width=\"500px\">\n",
        "</div>\n",
        "<br/>"
      ],
      "metadata": {
        "id": "CtbnkVL8xxVU"
      }
    },
    {
      "cell_type": "markdown",
      "source": [
        "Pretty convincing for me. I would definitely call this explainable AI."
      ],
      "metadata": {
        "id": "Eclt_KMSxxQ-"
      }
    },
    {
      "cell_type": "markdown",
      "source": [
        "<br/>\n",
        "<div>\n",
        "  <img src=\"https://raw.githubusercontent.com/bballdave025/rib-wrist-in-bin-din/refs/heads/main/img/interesting_semantic_segmentation_gradcam.png\"\n",
        "       alt=\"Grad-Cam\"\n",
        "       width=\"500px\">\n",
        "</div>\n",
        "<br/>"
      ],
      "metadata": {
        "id": "zaOr87WZxxLl"
      }
    },
    {
      "cell_type": "markdown",
      "source": [
        "<br/>\n",
        "<div>\n",
        "  <img src=\"https://raw.githubusercontent.com/bballdave025/rib-wrist-in-bin-din/refs/heads/main/img/decisions_for_right_reasons_gender_issue_gradcam.png\"\n",
        "       alt=\"Grad-Cam important gender issue\"\n",
        "       width=\"500px\">\n",
        "</div>\n",
        "<br/>"
      ],
      "metadata": {
        "id": "1XpuMOGAxxFW"
      }
    },
    {
      "cell_type": "code",
      "source": [
        "# https://pyimagesearch.com/2021/07/19/pytorch-training-your-first-convolutional-neural-network-cnn/"
      ],
      "metadata": {
        "id": "RCtmkpi8gd54"
      },
      "execution_count": null,
      "outputs": []
    },
    {
      "cell_type": "markdown",
      "source": [
        "-yGHUa5PL4A"
      ],
      "metadata": {
        "id": "p2NDxK9Ege9B"
      }
    },
    {
      "cell_type": "markdown",
      "source": [
        "Fine-Tuning ResNet50 A Practical Guide by It's Amit Jan 2025"
      ],
      "metadata": {
        "id": "Y-BaDy1rcdgu"
      }
    },
    {
      "cell_type": "markdown",
      "source": [
        "https://adamharley.com/nn_vis/cnn/3d.html"
      ],
      "metadata": {
        "id": "OnIgx-71ptCa"
      }
    },
    {
      "cell_type": "markdown",
      "source": [
        "https://github.com/ashishpatel26/Tools-to-Design-or-Visualize-Architecture-of-Neural-Network\n",
        "https://datascience.stackexchange.com/questions/12851/how-do-you-visualize-neural-network-architectures\n",
        "https://datascience.stackexchange.com/questions/2670/visualizing-deep-neural-network-training\n",
        "https://learnopencv.com/understanding-convolutional-neural-networks-cnn/\n",
        "https://www.analyticsvidhya.com/blog/2020/10/what-is-the-convolutional-neural-network-architecture/\n"
      ],
      "metadata": {
        "id": "ylzaU8CQps0L"
      }
    },
    {
      "cell_type": "markdown",
      "source": [
        "https://www.researchgate.net/figure/The-overall-LeNet-architecture-The-numbers-at-the-convolution-and-pooling-layers_fig2_318972455"
      ],
      "metadata": {
        "id": "wbaKnpc3psWC"
      }
    },
    {
      "cell_type": "markdown",
      "source": [
        "https://pyimagesearch.com/2020/03/09/grad-cam-visualize-class-activation-maps-with-keras-tensorflow-and-deep-learning/\n",
        "\n",
        "https://github.com/jacobgil/pytorch-grad-cam"
      ],
      "metadata": {
        "id": "kCa4u7DTv4bQ"
      }
    },
    {
      "cell_type": "code",
      "source": [],
      "metadata": {
        "id": "kYq0bZXxgd2d"
      },
      "execution_count": null,
      "outputs": []
    }
  ]
}